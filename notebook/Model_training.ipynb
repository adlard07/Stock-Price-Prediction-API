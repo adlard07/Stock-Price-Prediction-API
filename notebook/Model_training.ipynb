{
 "cells": [
  {
   "cell_type": "markdown",
   "metadata": {},
   "source": [
    "## NIFTY-FIFTY Stock Price Prediction using LSTM"
   ]
  },
  {
   "cell_type": "markdown",
   "metadata": {},
   "source": [
    "Importing Libraries"
   ]
  },
  {
   "cell_type": "code",
   "execution_count": 1,
   "metadata": {},
   "outputs": [
    {
     "name": "stderr",
     "output_type": "stream",
     "text": [
      "C:\\Users\\Home\\AppData\\Local\\Temp/ipykernel_5384/3778081498.py:13: DeprecationWarning: `import kerastuner` is deprecated, please use `import keras_tuner`.\n",
      "  import kerastuner as kt\n"
     ]
    }
   ],
   "source": [
    "import numpy as np\n",
    "from numpy import array\n",
    "import pandas as pd\n",
    "import math\n",
    "from datetime import date\n",
    "import matplotlib.pyplot as plt\n",
    "from sklearn.preprocessing import MinMaxScaler\n",
    "from sklearn.metrics import mean_squared_error as mse\n",
    "from tensorflow.keras.models import Sequential\n",
    "from tensorflow.keras import layers\n",
    "from tensorflow.keras.optimizers import RMSprop,Adam,Adagrad,Adamax,Nadam\n",
    "from yahoo_fin.stock_info import get_data\n",
    "import kerastuner as kt"
   ]
  },
  {
   "cell_type": "markdown",
   "metadata": {},
   "source": [
    "Importing Data"
   ]
  },
  {
   "cell_type": "code",
   "execution_count": 2,
   "metadata": {},
   "outputs": [
    {
     "data": {
      "text/html": [
       "<div>\n",
       "<style scoped>\n",
       "    .dataframe tbody tr th:only-of-type {\n",
       "        vertical-align: middle;\n",
       "    }\n",
       "\n",
       "    .dataframe tbody tr th {\n",
       "        vertical-align: top;\n",
       "    }\n",
       "\n",
       "    .dataframe thead th {\n",
       "        text-align: right;\n",
       "    }\n",
       "</style>\n",
       "<table border=\"1\" class=\"dataframe\">\n",
       "  <thead>\n",
       "    <tr style=\"text-align: right;\">\n",
       "      <th></th>\n",
       "      <th>open</th>\n",
       "      <th>high</th>\n",
       "      <th>low</th>\n",
       "      <th>close</th>\n",
       "      <th>adjclose</th>\n",
       "      <th>volume</th>\n",
       "      <th>ticker</th>\n",
       "      <th>Date</th>\n",
       "    </tr>\n",
       "  </thead>\n",
       "  <tbody>\n",
       "    <tr>\n",
       "      <th>2018-01-08</th>\n",
       "      <td>10591.700195</td>\n",
       "      <td>10631.200195</td>\n",
       "      <td>10588.549805</td>\n",
       "      <td>10623.599609</td>\n",
       "      <td>10623.599609</td>\n",
       "      <td>169000.0</td>\n",
       "      <td>^NSEI</td>\n",
       "      <td>2018-01-08</td>\n",
       "    </tr>\n",
       "    <tr>\n",
       "      <th>2018-01-09</th>\n",
       "      <td>10645.099609</td>\n",
       "      <td>10659.150391</td>\n",
       "      <td>10603.599609</td>\n",
       "      <td>10637.000000</td>\n",
       "      <td>10637.000000</td>\n",
       "      <td>205000.0</td>\n",
       "      <td>^NSEI</td>\n",
       "      <td>2018-01-09</td>\n",
       "    </tr>\n",
       "    <tr>\n",
       "      <th>2018-01-10</th>\n",
       "      <td>10652.049805</td>\n",
       "      <td>10655.500000</td>\n",
       "      <td>10592.700195</td>\n",
       "      <td>10632.200195</td>\n",
       "      <td>10632.200195</td>\n",
       "      <td>176400.0</td>\n",
       "      <td>^NSEI</td>\n",
       "      <td>2018-01-10</td>\n",
       "    </tr>\n",
       "    <tr>\n",
       "      <th>2018-01-11</th>\n",
       "      <td>10637.049805</td>\n",
       "      <td>10664.599609</td>\n",
       "      <td>10612.349609</td>\n",
       "      <td>10651.200195</td>\n",
       "      <td>10651.200195</td>\n",
       "      <td>153800.0</td>\n",
       "      <td>^NSEI</td>\n",
       "      <td>2018-01-11</td>\n",
       "    </tr>\n",
       "    <tr>\n",
       "      <th>2018-01-12</th>\n",
       "      <td>10682.549805</td>\n",
       "      <td>10690.400391</td>\n",
       "      <td>10597.099609</td>\n",
       "      <td>10681.250000</td>\n",
       "      <td>10681.250000</td>\n",
       "      <td>175200.0</td>\n",
       "      <td>^NSEI</td>\n",
       "      <td>2018-01-12</td>\n",
       "    </tr>\n",
       "  </tbody>\n",
       "</table>\n",
       "</div>"
      ],
      "text/plain": [
       "                    open          high           low         close  \\\n",
       "2018-01-08  10591.700195  10631.200195  10588.549805  10623.599609   \n",
       "2018-01-09  10645.099609  10659.150391  10603.599609  10637.000000   \n",
       "2018-01-10  10652.049805  10655.500000  10592.700195  10632.200195   \n",
       "2018-01-11  10637.049805  10664.599609  10612.349609  10651.200195   \n",
       "2018-01-12  10682.549805  10690.400391  10597.099609  10681.250000   \n",
       "\n",
       "                adjclose    volume ticker       Date  \n",
       "2018-01-08  10623.599609  169000.0  ^NSEI 2018-01-08  \n",
       "2018-01-09  10637.000000  205000.0  ^NSEI 2018-01-09  \n",
       "2018-01-10  10632.200195  176400.0  ^NSEI 2018-01-10  \n",
       "2018-01-11  10651.200195  153800.0  ^NSEI 2018-01-11  \n",
       "2018-01-12  10681.250000  175200.0  ^NSEI 2018-01-12  "
      ]
     },
     "execution_count": 2,
     "metadata": {},
     "output_type": "execute_result"
    }
   ],
   "source": [
    "this_day = date.today()\n",
    "today = this_day.strftime(\"%d/%m/%Y\")\n",
    "data = get_data(\"^NSEI\", start_date=\"01/07/2018\", end_date=today, index_as_date = True)\n",
    "\n",
    "data['Date'] = pd.to_datetime(data.index, errors='coerce')\n",
    "data.head()"
   ]
  },
  {
   "cell_type": "code",
   "execution_count": 3,
   "metadata": {},
   "outputs": [
    {
     "data": {
      "text/plain": [
       "Index(['open', 'high', 'low', 'close', 'adjclose', 'volume', 'ticker', 'Date'], dtype='object')"
      ]
     },
     "execution_count": 3,
     "metadata": {},
     "output_type": "execute_result"
    }
   ],
   "source": [
    "data.columns"
   ]
  },
  {
   "cell_type": "code",
   "execution_count": 4,
   "metadata": {},
   "outputs": [
    {
     "data": {
      "text/plain": [
       "open        3\n",
       "high        3\n",
       "low         3\n",
       "close       3\n",
       "adjclose    3\n",
       "volume      3\n",
       "ticker      0\n",
       "Date        0\n",
       "dtype: int64"
      ]
     },
     "execution_count": 4,
     "metadata": {},
     "output_type": "execute_result"
    }
   ],
   "source": [
    "data.isnull().sum()"
   ]
  },
  {
   "cell_type": "code",
   "execution_count": 5,
   "metadata": {},
   "outputs": [],
   "source": [
    "data = data.dropna()"
   ]
  },
  {
   "cell_type": "markdown",
   "metadata": {},
   "source": [
    "Reseting the Indexes"
   ]
  },
  {
   "cell_type": "code",
   "execution_count": 6,
   "metadata": {},
   "outputs": [
    {
     "data": {
      "text/plain": [
       "(1370,)"
      ]
     },
     "execution_count": 6,
     "metadata": {},
     "output_type": "execute_result"
    }
   ],
   "source": [
    "dataframe = data.reset_index()['close']\n",
    "dataframe.shape"
   ]
  },
  {
   "cell_type": "markdown",
   "metadata": {},
   "source": [
    "Scaling The Data"
   ]
  },
  {
   "cell_type": "code",
   "execution_count": 7,
   "metadata": {},
   "outputs": [
    {
     "data": {
      "text/plain": [
       "(1370, 1)"
      ]
     },
     "execution_count": 7,
     "metadata": {},
     "output_type": "execute_result"
    }
   ],
   "source": [
    "scaler = MinMaxScaler(feature_range=(0, 1))\n",
    "df = scaler.fit_transform(np.array(dataframe).reshape(-1, 1))\n",
    "df.shape"
   ]
  },
  {
   "cell_type": "markdown",
   "metadata": {},
   "source": [
    "Dividing the Data Into Training And Testing "
   ]
  },
  {
   "cell_type": "code",
   "execution_count": 8,
   "metadata": {},
   "outputs": [
    {
     "data": {
      "text/plain": [
       "((958, 1), (412, 1))"
      ]
     },
     "execution_count": 8,
     "metadata": {},
     "output_type": "execute_result"
    }
   ],
   "source": [
    "training_size=int(len(df)*0.70)\n",
    "test_size=len(df)-training_size\n",
    "train_data,test_data=df[0:training_size,:],df[training_size:len(df),:1]\n",
    "train_data.shape, test_data.shape"
   ]
  },
  {
   "cell_type": "markdown",
   "metadata": {},
   "source": [
    "Creating a function to make Input Training and Output Training Splits"
   ]
  },
  {
   "cell_type": "code",
   "execution_count": 9,
   "metadata": {},
   "outputs": [],
   "source": [
    "def create_dataset(dataset, time_step=1):\n",
    "\tdataX, dataY = [], []\n",
    "\tfor i in range(len(dataset)-time_step-1):\n",
    "\t\ta = dataset[i:(i+time_step), 0]  \n",
    "\t\tdataX.append(a)\n",
    "\t\tdataY.append(dataset[i + time_step, 0])\n",
    "\treturn np.array(dataX), np.array(dataY)"
   ]
  },
  {
   "cell_type": "code",
   "execution_count": 10,
   "metadata": {},
   "outputs": [
    {
     "data": {
      "text/plain": [
       "((927, 30), (381,))"
      ]
     },
     "execution_count": 10,
     "metadata": {},
     "output_type": "execute_result"
    }
   ],
   "source": [
    "timestep = 30\n",
    "X_train, y_train = create_dataset(dataset=train_data, time_step=timestep)\n",
    "X_test, y_test = create_dataset(dataset=test_data, time_step=timestep)\n",
    "X_train.shape, y_test.shape"
   ]
  },
  {
   "cell_type": "code",
   "execution_count": 11,
   "metadata": {},
   "outputs": [
    {
     "data": {
      "text/plain": [
       "((927, 30, 1), (381,))"
      ]
     },
     "execution_count": 11,
     "metadata": {},
     "output_type": "execute_result"
    }
   ],
   "source": [
    "X_train = X_train.reshape(X_train.shape[0], X_train.shape[1], 1)\n",
    "X_test = X_test.reshape(X_test.shape[0], X_test.shape[1], 1)\n",
    "X_train.shape, y_test.shape"
   ]
  },
  {
   "cell_type": "markdown",
   "metadata": {},
   "source": [
    "### Model Building"
   ]
  },
  {
   "cell_type": "markdown",
   "metadata": {},
   "source": [
    "Giving Model Parameters"
   ]
  },
  {
   "cell_type": "code",
   "execution_count": 12,
   "metadata": {},
   "outputs": [],
   "source": [
    "model = Sequential([\n",
    "    layers.Input((30, 1)),\n",
    "    layers.LSTM(64),\n",
    "    layers.Dense(32, activation='relu'),\n",
    "    layers.Dense(16, activation='relu'),\n",
    "    layers.Dense(8, activation='linear'),\n",
    "    layers.Dense(1)\n",
    "])\n",
    "\n",
    "model.compile(optimizer=Adam(learning_rate=0.01), metrics=['mean_squared_error', 'accuracy'], loss='mse')"
   ]
  },
  {
   "cell_type": "code",
   "execution_count": 13,
   "metadata": {},
   "outputs": [
    {
     "name": "stdout",
     "output_type": "stream",
     "text": [
      "Model: \"sequential\"\n",
      "_________________________________________________________________\n",
      " Layer (type)                Output Shape              Param #   \n",
      "=================================================================\n",
      " lstm (LSTM)                 (None, 64)                16896     \n",
      "                                                                 \n",
      " dense (Dense)               (None, 32)                2080      \n",
      "                                                                 \n",
      " dense_1 (Dense)             (None, 16)                528       \n",
      "                                                                 \n",
      " dense_2 (Dense)             (None, 8)                 136       \n",
      "                                                                 \n",
      " dense_3 (Dense)             (None, 1)                 9         \n",
      "                                                                 \n",
      "=================================================================\n",
      "Total params: 19,649\n",
      "Trainable params: 19,649\n",
      "Non-trainable params: 0\n",
      "_________________________________________________________________\n"
     ]
    }
   ],
   "source": [
    "model.summary()"
   ]
  },
  {
   "cell_type": "markdown",
   "metadata": {},
   "source": [
    "Model Fitting"
   ]
  },
  {
   "cell_type": "code",
   "execution_count": 14,
   "metadata": {
    "scrolled": true
   },
   "outputs": [
    {
     "name": "stdout",
     "output_type": "stream",
     "text": [
      "Epoch 1/200\n",
      "93/93 [==============================] - 6s 21ms/step - loss: 0.0082 - mean_squared_error: 0.0082 - accuracy: 0.0011 - val_loss: 5.0450e-04 - val_mean_squared_error: 5.0450e-04 - val_accuracy: 0.0026\n",
      "Epoch 2/200\n",
      "93/93 [==============================] - 1s 12ms/step - loss: 3.4878e-04 - mean_squared_error: 3.4878e-04 - accuracy: 0.0011 - val_loss: 4.6500e-04 - val_mean_squared_error: 4.6500e-04 - val_accuracy: 0.0026\n",
      "Epoch 3/200\n",
      "93/93 [==============================] - 1s 12ms/step - loss: 4.8641e-04 - mean_squared_error: 4.8641e-04 - accuracy: 0.0011 - val_loss: 3.9711e-04 - val_mean_squared_error: 3.9711e-04 - val_accuracy: 0.0026\n",
      "Epoch 4/200\n",
      "93/93 [==============================] - 1s 13ms/step - loss: 4.3055e-04 - mean_squared_error: 4.3055e-04 - accuracy: 0.0011 - val_loss: 0.0018 - val_mean_squared_error: 0.0018 - val_accuracy: 0.0026\n",
      "Epoch 5/200\n",
      "93/93 [==============================] - 1s 13ms/step - loss: 4.8193e-04 - mean_squared_error: 4.8193e-04 - accuracy: 0.0011 - val_loss: 0.0036 - val_mean_squared_error: 0.0036 - val_accuracy: 0.0026\n",
      "Epoch 6/200\n",
      "93/93 [==============================] - 1s 12ms/step - loss: 3.8266e-04 - mean_squared_error: 3.8266e-04 - accuracy: 0.0011 - val_loss: 5.9503e-04 - val_mean_squared_error: 5.9503e-04 - val_accuracy: 0.0026\n",
      "Epoch 7/200\n",
      "93/93 [==============================] - 1s 12ms/step - loss: 3.2411e-04 - mean_squared_error: 3.2411e-04 - accuracy: 0.0011 - val_loss: 3.8820e-04 - val_mean_squared_error: 3.8820e-04 - val_accuracy: 0.0026\n",
      "Epoch 8/200\n",
      "93/93 [==============================] - 1s 12ms/step - loss: 3.2660e-04 - mean_squared_error: 3.2660e-04 - accuracy: 0.0011 - val_loss: 0.0046 - val_mean_squared_error: 0.0046 - val_accuracy: 0.0026\n",
      "Epoch 9/200\n",
      "93/93 [==============================] - 1s 12ms/step - loss: 0.0010 - mean_squared_error: 0.0010 - accuracy: 0.0011 - val_loss: 9.4299e-04 - val_mean_squared_error: 9.4299e-04 - val_accuracy: 0.0026\n",
      "Epoch 10/200\n",
      "93/93 [==============================] - 1s 12ms/step - loss: 2.8668e-04 - mean_squared_error: 2.8668e-04 - accuracy: 0.0011 - val_loss: 3.4108e-04 - val_mean_squared_error: 3.4108e-04 - val_accuracy: 0.0026\n",
      "Epoch 11/200\n",
      "93/93 [==============================] - 1s 12ms/step - loss: 3.2744e-04 - mean_squared_error: 3.2744e-04 - accuracy: 0.0011 - val_loss: 2.1633e-04 - val_mean_squared_error: 2.1633e-04 - val_accuracy: 0.0026\n",
      "Epoch 12/200\n",
      "93/93 [==============================] - 1s 12ms/step - loss: 2.6484e-04 - mean_squared_error: 2.6484e-04 - accuracy: 0.0011 - val_loss: 2.7415e-04 - val_mean_squared_error: 2.7415e-04 - val_accuracy: 0.0026\n",
      "Epoch 13/200\n",
      "93/93 [==============================] - 1s 12ms/step - loss: 2.5429e-04 - mean_squared_error: 2.5429e-04 - accuracy: 0.0011 - val_loss: 2.1338e-04 - val_mean_squared_error: 2.1338e-04 - val_accuracy: 0.0026\n",
      "Epoch 14/200\n",
      "93/93 [==============================] - 1s 13ms/step - loss: 2.9237e-04 - mean_squared_error: 2.9237e-04 - accuracy: 0.0011 - val_loss: 8.7437e-04 - val_mean_squared_error: 8.7437e-04 - val_accuracy: 0.0026\n",
      "Epoch 15/200\n",
      "93/93 [==============================] - 1s 12ms/step - loss: 3.2457e-04 - mean_squared_error: 3.2457e-04 - accuracy: 0.0011 - val_loss: 4.6515e-04 - val_mean_squared_error: 4.6515e-04 - val_accuracy: 0.0026\n",
      "Epoch 16/200\n",
      "93/93 [==============================] - 1s 12ms/step - loss: 4.9472e-04 - mean_squared_error: 4.9472e-04 - accuracy: 0.0011 - val_loss: 4.1877e-04 - val_mean_squared_error: 4.1877e-04 - val_accuracy: 0.0026\n",
      "Epoch 17/200\n",
      "93/93 [==============================] - 1s 12ms/step - loss: 2.3056e-04 - mean_squared_error: 2.3056e-04 - accuracy: 0.0011 - val_loss: 1.8957e-04 - val_mean_squared_error: 1.8957e-04 - val_accuracy: 0.0026\n",
      "Epoch 18/200\n",
      "93/93 [==============================] - 1s 12ms/step - loss: 3.3211e-04 - mean_squared_error: 3.3211e-04 - accuracy: 0.0011 - val_loss: 3.5131e-04 - val_mean_squared_error: 3.5131e-04 - val_accuracy: 0.0026\n",
      "Epoch 19/200\n",
      "93/93 [==============================] - 1s 12ms/step - loss: 2.3653e-04 - mean_squared_error: 2.3653e-04 - accuracy: 0.0011 - val_loss: 7.5272e-04 - val_mean_squared_error: 7.5272e-04 - val_accuracy: 0.0026\n",
      "Epoch 20/200\n",
      "93/93 [==============================] - 1s 12ms/step - loss: 1.9625e-04 - mean_squared_error: 1.9625e-04 - accuracy: 0.0011 - val_loss: 1.9618e-04 - val_mean_squared_error: 1.9618e-04 - val_accuracy: 0.0026\n",
      "Epoch 21/200\n",
      "93/93 [==============================] - 1s 12ms/step - loss: 3.1266e-04 - mean_squared_error: 3.1266e-04 - accuracy: 0.0011 - val_loss: 9.7887e-04 - val_mean_squared_error: 9.7887e-04 - val_accuracy: 0.0026\n",
      "Epoch 22/200\n",
      "93/93 [==============================] - 1s 12ms/step - loss: 2.6985e-04 - mean_squared_error: 2.6985e-04 - accuracy: 0.0011 - val_loss: 1.9789e-04 - val_mean_squared_error: 1.9789e-04 - val_accuracy: 0.0026\n",
      "Epoch 23/200\n",
      "93/93 [==============================] - 1s 12ms/step - loss: 3.5468e-04 - mean_squared_error: 3.5468e-04 - accuracy: 0.0011 - val_loss: 1.7353e-04 - val_mean_squared_error: 1.7353e-04 - val_accuracy: 0.0026\n",
      "Epoch 24/200\n",
      "93/93 [==============================] - 1s 12ms/step - loss: 2.3946e-04 - mean_squared_error: 2.3946e-04 - accuracy: 0.0011 - val_loss: 2.8728e-04 - val_mean_squared_error: 2.8728e-04 - val_accuracy: 0.0026\n",
      "Epoch 25/200\n",
      "93/93 [==============================] - 1s 12ms/step - loss: 1.8968e-04 - mean_squared_error: 1.8968e-04 - accuracy: 0.0011 - val_loss: 1.7548e-04 - val_mean_squared_error: 1.7548e-04 - val_accuracy: 0.0026\n",
      "Epoch 26/200\n",
      "93/93 [==============================] - 1s 12ms/step - loss: 1.9851e-04 - mean_squared_error: 1.9851e-04 - accuracy: 0.0011 - val_loss: 2.3507e-04 - val_mean_squared_error: 2.3507e-04 - val_accuracy: 0.0026\n",
      "Epoch 27/200\n",
      "93/93 [==============================] - 1s 12ms/step - loss: 2.4871e-04 - mean_squared_error: 2.4871e-04 - accuracy: 0.0011 - val_loss: 7.3302e-04 - val_mean_squared_error: 7.3302e-04 - val_accuracy: 0.0026\n",
      "Epoch 28/200\n",
      "93/93 [==============================] - 1s 12ms/step - loss: 3.0597e-04 - mean_squared_error: 3.0597e-04 - accuracy: 0.0011 - val_loss: 8.5435e-04 - val_mean_squared_error: 8.5435e-04 - val_accuracy: 0.0026\n",
      "Epoch 29/200\n",
      "93/93 [==============================] - 1s 12ms/step - loss: 3.5784e-04 - mean_squared_error: 3.5784e-04 - accuracy: 0.0011 - val_loss: 1.7891e-04 - val_mean_squared_error: 1.7891e-04 - val_accuracy: 0.0026\n",
      "Epoch 30/200\n",
      "93/93 [==============================] - 1s 12ms/step - loss: 1.9438e-04 - mean_squared_error: 1.9438e-04 - accuracy: 0.0011 - val_loss: 2.2146e-04 - val_mean_squared_error: 2.2146e-04 - val_accuracy: 0.0026\n",
      "Epoch 31/200\n",
      "93/93 [==============================] - 1s 12ms/step - loss: 1.7590e-04 - mean_squared_error: 1.7590e-04 - accuracy: 0.0011 - val_loss: 4.3017e-04 - val_mean_squared_error: 4.3017e-04 - val_accuracy: 0.0026\n",
      "Epoch 32/200\n",
      "93/93 [==============================] - 1s 12ms/step - loss: 2.1826e-04 - mean_squared_error: 2.1826e-04 - accuracy: 0.0011 - val_loss: 6.2986e-04 - val_mean_squared_error: 6.2986e-04 - val_accuracy: 0.0026\n",
      "Epoch 33/200\n",
      "93/93 [==============================] - 1s 12ms/step - loss: 2.5603e-04 - mean_squared_error: 2.5603e-04 - accuracy: 0.0011 - val_loss: 4.1132e-04 - val_mean_squared_error: 4.1132e-04 - val_accuracy: 0.0026\n",
      "Epoch 34/200\n",
      "93/93 [==============================] - 1s 12ms/step - loss: 1.9747e-04 - mean_squared_error: 1.9747e-04 - accuracy: 0.0011 - val_loss: 1.7663e-04 - val_mean_squared_error: 1.7663e-04 - val_accuracy: 0.0026\n",
      "Epoch 35/200\n",
      "93/93 [==============================] - 1s 12ms/step - loss: 4.6870e-04 - mean_squared_error: 4.6870e-04 - accuracy: 0.0011 - val_loss: 0.0028 - val_mean_squared_error: 0.0028 - val_accuracy: 0.0026\n",
      "Epoch 36/200\n",
      "93/93 [==============================] - 1s 12ms/step - loss: 2.6625e-04 - mean_squared_error: 2.6625e-04 - accuracy: 0.0011 - val_loss: 3.9087e-04 - val_mean_squared_error: 3.9087e-04 - val_accuracy: 0.0026\n",
      "Epoch 37/200\n",
      "93/93 [==============================] - 1s 12ms/step - loss: 3.7473e-04 - mean_squared_error: 3.7473e-04 - accuracy: 0.0011 - val_loss: 7.0000e-04 - val_mean_squared_error: 7.0000e-04 - val_accuracy: 0.0026\n",
      "Epoch 38/200\n"
     ]
    },
    {
     "name": "stdout",
     "output_type": "stream",
     "text": [
      "93/93 [==============================] - 1s 12ms/step - loss: 4.7557e-04 - mean_squared_error: 4.7557e-04 - accuracy: 0.0011 - val_loss: 0.0031 - val_mean_squared_error: 0.0031 - val_accuracy: 0.0026\n",
      "Epoch 39/200\n",
      "93/93 [==============================] - 1s 12ms/step - loss: 4.7783e-04 - mean_squared_error: 4.7783e-04 - accuracy: 0.0011 - val_loss: 0.0021 - val_mean_squared_error: 0.0021 - val_accuracy: 0.0026\n",
      "Epoch 40/200\n",
      "93/93 [==============================] - 1s 12ms/step - loss: 2.6010e-04 - mean_squared_error: 2.6010e-04 - accuracy: 0.0011 - val_loss: 4.8414e-04 - val_mean_squared_error: 4.8414e-04 - val_accuracy: 0.0026\n",
      "Epoch 41/200\n",
      "93/93 [==============================] - 1s 12ms/step - loss: 2.0952e-04 - mean_squared_error: 2.0952e-04 - accuracy: 0.0011 - val_loss: 8.3654e-04 - val_mean_squared_error: 8.3654e-04 - val_accuracy: 0.0026\n",
      "Epoch 42/200\n",
      "93/93 [==============================] - 1s 12ms/step - loss: 1.9847e-04 - mean_squared_error: 1.9847e-04 - accuracy: 0.0011 - val_loss: 3.3131e-04 - val_mean_squared_error: 3.3131e-04 - val_accuracy: 0.0026\n",
      "Epoch 43/200\n",
      "93/93 [==============================] - 1s 12ms/step - loss: 1.7042e-04 - mean_squared_error: 1.7042e-04 - accuracy: 0.0011 - val_loss: 6.7343e-04 - val_mean_squared_error: 6.7343e-04 - val_accuracy: 0.0026\n",
      "Epoch 44/200\n",
      "93/93 [==============================] - 1s 12ms/step - loss: 1.9466e-04 - mean_squared_error: 1.9466e-04 - accuracy: 0.0011 - val_loss: 5.8838e-04 - val_mean_squared_error: 5.8838e-04 - val_accuracy: 0.0026\n",
      "Epoch 45/200\n",
      "93/93 [==============================] - 1s 12ms/step - loss: 2.2986e-04 - mean_squared_error: 2.2986e-04 - accuracy: 0.0011 - val_loss: 1.9317e-04 - val_mean_squared_error: 1.9317e-04 - val_accuracy: 0.0026\n",
      "Epoch 46/200\n",
      "93/93 [==============================] - 1s 12ms/step - loss: 1.9142e-04 - mean_squared_error: 1.9142e-04 - accuracy: 0.0011 - val_loss: 2.2934e-04 - val_mean_squared_error: 2.2934e-04 - val_accuracy: 0.0026\n",
      "Epoch 47/200\n",
      "93/93 [==============================] - 1s 12ms/step - loss: 3.0042e-04 - mean_squared_error: 3.0042e-04 - accuracy: 0.0011 - val_loss: 2.9520e-04 - val_mean_squared_error: 2.9520e-04 - val_accuracy: 0.0026\n",
      "Epoch 48/200\n",
      "93/93 [==============================] - 1s 12ms/step - loss: 2.6110e-04 - mean_squared_error: 2.6110e-04 - accuracy: 0.0011 - val_loss: 4.9164e-04 - val_mean_squared_error: 4.9164e-04 - val_accuracy: 0.0026\n",
      "Epoch 49/200\n",
      "93/93 [==============================] - 1s 12ms/step - loss: 1.9791e-04 - mean_squared_error: 1.9791e-04 - accuracy: 0.0011 - val_loss: 7.2864e-04 - val_mean_squared_error: 7.2864e-04 - val_accuracy: 0.0026\n",
      "Epoch 50/200\n",
      "93/93 [==============================] - 1s 12ms/step - loss: 2.1885e-04 - mean_squared_error: 2.1885e-04 - accuracy: 0.0011 - val_loss: 2.0460e-04 - val_mean_squared_error: 2.0460e-04 - val_accuracy: 0.0026\n",
      "Epoch 51/200\n",
      "93/93 [==============================] - 1s 12ms/step - loss: 1.9691e-04 - mean_squared_error: 1.9691e-04 - accuracy: 0.0011 - val_loss: 0.0039 - val_mean_squared_error: 0.0039 - val_accuracy: 0.0026\n",
      "Epoch 52/200\n",
      "93/93 [==============================] - 1s 12ms/step - loss: 2.8572e-04 - mean_squared_error: 2.8572e-04 - accuracy: 0.0011 - val_loss: 0.0014 - val_mean_squared_error: 0.0014 - val_accuracy: 0.0026\n",
      "Epoch 53/200\n",
      "93/93 [==============================] - 1s 12ms/step - loss: 2.4073e-04 - mean_squared_error: 2.4073e-04 - accuracy: 0.0011 - val_loss: 7.7698e-04 - val_mean_squared_error: 7.7698e-04 - val_accuracy: 0.0026\n",
      "Epoch 54/200\n",
      "93/93 [==============================] - 1s 12ms/step - loss: 3.6223e-04 - mean_squared_error: 3.6223e-04 - accuracy: 0.0011 - val_loss: 2.0019e-04 - val_mean_squared_error: 2.0019e-04 - val_accuracy: 0.0026\n",
      "Epoch 55/200\n",
      "93/93 [==============================] - 1s 12ms/step - loss: 2.4279e-04 - mean_squared_error: 2.4279e-04 - accuracy: 0.0011 - val_loss: 3.8185e-04 - val_mean_squared_error: 3.8185e-04 - val_accuracy: 0.0026\n",
      "Epoch 56/200\n",
      "93/93 [==============================] - 1s 12ms/step - loss: 2.2336e-04 - mean_squared_error: 2.2336e-04 - accuracy: 0.0011 - val_loss: 6.5150e-04 - val_mean_squared_error: 6.5150e-04 - val_accuracy: 0.0026\n",
      "Epoch 57/200\n",
      "93/93 [==============================] - 1s 12ms/step - loss: 2.8537e-04 - mean_squared_error: 2.8537e-04 - accuracy: 0.0011 - val_loss: 5.7416e-04 - val_mean_squared_error: 5.7416e-04 - val_accuracy: 0.0026\n",
      "Epoch 58/200\n",
      "93/93 [==============================] - 1s 12ms/step - loss: 2.1748e-04 - mean_squared_error: 2.1748e-04 - accuracy: 0.0011 - val_loss: 4.3548e-04 - val_mean_squared_error: 4.3548e-04 - val_accuracy: 0.0026\n",
      "Epoch 59/200\n",
      "93/93 [==============================] - 1s 12ms/step - loss: 1.9150e-04 - mean_squared_error: 1.9150e-04 - accuracy: 0.0011 - val_loss: 1.8847e-04 - val_mean_squared_error: 1.8847e-04 - val_accuracy: 0.0026\n",
      "Epoch 60/200\n",
      "93/93 [==============================] - 1s 12ms/step - loss: 2.3520e-04 - mean_squared_error: 2.3520e-04 - accuracy: 0.0011 - val_loss: 2.2360e-04 - val_mean_squared_error: 2.2360e-04 - val_accuracy: 0.0026\n",
      "Epoch 61/200\n",
      "93/93 [==============================] - 1s 12ms/step - loss: 2.2350e-04 - mean_squared_error: 2.2350e-04 - accuracy: 0.0011 - val_loss: 2.6204e-04 - val_mean_squared_error: 2.6204e-04 - val_accuracy: 0.0026\n",
      "Epoch 62/200\n",
      "93/93 [==============================] - 1s 12ms/step - loss: 2.1189e-04 - mean_squared_error: 2.1189e-04 - accuracy: 0.0011 - val_loss: 1.9934e-04 - val_mean_squared_error: 1.9934e-04 - val_accuracy: 0.0026\n",
      "Epoch 63/200\n",
      "93/93 [==============================] - 1s 12ms/step - loss: 2.1575e-04 - mean_squared_error: 2.1575e-04 - accuracy: 0.0011 - val_loss: 2.0923e-04 - val_mean_squared_error: 2.0923e-04 - val_accuracy: 0.0026\n",
      "Epoch 64/200\n",
      "93/93 [==============================] - 1s 12ms/step - loss: 1.7151e-04 - mean_squared_error: 1.7151e-04 - accuracy: 0.0011 - val_loss: 5.1939e-04 - val_mean_squared_error: 5.1939e-04 - val_accuracy: 0.0026\n",
      "Epoch 65/200\n",
      "93/93 [==============================] - 1s 12ms/step - loss: 1.5594e-04 - mean_squared_error: 1.5594e-04 - accuracy: 0.0011 - val_loss: 2.3822e-04 - val_mean_squared_error: 2.3822e-04 - val_accuracy: 0.0026\n",
      "Epoch 66/200\n",
      "93/93 [==============================] - 1s 12ms/step - loss: 2.4192e-04 - mean_squared_error: 2.4192e-04 - accuracy: 0.0011 - val_loss: 1.8439e-04 - val_mean_squared_error: 1.8439e-04 - val_accuracy: 0.0026\n",
      "Epoch 67/200\n",
      "93/93 [==============================] - 1s 12ms/step - loss: 3.4078e-04 - mean_squared_error: 3.4078e-04 - accuracy: 0.0011 - val_loss: 2.5799e-04 - val_mean_squared_error: 2.5799e-04 - val_accuracy: 0.0026\n",
      "Epoch 68/200\n",
      "93/93 [==============================] - 1s 12ms/step - loss: 2.4925e-04 - mean_squared_error: 2.4925e-04 - accuracy: 0.0011 - val_loss: 3.4394e-04 - val_mean_squared_error: 3.4394e-04 - val_accuracy: 0.0026\n",
      "Epoch 69/200\n",
      "93/93 [==============================] - 1s 12ms/step - loss: 2.0817e-04 - mean_squared_error: 2.0817e-04 - accuracy: 0.0011 - val_loss: 3.5350e-04 - val_mean_squared_error: 3.5350e-04 - val_accuracy: 0.0026\n",
      "Epoch 70/200\n",
      "93/93 [==============================] - 1s 13ms/step - loss: 3.0514e-04 - mean_squared_error: 3.0514e-04 - accuracy: 0.0011 - val_loss: 0.0015 - val_mean_squared_error: 0.0015 - val_accuracy: 0.0026\n",
      "Epoch 71/200\n",
      "93/93 [==============================] - 1s 13ms/step - loss: 2.0048e-04 - mean_squared_error: 2.0048e-04 - accuracy: 0.0011 - val_loss: 2.5820e-04 - val_mean_squared_error: 2.5820e-04 - val_accuracy: 0.0026\n",
      "Epoch 72/200\n",
      "93/93 [==============================] - 1s 12ms/step - loss: 1.7530e-04 - mean_squared_error: 1.7530e-04 - accuracy: 0.0011 - val_loss: 2.2903e-04 - val_mean_squared_error: 2.2903e-04 - val_accuracy: 0.0026\n",
      "Epoch 73/200\n",
      "93/93 [==============================] - 1s 13ms/step - loss: 2.7566e-04 - mean_squared_error: 2.7566e-04 - accuracy: 0.0011 - val_loss: 3.2479e-04 - val_mean_squared_error: 3.2479e-04 - val_accuracy: 0.0026\n",
      "Epoch 74/200\n",
      "93/93 [==============================] - 1s 12ms/step - loss: 3.0206e-04 - mean_squared_error: 3.0206e-04 - accuracy: 0.0011 - val_loss: 2.6669e-04 - val_mean_squared_error: 2.6669e-04 - val_accuracy: 0.0026\n",
      "Epoch 75/200\n"
     ]
    },
    {
     "name": "stdout",
     "output_type": "stream",
     "text": [
      "93/93 [==============================] - 1s 12ms/step - loss: 2.2627e-04 - mean_squared_error: 2.2627e-04 - accuracy: 0.0011 - val_loss: 2.9770e-04 - val_mean_squared_error: 2.9770e-04 - val_accuracy: 0.0026\n",
      "Epoch 76/200\n",
      "93/93 [==============================] - 1s 12ms/step - loss: 2.3201e-04 - mean_squared_error: 2.3201e-04 - accuracy: 0.0011 - val_loss: 3.5667e-04 - val_mean_squared_error: 3.5667e-04 - val_accuracy: 0.0026\n",
      "Epoch 77/200\n",
      "93/93 [==============================] - 1s 12ms/step - loss: 2.7434e-04 - mean_squared_error: 2.7434e-04 - accuracy: 0.0011 - val_loss: 7.3874e-04 - val_mean_squared_error: 7.3874e-04 - val_accuracy: 0.0026\n",
      "Epoch 78/200\n",
      "93/93 [==============================] - 1s 13ms/step - loss: 2.0307e-04 - mean_squared_error: 2.0307e-04 - accuracy: 0.0011 - val_loss: 3.4526e-04 - val_mean_squared_error: 3.4526e-04 - val_accuracy: 0.0026\n",
      "Epoch 79/200\n",
      "93/93 [==============================] - 1s 12ms/step - loss: 1.9117e-04 - mean_squared_error: 1.9117e-04 - accuracy: 0.0011 - val_loss: 2.0719e-04 - val_mean_squared_error: 2.0719e-04 - val_accuracy: 0.0026\n",
      "Epoch 80/200\n",
      "93/93 [==============================] - 1s 12ms/step - loss: 3.1488e-04 - mean_squared_error: 3.1488e-04 - accuracy: 0.0011 - val_loss: 8.1580e-04 - val_mean_squared_error: 8.1580e-04 - val_accuracy: 0.0026\n",
      "Epoch 81/200\n",
      "93/93 [==============================] - 1s 13ms/step - loss: 2.7852e-04 - mean_squared_error: 2.7852e-04 - accuracy: 0.0011 - val_loss: 6.9207e-04 - val_mean_squared_error: 6.9207e-04 - val_accuracy: 0.0026\n",
      "Epoch 82/200\n",
      "93/93 [==============================] - 1s 12ms/step - loss: 1.8090e-04 - mean_squared_error: 1.8090e-04 - accuracy: 0.0011 - val_loss: 2.1841e-04 - val_mean_squared_error: 2.1841e-04 - val_accuracy: 0.0026\n",
      "Epoch 83/200\n",
      "93/93 [==============================] - 1s 12ms/step - loss: 1.8767e-04 - mean_squared_error: 1.8767e-04 - accuracy: 0.0011 - val_loss: 2.2504e-04 - val_mean_squared_error: 2.2504e-04 - val_accuracy: 0.0026\n",
      "Epoch 84/200\n",
      "93/93 [==============================] - 1s 12ms/step - loss: 1.9934e-04 - mean_squared_error: 1.9934e-04 - accuracy: 0.0011 - val_loss: 2.5891e-04 - val_mean_squared_error: 2.5891e-04 - val_accuracy: 0.0026\n",
      "Epoch 85/200\n",
      "93/93 [==============================] - 1s 13ms/step - loss: 1.9129e-04 - mean_squared_error: 1.9129e-04 - accuracy: 0.0011 - val_loss: 2.5323e-04 - val_mean_squared_error: 2.5323e-04 - val_accuracy: 0.0026\n",
      "Epoch 86/200\n",
      "93/93 [==============================] - 1s 12ms/step - loss: 2.1612e-04 - mean_squared_error: 2.1612e-04 - accuracy: 0.0011 - val_loss: 7.7933e-04 - val_mean_squared_error: 7.7933e-04 - val_accuracy: 0.0026\n",
      "Epoch 87/200\n",
      "93/93 [==============================] - 1s 13ms/step - loss: 2.2698e-04 - mean_squared_error: 2.2698e-04 - accuracy: 0.0011 - val_loss: 1.8145e-04 - val_mean_squared_error: 1.8145e-04 - val_accuracy: 0.0026\n",
      "Epoch 88/200\n",
      "93/93 [==============================] - 1s 12ms/step - loss: 6.1925e-04 - mean_squared_error: 6.1925e-04 - accuracy: 0.0011 - val_loss: 2.1085e-04 - val_mean_squared_error: 2.1085e-04 - val_accuracy: 0.0026\n",
      "Epoch 89/200\n",
      "93/93 [==============================] - 1s 12ms/step - loss: 3.5285e-04 - mean_squared_error: 3.5285e-04 - accuracy: 0.0011 - val_loss: 2.0787e-04 - val_mean_squared_error: 2.0787e-04 - val_accuracy: 0.0026\n",
      "Epoch 90/200\n",
      "93/93 [==============================] - 1s 12ms/step - loss: 2.8783e-04 - mean_squared_error: 2.8783e-04 - accuracy: 0.0011 - val_loss: 2.3935e-04 - val_mean_squared_error: 2.3935e-04 - val_accuracy: 0.0026\n",
      "Epoch 91/200\n",
      "93/93 [==============================] - 1s 12ms/step - loss: 2.5035e-04 - mean_squared_error: 2.5035e-04 - accuracy: 0.0011 - val_loss: 2.4384e-04 - val_mean_squared_error: 2.4384e-04 - val_accuracy: 0.0026\n",
      "Epoch 92/200\n",
      "93/93 [==============================] - 1s 13ms/step - loss: 2.5650e-04 - mean_squared_error: 2.5650e-04 - accuracy: 0.0011 - val_loss: 2.5506e-04 - val_mean_squared_error: 2.5506e-04 - val_accuracy: 0.0026\n",
      "Epoch 93/200\n",
      "93/93 [==============================] - 1s 12ms/step - loss: 2.2044e-04 - mean_squared_error: 2.2044e-04 - accuracy: 0.0011 - val_loss: 3.2053e-04 - val_mean_squared_error: 3.2053e-04 - val_accuracy: 0.0026\n",
      "Epoch 94/200\n",
      "93/93 [==============================] - 1s 12ms/step - loss: 1.7411e-04 - mean_squared_error: 1.7411e-04 - accuracy: 0.0011 - val_loss: 3.4128e-04 - val_mean_squared_error: 3.4128e-04 - val_accuracy: 0.0026\n",
      "Epoch 95/200\n",
      "93/93 [==============================] - 1s 12ms/step - loss: 1.7578e-04 - mean_squared_error: 1.7578e-04 - accuracy: 0.0011 - val_loss: 1.7548e-04 - val_mean_squared_error: 1.7548e-04 - val_accuracy: 0.0026\n",
      "Epoch 96/200\n",
      "93/93 [==============================] - 1s 12ms/step - loss: 1.8812e-04 - mean_squared_error: 1.8812e-04 - accuracy: 0.0011 - val_loss: 3.3015e-04 - val_mean_squared_error: 3.3015e-04 - val_accuracy: 0.0026\n",
      "Epoch 97/200\n",
      "93/93 [==============================] - 1s 12ms/step - loss: 1.6046e-04 - mean_squared_error: 1.6046e-04 - accuracy: 0.0011 - val_loss: 1.7630e-04 - val_mean_squared_error: 1.7630e-04 - val_accuracy: 0.0026\n",
      "Epoch 98/200\n",
      "93/93 [==============================] - 1s 13ms/step - loss: 2.6091e-04 - mean_squared_error: 2.6091e-04 - accuracy: 0.0011 - val_loss: 9.9326e-04 - val_mean_squared_error: 9.9326e-04 - val_accuracy: 0.0026\n",
      "Epoch 99/200\n",
      "93/93 [==============================] - 1s 13ms/step - loss: 1.6552e-04 - mean_squared_error: 1.6552e-04 - accuracy: 0.0011 - val_loss: 1.7662e-04 - val_mean_squared_error: 1.7662e-04 - val_accuracy: 0.0026\n",
      "Epoch 100/200\n",
      "93/93 [==============================] - 1s 12ms/step - loss: 2.0403e-04 - mean_squared_error: 2.0403e-04 - accuracy: 0.0011 - val_loss: 8.4926e-04 - val_mean_squared_error: 8.4926e-04 - val_accuracy: 0.0026\n",
      "Epoch 101/200\n",
      "93/93 [==============================] - 1s 12ms/step - loss: 1.6616e-04 - mean_squared_error: 1.6616e-04 - accuracy: 0.0011 - val_loss: 1.7531e-04 - val_mean_squared_error: 1.7531e-04 - val_accuracy: 0.0026\n",
      "Epoch 102/200\n",
      "93/93 [==============================] - 1s 13ms/step - loss: 1.6086e-04 - mean_squared_error: 1.6086e-04 - accuracy: 0.0011 - val_loss: 6.8401e-04 - val_mean_squared_error: 6.8401e-04 - val_accuracy: 0.0026\n",
      "Epoch 103/200\n",
      "93/93 [==============================] - 1s 12ms/step - loss: 2.5222e-04 - mean_squared_error: 2.5222e-04 - accuracy: 0.0011 - val_loss: 1.9838e-04 - val_mean_squared_error: 1.9838e-04 - val_accuracy: 0.0026\n",
      "Epoch 104/200\n",
      "93/93 [==============================] - 1s 12ms/step - loss: 1.8961e-04 - mean_squared_error: 1.8961e-04 - accuracy: 0.0011 - val_loss: 2.5217e-04 - val_mean_squared_error: 2.5217e-04 - val_accuracy: 0.0026\n",
      "Epoch 105/200\n",
      "93/93 [==============================] - 1s 12ms/step - loss: 2.3271e-04 - mean_squared_error: 2.3271e-04 - accuracy: 0.0011 - val_loss: 1.8167e-04 - val_mean_squared_error: 1.8167e-04 - val_accuracy: 0.0026\n",
      "Epoch 106/200\n",
      "93/93 [==============================] - 1s 12ms/step - loss: 2.5101e-04 - mean_squared_error: 2.5101e-04 - accuracy: 0.0011 - val_loss: 4.9279e-04 - val_mean_squared_error: 4.9279e-04 - val_accuracy: 0.0026\n",
      "Epoch 107/200\n",
      "93/93 [==============================] - 1s 12ms/step - loss: 1.8219e-04 - mean_squared_error: 1.8219e-04 - accuracy: 0.0011 - val_loss: 3.6253e-04 - val_mean_squared_error: 3.6253e-04 - val_accuracy: 0.0026\n",
      "Epoch 108/200\n",
      "93/93 [==============================] - 1s 13ms/step - loss: 1.9408e-04 - mean_squared_error: 1.9408e-04 - accuracy: 0.0011 - val_loss: 3.4000e-04 - val_mean_squared_error: 3.4000e-04 - val_accuracy: 0.0026\n",
      "Epoch 109/200\n",
      "93/93 [==============================] - 1s 13ms/step - loss: 1.6039e-04 - mean_squared_error: 1.6039e-04 - accuracy: 0.0011 - val_loss: 1.9111e-04 - val_mean_squared_error: 1.9111e-04 - val_accuracy: 0.0026\n",
      "Epoch 110/200\n",
      "93/93 [==============================] - 1s 12ms/step - loss: 1.7178e-04 - mean_squared_error: 1.7178e-04 - accuracy: 0.0011 - val_loss: 1.9130e-04 - val_mean_squared_error: 1.9130e-04 - val_accuracy: 0.0026\n",
      "Epoch 111/200\n",
      "93/93 [==============================] - 1s 12ms/step - loss: 1.9054e-04 - mean_squared_error: 1.9054e-04 - accuracy: 0.0011 - val_loss: 2.0060e-04 - val_mean_squared_error: 2.0060e-04 - val_accuracy: 0.0026\n",
      "Epoch 112/200\n"
     ]
    },
    {
     "name": "stdout",
     "output_type": "stream",
     "text": [
      "93/93 [==============================] - 1s 12ms/step - loss: 2.0664e-04 - mean_squared_error: 2.0664e-04 - accuracy: 0.0011 - val_loss: 2.2745e-04 - val_mean_squared_error: 2.2745e-04 - val_accuracy: 0.0026\n",
      "Epoch 113/200\n",
      "93/93 [==============================] - 1s 12ms/step - loss: 1.8283e-04 - mean_squared_error: 1.8283e-04 - accuracy: 0.0011 - val_loss: 1.9882e-04 - val_mean_squared_error: 1.9882e-04 - val_accuracy: 0.0026\n",
      "Epoch 114/200\n",
      "93/93 [==============================] - 1s 12ms/step - loss: 2.6208e-04 - mean_squared_error: 2.6208e-04 - accuracy: 0.0011 - val_loss: 1.9609e-04 - val_mean_squared_error: 1.9609e-04 - val_accuracy: 0.0026\n",
      "Epoch 115/200\n",
      "93/93 [==============================] - 1s 12ms/step - loss: 2.5786e-04 - mean_squared_error: 2.5786e-04 - accuracy: 0.0011 - val_loss: 2.3664e-04 - val_mean_squared_error: 2.3664e-04 - val_accuracy: 0.0026\n",
      "Epoch 116/200\n",
      "93/93 [==============================] - 1s 12ms/step - loss: 2.3884e-04 - mean_squared_error: 2.3884e-04 - accuracy: 0.0011 - val_loss: 5.7345e-04 - val_mean_squared_error: 5.7345e-04 - val_accuracy: 0.0026\n",
      "Epoch 117/200\n",
      "93/93 [==============================] - 1s 12ms/step - loss: 1.6898e-04 - mean_squared_error: 1.6898e-04 - accuracy: 0.0011 - val_loss: 2.4830e-04 - val_mean_squared_error: 2.4830e-04 - val_accuracy: 0.0026\n",
      "Epoch 118/200\n",
      "93/93 [==============================] - 1s 12ms/step - loss: 1.6807e-04 - mean_squared_error: 1.6807e-04 - accuracy: 0.0011 - val_loss: 5.3910e-04 - val_mean_squared_error: 5.3910e-04 - val_accuracy: 0.0026\n",
      "Epoch 119/200\n",
      "93/93 [==============================] - 1s 12ms/step - loss: 1.7933e-04 - mean_squared_error: 1.7933e-04 - accuracy: 0.0011 - val_loss: 2.5901e-04 - val_mean_squared_error: 2.5901e-04 - val_accuracy: 0.0026\n",
      "Epoch 120/200\n",
      "93/93 [==============================] - 1s 13ms/step - loss: 1.8996e-04 - mean_squared_error: 1.8996e-04 - accuracy: 0.0011 - val_loss: 0.0020 - val_mean_squared_error: 0.0020 - val_accuracy: 0.0026\n",
      "Epoch 121/200\n",
      "93/93 [==============================] - 1s 12ms/step - loss: 3.0818e-04 - mean_squared_error: 3.0818e-04 - accuracy: 0.0011 - val_loss: 2.0909e-04 - val_mean_squared_error: 2.0909e-04 - val_accuracy: 0.0026\n",
      "Epoch 122/200\n",
      "93/93 [==============================] - 1s 12ms/step - loss: 1.6256e-04 - mean_squared_error: 1.6256e-04 - accuracy: 0.0011 - val_loss: 2.0743e-04 - val_mean_squared_error: 2.0743e-04 - val_accuracy: 0.0026\n",
      "Epoch 123/200\n",
      "93/93 [==============================] - 1s 12ms/step - loss: 1.8033e-04 - mean_squared_error: 1.8033e-04 - accuracy: 0.0011 - val_loss: 1.9461e-04 - val_mean_squared_error: 1.9461e-04 - val_accuracy: 0.0026\n",
      "Epoch 124/200\n",
      "93/93 [==============================] - 1s 12ms/step - loss: 1.9560e-04 - mean_squared_error: 1.9560e-04 - accuracy: 0.0011 - val_loss: 4.0190e-04 - val_mean_squared_error: 4.0190e-04 - val_accuracy: 0.0026\n",
      "Epoch 125/200\n",
      "93/93 [==============================] - 1s 12ms/step - loss: 1.6739e-04 - mean_squared_error: 1.6739e-04 - accuracy: 0.0011 - val_loss: 2.2212e-04 - val_mean_squared_error: 2.2212e-04 - val_accuracy: 0.0026\n",
      "Epoch 126/200\n",
      "93/93 [==============================] - 1s 13ms/step - loss: 1.8261e-04 - mean_squared_error: 1.8261e-04 - accuracy: 0.0011 - val_loss: 4.4576e-04 - val_mean_squared_error: 4.4576e-04 - val_accuracy: 0.0026\n",
      "Epoch 127/200\n",
      "93/93 [==============================] - 1s 12ms/step - loss: 3.0593e-04 - mean_squared_error: 3.0593e-04 - accuracy: 0.0011 - val_loss: 1.8907e-04 - val_mean_squared_error: 1.8907e-04 - val_accuracy: 0.0026\n",
      "Epoch 128/200\n",
      "93/93 [==============================] - 1s 12ms/step - loss: 2.0584e-04 - mean_squared_error: 2.0584e-04 - accuracy: 0.0011 - val_loss: 3.7716e-04 - val_mean_squared_error: 3.7716e-04 - val_accuracy: 0.0026\n",
      "Epoch 129/200\n",
      "93/93 [==============================] - 1s 12ms/step - loss: 1.5511e-04 - mean_squared_error: 1.5511e-04 - accuracy: 0.0011 - val_loss: 1.9450e-04 - val_mean_squared_error: 1.9450e-04 - val_accuracy: 0.0026\n",
      "Epoch 130/200\n",
      "93/93 [==============================] - 1s 12ms/step - loss: 1.7131e-04 - mean_squared_error: 1.7131e-04 - accuracy: 0.0011 - val_loss: 0.0011 - val_mean_squared_error: 0.0011 - val_accuracy: 0.0026\n",
      "Epoch 131/200\n",
      "93/93 [==============================] - 1s 12ms/step - loss: 2.4359e-04 - mean_squared_error: 2.4359e-04 - accuracy: 0.0011 - val_loss: 0.0017 - val_mean_squared_error: 0.0017 - val_accuracy: 0.0026\n",
      "Epoch 132/200\n",
      "93/93 [==============================] - 1s 12ms/step - loss: 1.8322e-04 - mean_squared_error: 1.8322e-04 - accuracy: 0.0011 - val_loss: 2.7233e-04 - val_mean_squared_error: 2.7233e-04 - val_accuracy: 0.0026\n",
      "Epoch 133/200\n",
      "93/93 [==============================] - 1s 12ms/step - loss: 1.5578e-04 - mean_squared_error: 1.5578e-04 - accuracy: 0.0011 - val_loss: 6.4861e-04 - val_mean_squared_error: 6.4861e-04 - val_accuracy: 0.0026\n",
      "Epoch 134/200\n",
      "93/93 [==============================] - 1s 12ms/step - loss: 1.5963e-04 - mean_squared_error: 1.5963e-04 - accuracy: 0.0011 - val_loss: 1.9691e-04 - val_mean_squared_error: 1.9691e-04 - val_accuracy: 0.0026\n",
      "Epoch 135/200\n",
      "93/93 [==============================] - 1s 12ms/step - loss: 1.6101e-04 - mean_squared_error: 1.6101e-04 - accuracy: 0.0011 - val_loss: 3.7646e-04 - val_mean_squared_error: 3.7646e-04 - val_accuracy: 0.0026\n",
      "Epoch 136/200\n",
      "93/93 [==============================] - 1s 12ms/step - loss: 1.7909e-04 - mean_squared_error: 1.7909e-04 - accuracy: 0.0011 - val_loss: 3.6720e-04 - val_mean_squared_error: 3.6720e-04 - val_accuracy: 0.0026\n",
      "Epoch 137/200\n",
      "93/93 [==============================] - 1s 12ms/step - loss: 2.8217e-04 - mean_squared_error: 2.8217e-04 - accuracy: 0.0011 - val_loss: 7.5623e-04 - val_mean_squared_error: 7.5623e-04 - val_accuracy: 0.0026\n",
      "Epoch 138/200\n",
      "93/93 [==============================] - 1s 13ms/step - loss: 2.2657e-04 - mean_squared_error: 2.2657e-04 - accuracy: 0.0011 - val_loss: 8.8274e-04 - val_mean_squared_error: 8.8274e-04 - val_accuracy: 0.0026\n",
      "Epoch 139/200\n",
      "93/93 [==============================] - 1s 12ms/step - loss: 2.7300e-04 - mean_squared_error: 2.7300e-04 - accuracy: 0.0011 - val_loss: 1.8548e-04 - val_mean_squared_error: 1.8548e-04 - val_accuracy: 0.0026\n",
      "Epoch 140/200\n",
      "93/93 [==============================] - 1s 12ms/step - loss: 1.8093e-04 - mean_squared_error: 1.8093e-04 - accuracy: 0.0011 - val_loss: 3.4653e-04 - val_mean_squared_error: 3.4653e-04 - val_accuracy: 0.0026\n",
      "Epoch 141/200\n",
      "93/93 [==============================] - 1s 12ms/step - loss: 2.3364e-04 - mean_squared_error: 2.3364e-04 - accuracy: 0.0011 - val_loss: 3.9318e-04 - val_mean_squared_error: 3.9318e-04 - val_accuracy: 0.0026\n",
      "Epoch 142/200\n",
      "93/93 [==============================] - 1s 12ms/step - loss: 2.0669e-04 - mean_squared_error: 2.0669e-04 - accuracy: 0.0011 - val_loss: 1.9583e-04 - val_mean_squared_error: 1.9583e-04 - val_accuracy: 0.0026\n",
      "Epoch 143/200\n",
      "93/93 [==============================] - 1s 14ms/step - loss: 1.4963e-04 - mean_squared_error: 1.4963e-04 - accuracy: 0.0011 - val_loss: 1.9325e-04 - val_mean_squared_error: 1.9325e-04 - val_accuracy: 0.0026\n",
      "Epoch 144/200\n",
      "93/93 [==============================] - 1s 12ms/step - loss: 1.7095e-04 - mean_squared_error: 1.7095e-04 - accuracy: 0.0011 - val_loss: 1.8784e-04 - val_mean_squared_error: 1.8784e-04 - val_accuracy: 0.0026\n",
      "Epoch 145/200\n",
      "93/93 [==============================] - 1s 12ms/step - loss: 2.8561e-04 - mean_squared_error: 2.8561e-04 - accuracy: 0.0011 - val_loss: 1.9690e-04 - val_mean_squared_error: 1.9690e-04 - val_accuracy: 0.0026\n",
      "Epoch 146/200\n",
      "93/93 [==============================] - 1s 12ms/step - loss: 2.2533e-04 - mean_squared_error: 2.2533e-04 - accuracy: 0.0011 - val_loss: 4.3177e-04 - val_mean_squared_error: 4.3177e-04 - val_accuracy: 0.0026\n",
      "Epoch 147/200\n",
      "93/93 [==============================] - 1s 12ms/step - loss: 1.9714e-04 - mean_squared_error: 1.9714e-04 - accuracy: 0.0011 - val_loss: 1.9385e-04 - val_mean_squared_error: 1.9385e-04 - val_accuracy: 0.0026\n",
      "Epoch 148/200\n",
      "93/93 [==============================] - 1s 12ms/step - loss: 2.4014e-04 - mean_squared_error: 2.4014e-04 - accuracy: 0.0011 - val_loss: 2.3672e-04 - val_mean_squared_error: 2.3672e-04 - val_accuracy: 0.0026\n",
      "Epoch 149/200\n"
     ]
    },
    {
     "name": "stdout",
     "output_type": "stream",
     "text": [
      "93/93 [==============================] - 1s 12ms/step - loss: 1.6240e-04 - mean_squared_error: 1.6240e-04 - accuracy: 0.0011 - val_loss: 2.1282e-04 - val_mean_squared_error: 2.1282e-04 - val_accuracy: 0.0026\n",
      "Epoch 150/200\n",
      "93/93 [==============================] - 1s 12ms/step - loss: 1.6891e-04 - mean_squared_error: 1.6891e-04 - accuracy: 0.0011 - val_loss: 8.9561e-04 - val_mean_squared_error: 8.9561e-04 - val_accuracy: 0.0026\n",
      "Epoch 151/200\n",
      "93/93 [==============================] - 1s 12ms/step - loss: 2.0286e-04 - mean_squared_error: 2.0286e-04 - accuracy: 0.0011 - val_loss: 8.6515e-04 - val_mean_squared_error: 8.6515e-04 - val_accuracy: 0.0026\n",
      "Epoch 152/200\n",
      "93/93 [==============================] - 1s 12ms/step - loss: 1.7313e-04 - mean_squared_error: 1.7313e-04 - accuracy: 0.0011 - val_loss: 8.3772e-04 - val_mean_squared_error: 8.3772e-04 - val_accuracy: 0.0026\n",
      "Epoch 153/200\n",
      "93/93 [==============================] - 1s 12ms/step - loss: 1.8214e-04 - mean_squared_error: 1.8214e-04 - accuracy: 0.0011 - val_loss: 4.1461e-04 - val_mean_squared_error: 4.1461e-04 - val_accuracy: 0.0026\n",
      "Epoch 154/200\n",
      "93/93 [==============================] - 1s 12ms/step - loss: 1.7633e-04 - mean_squared_error: 1.7633e-04 - accuracy: 0.0011 - val_loss: 5.3359e-04 - val_mean_squared_error: 5.3359e-04 - val_accuracy: 0.0026\n",
      "Epoch 155/200\n",
      "93/93 [==============================] - 1s 12ms/step - loss: 2.8839e-04 - mean_squared_error: 2.8839e-04 - accuracy: 0.0011 - val_loss: 2.9838e-04 - val_mean_squared_error: 2.9838e-04 - val_accuracy: 0.0026\n",
      "Epoch 156/200\n",
      "93/93 [==============================] - 1s 12ms/step - loss: 1.7558e-04 - mean_squared_error: 1.7558e-04 - accuracy: 0.0011 - val_loss: 5.0103e-04 - val_mean_squared_error: 5.0103e-04 - val_accuracy: 0.0026\n",
      "Epoch 157/200\n",
      "93/93 [==============================] - 1s 12ms/step - loss: 1.7908e-04 - mean_squared_error: 1.7908e-04 - accuracy: 0.0011 - val_loss: 9.8146e-04 - val_mean_squared_error: 9.8146e-04 - val_accuracy: 0.0026\n",
      "Epoch 158/200\n",
      "93/93 [==============================] - 1s 12ms/step - loss: 2.3409e-04 - mean_squared_error: 2.3409e-04 - accuracy: 0.0011 - val_loss: 2.4592e-04 - val_mean_squared_error: 2.4592e-04 - val_accuracy: 0.0026\n",
      "Epoch 159/200\n",
      "93/93 [==============================] - 1s 12ms/step - loss: 2.2567e-04 - mean_squared_error: 2.2567e-04 - accuracy: 0.0011 - val_loss: 0.0014 - val_mean_squared_error: 0.0014 - val_accuracy: 0.0026\n",
      "Epoch 160/200\n",
      "93/93 [==============================] - 1s 12ms/step - loss: 1.9675e-04 - mean_squared_error: 1.9675e-04 - accuracy: 0.0011 - val_loss: 8.4180e-04 - val_mean_squared_error: 8.4180e-04 - val_accuracy: 0.0026\n",
      "Epoch 161/200\n",
      "93/93 [==============================] - 1s 13ms/step - loss: 1.5774e-04 - mean_squared_error: 1.5774e-04 - accuracy: 0.0011 - val_loss: 3.7647e-04 - val_mean_squared_error: 3.7647e-04 - val_accuracy: 0.0026\n",
      "Epoch 162/200\n",
      "93/93 [==============================] - 1s 12ms/step - loss: 2.4736e-04 - mean_squared_error: 2.4736e-04 - accuracy: 0.0011 - val_loss: 2.3507e-04 - val_mean_squared_error: 2.3507e-04 - val_accuracy: 0.0026\n",
      "Epoch 163/200\n",
      "93/93 [==============================] - 1s 12ms/step - loss: 1.7040e-04 - mean_squared_error: 1.7040e-04 - accuracy: 0.0011 - val_loss: 1.8858e-04 - val_mean_squared_error: 1.8858e-04 - val_accuracy: 0.0026\n",
      "Epoch 164/200\n",
      "93/93 [==============================] - 1s 13ms/step - loss: 1.3595e-04 - mean_squared_error: 1.3595e-04 - accuracy: 0.0011 - val_loss: 1.9748e-04 - val_mean_squared_error: 1.9748e-04 - val_accuracy: 0.0026\n",
      "Epoch 165/200\n",
      "93/93 [==============================] - 1s 12ms/step - loss: 1.7237e-04 - mean_squared_error: 1.7237e-04 - accuracy: 0.0011 - val_loss: 2.0969e-04 - val_mean_squared_error: 2.0969e-04 - val_accuracy: 0.0026\n",
      "Epoch 166/200\n",
      "93/93 [==============================] - 1s 12ms/step - loss: 2.6631e-04 - mean_squared_error: 2.6631e-04 - accuracy: 0.0011 - val_loss: 0.0017 - val_mean_squared_error: 0.0017 - val_accuracy: 0.0026\n",
      "Epoch 167/200\n",
      "93/93 [==============================] - 1s 12ms/step - loss: 1.9270e-04 - mean_squared_error: 1.9270e-04 - accuracy: 0.0011 - val_loss: 2.7800e-04 - val_mean_squared_error: 2.7800e-04 - val_accuracy: 0.0026\n",
      "Epoch 168/200\n",
      "93/93 [==============================] - 1s 12ms/step - loss: 1.4583e-04 - mean_squared_error: 1.4583e-04 - accuracy: 0.0011 - val_loss: 2.2566e-04 - val_mean_squared_error: 2.2566e-04 - val_accuracy: 0.0026\n",
      "Epoch 169/200\n",
      "93/93 [==============================] - 1s 12ms/step - loss: 1.6032e-04 - mean_squared_error: 1.6032e-04 - accuracy: 0.0011 - val_loss: 2.0947e-04 - val_mean_squared_error: 2.0947e-04 - val_accuracy: 0.0026\n",
      "Epoch 170/200\n",
      "93/93 [==============================] - 1s 12ms/step - loss: 1.6836e-04 - mean_squared_error: 1.6836e-04 - accuracy: 0.0011 - val_loss: 0.0018 - val_mean_squared_error: 0.0018 - val_accuracy: 0.0026\n",
      "Epoch 171/200\n",
      "93/93 [==============================] - 1s 12ms/step - loss: 2.6145e-04 - mean_squared_error: 2.6145e-04 - accuracy: 0.0011 - val_loss: 5.7406e-04 - val_mean_squared_error: 5.7406e-04 - val_accuracy: 0.0026\n",
      "Epoch 172/200\n",
      "93/93 [==============================] - 1s 12ms/step - loss: 1.5823e-04 - mean_squared_error: 1.5823e-04 - accuracy: 0.0011 - val_loss: 4.0149e-04 - val_mean_squared_error: 4.0149e-04 - val_accuracy: 0.0026\n",
      "Epoch 173/200\n",
      "93/93 [==============================] - 1s 13ms/step - loss: 1.9745e-04 - mean_squared_error: 1.9745e-04 - accuracy: 0.0011 - val_loss: 2.6896e-04 - val_mean_squared_error: 2.6896e-04 - val_accuracy: 0.0026\n",
      "Epoch 174/200\n",
      "93/93 [==============================] - 1s 12ms/step - loss: 1.4105e-04 - mean_squared_error: 1.4105e-04 - accuracy: 0.0011 - val_loss: 1.9906e-04 - val_mean_squared_error: 1.9906e-04 - val_accuracy: 0.0026\n",
      "Epoch 175/200\n",
      "93/93 [==============================] - 1s 12ms/step - loss: 1.7716e-04 - mean_squared_error: 1.7716e-04 - accuracy: 0.0011 - val_loss: 2.0720e-04 - val_mean_squared_error: 2.0720e-04 - val_accuracy: 0.0026\n",
      "Epoch 176/200\n",
      "93/93 [==============================] - 1s 12ms/step - loss: 1.8822e-04 - mean_squared_error: 1.8822e-04 - accuracy: 0.0011 - val_loss: 3.9647e-04 - val_mean_squared_error: 3.9647e-04 - val_accuracy: 0.0026\n",
      "Epoch 177/200\n",
      "93/93 [==============================] - 1s 13ms/step - loss: 1.5896e-04 - mean_squared_error: 1.5896e-04 - accuracy: 0.0011 - val_loss: 2.1207e-04 - val_mean_squared_error: 2.1207e-04 - val_accuracy: 0.0026\n",
      "Epoch 178/200\n",
      "93/93 [==============================] - 1s 13ms/step - loss: 2.1294e-04 - mean_squared_error: 2.1294e-04 - accuracy: 0.0011 - val_loss: 2.1173e-04 - val_mean_squared_error: 2.1173e-04 - val_accuracy: 0.0026\n",
      "Epoch 179/200\n",
      "93/93 [==============================] - 1s 13ms/step - loss: 1.3874e-04 - mean_squared_error: 1.3874e-04 - accuracy: 0.0011 - val_loss: 3.2264e-04 - val_mean_squared_error: 3.2264e-04 - val_accuracy: 0.0026\n",
      "Epoch 180/200\n",
      "93/93 [==============================] - 1s 13ms/step - loss: 1.6292e-04 - mean_squared_error: 1.6292e-04 - accuracy: 0.0011 - val_loss: 2.4712e-04 - val_mean_squared_error: 2.4712e-04 - val_accuracy: 0.0026\n",
      "Epoch 181/200\n",
      "93/93 [==============================] - 1s 12ms/step - loss: 1.9824e-04 - mean_squared_error: 1.9824e-04 - accuracy: 0.0011 - val_loss: 4.2614e-04 - val_mean_squared_error: 4.2614e-04 - val_accuracy: 0.0026\n",
      "Epoch 182/200\n",
      "93/93 [==============================] - 1s 12ms/step - loss: 1.7452e-04 - mean_squared_error: 1.7452e-04 - accuracy: 0.0011 - val_loss: 5.8472e-04 - val_mean_squared_error: 5.8472e-04 - val_accuracy: 0.0026\n",
      "Epoch 183/200\n",
      "93/93 [==============================] - 1s 12ms/step - loss: 1.8997e-04 - mean_squared_error: 1.8997e-04 - accuracy: 0.0011 - val_loss: 1.9761e-04 - val_mean_squared_error: 1.9761e-04 - val_accuracy: 0.0026\n",
      "Epoch 184/200\n",
      "93/93 [==============================] - 1s 12ms/step - loss: 1.4585e-04 - mean_squared_error: 1.4585e-04 - accuracy: 0.0011 - val_loss: 2.0416e-04 - val_mean_squared_error: 2.0416e-04 - val_accuracy: 0.0026\n",
      "Epoch 185/200\n",
      "93/93 [==============================] - 1s 14ms/step - loss: 1.5617e-04 - mean_squared_error: 1.5617e-04 - accuracy: 0.0011 - val_loss: 2.0747e-04 - val_mean_squared_error: 2.0747e-04 - val_accuracy: 0.0026\n",
      "Epoch 186/200\n"
     ]
    },
    {
     "name": "stdout",
     "output_type": "stream",
     "text": [
      "93/93 [==============================] - 1s 13ms/step - loss: 1.5661e-04 - mean_squared_error: 1.5661e-04 - accuracy: 0.0011 - val_loss: 2.9226e-04 - val_mean_squared_error: 2.9226e-04 - val_accuracy: 0.0026\n",
      "Epoch 187/200\n",
      "93/93 [==============================] - 2s 18ms/step - loss: 1.7355e-04 - mean_squared_error: 1.7355e-04 - accuracy: 0.0011 - val_loss: 3.4990e-04 - val_mean_squared_error: 3.4990e-04 - val_accuracy: 0.0026\n",
      "Epoch 188/200\n",
      "93/93 [==============================] - 1s 16ms/step - loss: 1.8992e-04 - mean_squared_error: 1.8992e-04 - accuracy: 0.0011 - val_loss: 1.9242e-04 - val_mean_squared_error: 1.9242e-04 - val_accuracy: 0.0026\n",
      "Epoch 189/200\n",
      "93/93 [==============================] - 1s 15ms/step - loss: 2.0694e-04 - mean_squared_error: 2.0694e-04 - accuracy: 0.0011 - val_loss: 1.9142e-04 - val_mean_squared_error: 1.9142e-04 - val_accuracy: 0.0026\n",
      "Epoch 190/200\n",
      "93/93 [==============================] - 1s 15ms/step - loss: 1.7013e-04 - mean_squared_error: 1.7013e-04 - accuracy: 0.0011 - val_loss: 7.9921e-04 - val_mean_squared_error: 7.9921e-04 - val_accuracy: 0.0026\n",
      "Epoch 191/200\n",
      "93/93 [==============================] - 1s 14ms/step - loss: 2.0302e-04 - mean_squared_error: 2.0302e-04 - accuracy: 0.0011 - val_loss: 4.8418e-04 - val_mean_squared_error: 4.8418e-04 - val_accuracy: 0.0026\n",
      "Epoch 192/200\n",
      "93/93 [==============================] - 1s 14ms/step - loss: 1.8158e-04 - mean_squared_error: 1.8158e-04 - accuracy: 0.0011 - val_loss: 3.5931e-04 - val_mean_squared_error: 3.5931e-04 - val_accuracy: 0.0026\n",
      "Epoch 193/200\n",
      "93/93 [==============================] - 1s 15ms/step - loss: 1.5697e-04 - mean_squared_error: 1.5697e-04 - accuracy: 0.0011 - val_loss: 2.6227e-04 - val_mean_squared_error: 2.6227e-04 - val_accuracy: 0.0026\n",
      "Epoch 194/200\n",
      "93/93 [==============================] - 1s 15ms/step - loss: 1.5155e-04 - mean_squared_error: 1.5155e-04 - accuracy: 0.0011 - val_loss: 1.9762e-04 - val_mean_squared_error: 1.9762e-04 - val_accuracy: 0.0026\n",
      "Epoch 195/200\n",
      "93/93 [==============================] - 1s 15ms/step - loss: 1.5871e-04 - mean_squared_error: 1.5871e-04 - accuracy: 0.0011 - val_loss: 6.0876e-04 - val_mean_squared_error: 6.0876e-04 - val_accuracy: 0.0026\n",
      "Epoch 196/200\n",
      "93/93 [==============================] - 1s 16ms/step - loss: 1.4799e-04 - mean_squared_error: 1.4799e-04 - accuracy: 0.0011 - val_loss: 1.9253e-04 - val_mean_squared_error: 1.9253e-04 - val_accuracy: 0.0026\n",
      "Epoch 197/200\n",
      "93/93 [==============================] - 1s 15ms/step - loss: 1.9154e-04 - mean_squared_error: 1.9154e-04 - accuracy: 0.0011 - val_loss: 5.0742e-04 - val_mean_squared_error: 5.0742e-04 - val_accuracy: 0.0026\n",
      "Epoch 198/200\n",
      "93/93 [==============================] - 1s 15ms/step - loss: 1.4851e-04 - mean_squared_error: 1.4851e-04 - accuracy: 0.0011 - val_loss: 1.9939e-04 - val_mean_squared_error: 1.9939e-04 - val_accuracy: 0.0026\n",
      "Epoch 199/200\n",
      "93/93 [==============================] - 1s 15ms/step - loss: 1.6648e-04 - mean_squared_error: 1.6648e-04 - accuracy: 0.0011 - val_loss: 3.3649e-04 - val_mean_squared_error: 3.3649e-04 - val_accuracy: 0.0026\n",
      "Epoch 200/200\n",
      "93/93 [==============================] - 1s 15ms/step - loss: 1.5990e-04 - mean_squared_error: 1.5990e-04 - accuracy: 0.0011 - val_loss: 2.9191e-04 - val_mean_squared_error: 2.9191e-04 - val_accuracy: 0.0026\n"
     ]
    },
    {
     "data": {
      "text/plain": [
       "<keras.callbacks.History at 0x274ab3c0490>"
      ]
     },
     "execution_count": 14,
     "metadata": {},
     "output_type": "execute_result"
    }
   ],
   "source": [
    "model.fit(X_train, y_train, validation_data=(X_test, y_test), epochs=200, batch_size=10, verbose=1)"
   ]
  },
  {
   "cell_type": "markdown",
   "metadata": {},
   "source": [
    "Train and Test Prediction"
   ]
  },
  {
   "cell_type": "code",
   "execution_count": 15,
   "metadata": {},
   "outputs": [
    {
     "name": "stdout",
     "output_type": "stream",
     "text": [
      "29/29 [==============================] - 1s 7ms/step\n",
      "12/12 [==============================] - 0s 7ms/step\n"
     ]
    }
   ],
   "source": [
    "train_pred = model.predict(X_train)\n",
    "test_pred = model.predict(X_test)"
   ]
  },
  {
   "cell_type": "code",
   "execution_count": 16,
   "metadata": {},
   "outputs": [],
   "source": [
    "train_pred = scaler.inverse_transform(train_pred)\n",
    "test_pred = scaler.inverse_transform(test_pred)"
   ]
  },
  {
   "cell_type": "code",
   "execution_count": 17,
   "metadata": {},
   "outputs": [
    {
     "name": "stdout",
     "output_type": "stream",
     "text": [
      "12/12 [==============================] - 0s 7ms/step - loss: 2.9191e-04 - mean_squared_error: 2.9191e-04 - accuracy: 0.0026\n"
     ]
    },
    {
     "data": {
      "text/plain": [
       "[0.0002919095859397203, 0.0002919095859397203, 0.002624671906232834]"
      ]
     },
     "execution_count": 17,
     "metadata": {},
     "output_type": "execute_result"
    }
   ],
   "source": [
    "model.evaluate(X_test, y_test)"
   ]
  },
  {
   "cell_type": "markdown",
   "metadata": {},
   "source": [
    "Mean Square Error of train and test Data"
   ]
  },
  {
   "cell_type": "code",
   "execution_count": 18,
   "metadata": {},
   "outputs": [
    {
     "name": "stdout",
     "output_type": "stream",
     "text": [
      "12452.999163529186\n",
      "17490.898794651148\n"
     ]
    }
   ],
   "source": [
    "train_val = math.sqrt(mse(y_train, train_pred))\n",
    "print(train_val)\n",
    "test_val = math.sqrt(mse(y_test, test_pred))\n",
    "print(test_val)"
   ]
  },
  {
   "cell_type": "markdown",
   "metadata": {},
   "source": [
    "Comparing the actual and predicted data on a graph"
   ]
  },
  {
   "cell_type": "code",
   "execution_count": 19,
   "metadata": {},
   "outputs": [
    {
     "data": {
      "image/png": "[encoded data removed]",
      "text/plain": [
       "<Figure size 432x288 with 1 Axes>"
      ]
     },
     "metadata": {
      "needs_background": "light"
     },
     "output_type": "display_data"
    }
   ],
   "source": [
    "look_back=30\n",
    "trainPredictPlot = np.empty_like(df)\n",
    "trainPredictPlot[:, :] = np.nan\n",
    "trainPredictPlot[look_back:len(train_pred)+look_back, :] = train_pred\n",
    "# shift test predictions for plotting\n",
    "testPredictPlot = np.empty_like(df)\n",
    "testPredictPlot[:, :] = np.nan\n",
    "testPredictPlot[len(train_pred)+(look_back*2)+1:len(df)-1, :] = test_pred\n",
    "# plot baseline and predictions\n",
    "plt.plot(scaler.inverse_transform(df))\n",
    "plt.plot(trainPredictPlot)\n",
    "plt.plot(testPredictPlot)\n",
    "plt.show()"
   ]
  },
  {
   "cell_type": "code",
   "execution_count": 45,
   "metadata": {},
   "outputs": [],
   "source": [
    "model.save('C:/Users/Home/Desktop/i_hate_this/StockPricePrediction/artifacts/models/model.h5')\n",
    "model.save('model.h5')"
   ]
  },
  {
   "cell_type": "markdown",
   "metadata": {},
   "source": [
    "Hyperparameter Tuning"
   ]
  },
  {
   "cell_type": "code",
   "execution_count": 20,
   "metadata": {},
   "outputs": [],
   "source": [
    "def build_model(hp):\n",
    "    model = Sequential()\n",
    "    model.add(layers.Input((30, 1)),)\n",
    "    model.add(layers.LSTM(64))\n",
    "    model.add(layers.Dense(32, activation='relu'))\n",
    "    model.add(layers.Dense(1, activation='linear'))\n",
    "\n",
    "    learning_rate = hp.Choice('learning_rate',  values=[1e-2, 1e-3, 1e-4])\n",
    "\n",
    "    optimizers = hp.Choice('optimizer', values=['Adagrad', 'Adadelta', 'Adadelta', 'Rmsprop'])\n",
    "\n",
    "    model.compile(optimizer=Adam(learning_rate=learning_rate), metrics=['mean_squared_error', 'accuracy'], loss='mse')\n",
    "    \n",
    "    return model"
   ]
  },
  {
   "cell_type": "code",
   "execution_count": 21,
   "metadata": {},
   "outputs": [],
   "source": [
    "tuner = kt.RandomSearch(build_model,\n",
    "                        objective='val_loss',\n",
    "                        max_trials = 5,\n",
    "                        directory='mydir')"
   ]
  },
  {
   "cell_type": "code",
   "execution_count": 22,
   "metadata": {},
   "outputs": [
    {
     "name": "stdout",
     "output_type": "stream",
     "text": [
      "Trial 5 Complete [00h 00m 09s]\n",
      "val_loss: 0.0008232906693592668\n",
      "\n",
      "Best val_loss So Far: 0.0005793613381683826\n",
      "Total elapsed time: 00h 00m 49s\n",
      "INFO:tensorflow:Oracle triggered exit\n"
     ]
    }
   ],
   "source": [
    "tuner.search(X_train, y_train, epochs=5, validation_data=(X_test, y_test))"
   ]
  },
  {
   "cell_type": "code",
   "execution_count": 23,
   "metadata": {},
   "outputs": [
    {
     "data": {
      "text/plain": [
       "{'learning_rate': 0.01, 'optimizer': 'Adadelta'}"
      ]
     },
     "execution_count": 23,
     "metadata": {},
     "output_type": "execute_result"
    }
   ],
   "source": [
    "tuner.get_best_hyperparameters()[0].values"
   ]
  },
  {
   "cell_type": "markdown",
   "metadata": {},
   "source": [
    "Training on new parameters after hyperparameter tuning"
   ]
  },
  {
   "cell_type": "code",
   "execution_count": 24,
   "metadata": {},
   "outputs": [],
   "source": [
    "tuned_model = tuner.get_best_models(num_models=1)[0]"
   ]
  },
  {
   "cell_type": "code",
   "execution_count": 25,
   "metadata": {},
   "outputs": [
    {
     "name": "stdout",
     "output_type": "stream",
     "text": [
      "Model: \"sequential\"\n",
      "_________________________________________________________________\n",
      " Layer (type)                Output Shape              Param #   \n",
      "=================================================================\n",
      " lstm (LSTM)                 (None, 64)                16896     \n",
      "                                                                 \n",
      " dense (Dense)               (None, 32)                2080      \n",
      "                                                                 \n",
      " dense_1 (Dense)             (None, 1)                 33        \n",
      "                                                                 \n",
      "=================================================================\n",
      "Total params: 19,009\n",
      "Trainable params: 19,009\n",
      "Non-trainable params: 0\n",
      "_________________________________________________________________\n"
     ]
    }
   ],
   "source": [
    "tuned_model.summary()"
   ]
  },
  {
   "cell_type": "code",
   "execution_count": 26,
   "metadata": {},
   "outputs": [
    {
     "name": "stdout",
     "output_type": "stream",
     "text": [
      "Epoch 7/200\n",
      "93/93 [==============================] - 8s 34ms/step - loss: 0.0010 - mean_squared_error: 0.0010 - accuracy: 0.0011 - val_loss: 0.0064 - val_mean_squared_error: 0.0064 - val_accuracy: 0.0026\n",
      "Epoch 8/200\n",
      "93/93 [==============================] - 2s 18ms/step - loss: 0.0051 - mean_squared_error: 0.0051 - accuracy: 0.0011 - val_loss: 0.0021 - val_mean_squared_error: 0.0021 - val_accuracy: 0.0026\n",
      "Epoch 9/200\n",
      "93/93 [==============================] - 1s 15ms/step - loss: 0.0094 - mean_squared_error: 0.0094 - accuracy: 0.0011 - val_loss: 0.0160 - val_mean_squared_error: 0.0160 - val_accuracy: 0.0026\n",
      "Epoch 10/200\n",
      "93/93 [==============================] - 2s 16ms/step - loss: 0.0195 - mean_squared_error: 0.0195 - accuracy: 0.0011 - val_loss: 0.0192 - val_mean_squared_error: 0.0192 - val_accuracy: 0.0026\n",
      "Epoch 11/200\n",
      "93/93 [==============================] - 1s 15ms/step - loss: 0.0212 - mean_squared_error: 0.0212 - accuracy: 0.0011 - val_loss: 0.0118 - val_mean_squared_error: 0.0118 - val_accuracy: 0.0026\n",
      "Epoch 12/200\n",
      "93/93 [==============================] - 2s 18ms/step - loss: 0.0311 - mean_squared_error: 0.0311 - accuracy: 0.0011 - val_loss: 0.0163 - val_mean_squared_error: 0.0163 - val_accuracy: 0.0026\n",
      "Epoch 13/200\n",
      "93/93 [==============================] - 1s 15ms/step - loss: 0.0451 - mean_squared_error: 0.0451 - accuracy: 0.0011 - val_loss: 0.0268 - val_mean_squared_error: 0.0268 - val_accuracy: 0.0026\n",
      "Epoch 14/200\n",
      "93/93 [==============================] - 1s 15ms/step - loss: 0.0323 - mean_squared_error: 0.0323 - accuracy: 0.0011 - val_loss: 0.0052 - val_mean_squared_error: 0.0052 - val_accuracy: 0.0026\n",
      "Epoch 15/200\n",
      "93/93 [==============================] - 2s 17ms/step - loss: 0.0364 - mean_squared_error: 0.0364 - accuracy: 0.0011 - val_loss: 0.0436 - val_mean_squared_error: 0.0436 - val_accuracy: 0.0026\n",
      "Epoch 16/200\n",
      "93/93 [==============================] - 1s 16ms/step - loss: 0.0268 - mean_squared_error: 0.0268 - accuracy: 0.0011 - val_loss: 0.0035 - val_mean_squared_error: 0.0035 - val_accuracy: 0.0026\n",
      "Epoch 17/200\n",
      "93/93 [==============================] - 1s 16ms/step - loss: 0.0119 - mean_squared_error: 0.0119 - accuracy: 0.0011 - val_loss: 0.0072 - val_mean_squared_error: 0.0072 - val_accuracy: 0.0026\n",
      "Epoch 18/200\n",
      "93/93 [==============================] - 1s 15ms/step - loss: 0.0154 - mean_squared_error: 0.0154 - accuracy: 0.0011 - val_loss: 0.0032 - val_mean_squared_error: 0.0032 - val_accuracy: 0.0026\n",
      "Epoch 19/200\n",
      "93/93 [==============================] - 1s 15ms/step - loss: 0.0136 - mean_squared_error: 0.0136 - accuracy: 0.0011 - val_loss: 0.0038 - val_mean_squared_error: 0.0038 - val_accuracy: 0.0026\n",
      "Epoch 20/200\n",
      "93/93 [==============================] - 1s 15ms/step - loss: 0.0232 - mean_squared_error: 0.0232 - accuracy: 0.0011 - val_loss: 0.0063 - val_mean_squared_error: 0.0063 - val_accuracy: 0.0026\n",
      "Epoch 21/200\n",
      "93/93 [==============================] - 1s 15ms/step - loss: 0.0300 - mean_squared_error: 0.0300 - accuracy: 0.0011 - val_loss: 0.0314 - val_mean_squared_error: 0.0314 - val_accuracy: 0.0026\n",
      "Epoch 22/200\n",
      "93/93 [==============================] - 1s 15ms/step - loss: 0.0125 - mean_squared_error: 0.0125 - accuracy: 0.0011 - val_loss: 0.0035 - val_mean_squared_error: 0.0035 - val_accuracy: 0.0026\n",
      "Epoch 23/200\n",
      "93/93 [==============================] - 1s 15ms/step - loss: 0.0026 - mean_squared_error: 0.0026 - accuracy: 0.0011 - val_loss: 7.5827e-04 - val_mean_squared_error: 7.5827e-04 - val_accuracy: 0.0026\n",
      "Epoch 24/200\n",
      "93/93 [==============================] - 1s 16ms/step - loss: 0.0014 - mean_squared_error: 0.0014 - accuracy: 0.0011 - val_loss: 0.0012 - val_mean_squared_error: 0.0012 - val_accuracy: 0.0026\n",
      "Epoch 25/200\n",
      "93/93 [==============================] - 1s 15ms/step - loss: 0.0010 - mean_squared_error: 0.0010 - accuracy: 0.0011 - val_loss: 0.0014 - val_mean_squared_error: 0.0014 - val_accuracy: 0.0026\n",
      "Epoch 26/200\n",
      "93/93 [==============================] - 2s 16ms/step - loss: 6.4644e-04 - mean_squared_error: 6.4644e-04 - accuracy: 0.0011 - val_loss: 9.2313e-04 - val_mean_squared_error: 9.2313e-04 - val_accuracy: 0.0026\n",
      "Epoch 27/200\n",
      "93/93 [==============================] - 2s 18ms/step - loss: 5.8204e-04 - mean_squared_error: 5.8204e-04 - accuracy: 0.0011 - val_loss: 5.3766e-04 - val_mean_squared_error: 5.3766e-04 - val_accuracy: 0.0026\n",
      "Epoch 28/200\n",
      "93/93 [==============================] - 2s 16ms/step - loss: 6.4423e-04 - mean_squared_error: 6.4423e-04 - accuracy: 0.0011 - val_loss: 6.5546e-04 - val_mean_squared_error: 6.5546e-04 - val_accuracy: 0.0026\n",
      "Epoch 29/200\n",
      "93/93 [==============================] - 1s 16ms/step - loss: 5.2377e-04 - mean_squared_error: 5.2377e-04 - accuracy: 0.0011 - val_loss: 8.0626e-04 - val_mean_squared_error: 8.0626e-04 - val_accuracy: 0.0026\n",
      "Epoch 30/200\n",
      "93/93 [==============================] - 1s 15ms/step - loss: 4.4163e-04 - mean_squared_error: 4.4163e-04 - accuracy: 0.0011 - val_loss: 7.4169e-04 - val_mean_squared_error: 7.4169e-04 - val_accuracy: 0.0026\n",
      "Epoch 31/200\n",
      "93/93 [==============================] - 1s 16ms/step - loss: 3.8813e-04 - mean_squared_error: 3.8813e-04 - accuracy: 0.0011 - val_loss: 7.6006e-04 - val_mean_squared_error: 7.6006e-04 - val_accuracy: 0.0026\n",
      "Epoch 32/200\n",
      "93/93 [==============================] - 2s 17ms/step - loss: 3.7575e-04 - mean_squared_error: 3.7575e-04 - accuracy: 0.0011 - val_loss: 6.8953e-04 - val_mean_squared_error: 6.8953e-04 - val_accuracy: 0.0026\n",
      "Epoch 33/200\n",
      "93/93 [==============================] - 1s 15ms/step - loss: 3.8671e-04 - mean_squared_error: 3.8671e-04 - accuracy: 0.0011 - val_loss: 6.0066e-04 - val_mean_squared_error: 6.0066e-04 - val_accuracy: 0.0026\n",
      "Epoch 34/200\n",
      "93/93 [==============================] - 1s 15ms/step - loss: 4.4695e-04 - mean_squared_error: 4.4695e-04 - accuracy: 0.0011 - val_loss: 6.5137e-04 - val_mean_squared_error: 6.5137e-04 - val_accuracy: 0.0026\n",
      "Epoch 35/200\n",
      "93/93 [==============================] - 1s 15ms/step - loss: 5.0652e-04 - mean_squared_error: 5.0652e-04 - accuracy: 0.0011 - val_loss: 0.0016 - val_mean_squared_error: 0.0016 - val_accuracy: 0.0026\n",
      "Epoch 36/200\n",
      "93/93 [==============================] - 2s 17ms/step - loss: 4.9972e-04 - mean_squared_error: 4.9972e-04 - accuracy: 0.0011 - val_loss: 0.0019 - val_mean_squared_error: 0.0019 - val_accuracy: 0.0026\n",
      "Epoch 37/200\n",
      "93/93 [==============================] - 2s 20ms/step - loss: 4.1230e-04 - mean_squared_error: 4.1230e-04 - accuracy: 0.0011 - val_loss: 0.0013 - val_mean_squared_error: 0.0013 - val_accuracy: 0.0026\n",
      "Epoch 38/200\n",
      "93/93 [==============================] - 2s 17ms/step - loss: 3.0865e-04 - mean_squared_error: 3.0865e-04 - accuracy: 0.0011 - val_loss: 5.0329e-04 - val_mean_squared_error: 5.0329e-04 - val_accuracy: 0.0026\n",
      "Epoch 39/200\n",
      "93/93 [==============================] - 2s 16ms/step - loss: 3.6539e-04 - mean_squared_error: 3.6539e-04 - accuracy: 0.0011 - val_loss: 4.6506e-04 - val_mean_squared_error: 4.6506e-04 - val_accuracy: 0.0026\n",
      "Epoch 40/200\n",
      "93/93 [==============================] - 1s 15ms/step - loss: 4.8015e-04 - mean_squared_error: 4.8015e-04 - accuracy: 0.0011 - val_loss: 5.9674e-04 - val_mean_squared_error: 5.9674e-04 - val_accuracy: 0.0026\n",
      "Epoch 41/200\n",
      "93/93 [==============================] - 1s 15ms/step - loss: 4.8740e-04 - mean_squared_error: 4.8740e-04 - accuracy: 0.0011 - val_loss: 0.0013 - val_mean_squared_error: 0.0013 - val_accuracy: 0.0026\n",
      "Epoch 42/200\n",
      "93/93 [==============================] - 1s 15ms/step - loss: 4.2157e-04 - mean_squared_error: 4.2157e-04 - accuracy: 0.0011 - val_loss: 0.0020 - val_mean_squared_error: 0.0020 - val_accuracy: 0.0026\n",
      "Epoch 43/200\n",
      "93/93 [==============================] - 1s 15ms/step - loss: 4.3160e-04 - mean_squared_error: 4.3160e-04 - accuracy: 0.0011 - val_loss: 0.0021 - val_mean_squared_error: 0.0021 - val_accuracy: 0.0026\n",
      "Epoch 44/200\n",
      "93/93 [==============================] - 1s 15ms/step - loss: 4.3417e-04 - mean_squared_error: 4.3417e-04 - accuracy: 0.0011 - val_loss: 0.0022 - val_mean_squared_error: 0.0022 - val_accuracy: 0.0026\n",
      "Epoch 45/200\n",
      "93/93 [==============================] - 1s 15ms/step - loss: 4.7207e-04 - mean_squared_error: 4.7207e-04 - accuracy: 0.0011 - val_loss: 0.0024 - val_mean_squared_error: 0.0024 - val_accuracy: 0.0026\n"
     ]
    },
    {
     "name": "stdout",
     "output_type": "stream",
     "text": [
      "Epoch 46/200\n",
      "93/93 [==============================] - 1s 15ms/step - loss: 5.0983e-04 - mean_squared_error: 5.0983e-04 - accuracy: 0.0011 - val_loss: 0.0029 - val_mean_squared_error: 0.0029 - val_accuracy: 0.0026\n",
      "Epoch 47/200\n",
      "93/93 [==============================] - 1s 15ms/step - loss: 5.8010e-04 - mean_squared_error: 5.8010e-04 - accuracy: 0.0011 - val_loss: 0.0035 - val_mean_squared_error: 0.0035 - val_accuracy: 0.0026\n",
      "Epoch 48/200\n",
      "93/93 [==============================] - 1s 15ms/step - loss: 6.3697e-04 - mean_squared_error: 6.3697e-04 - accuracy: 0.0011 - val_loss: 0.0038 - val_mean_squared_error: 0.0038 - val_accuracy: 0.0026\n",
      "Epoch 49/200\n",
      "93/93 [==============================] - 1s 15ms/step - loss: 7.0168e-04 - mean_squared_error: 7.0168e-04 - accuracy: 0.0011 - val_loss: 0.0039 - val_mean_squared_error: 0.0039 - val_accuracy: 0.0026\n",
      "Epoch 50/200\n",
      "93/93 [==============================] - 1s 15ms/step - loss: 7.3113e-04 - mean_squared_error: 7.3113e-04 - accuracy: 0.0011 - val_loss: 0.0042 - val_mean_squared_error: 0.0042 - val_accuracy: 0.0026\n",
      "Epoch 51/200\n",
      "93/93 [==============================] - 1s 15ms/step - loss: 6.4037e-04 - mean_squared_error: 6.4037e-04 - accuracy: 0.0011 - val_loss: 0.0043 - val_mean_squared_error: 0.0043 - val_accuracy: 0.0026\n",
      "Epoch 52/200\n",
      "93/93 [==============================] - 1s 16ms/step - loss: 5.9074e-04 - mean_squared_error: 5.9074e-04 - accuracy: 0.0011 - val_loss: 0.0041 - val_mean_squared_error: 0.0041 - val_accuracy: 0.0026\n",
      "Epoch 53/200\n",
      "93/93 [==============================] - 1s 15ms/step - loss: 6.3282e-04 - mean_squared_error: 6.3282e-04 - accuracy: 0.0011 - val_loss: 0.0037 - val_mean_squared_error: 0.0037 - val_accuracy: 0.0026\n",
      "Epoch 54/200\n",
      "93/93 [==============================] - 1s 15ms/step - loss: 6.8310e-04 - mean_squared_error: 6.8310e-04 - accuracy: 0.0011 - val_loss: 0.0038 - val_mean_squared_error: 0.0038 - val_accuracy: 0.0026\n",
      "Epoch 55/200\n",
      "93/93 [==============================] - 1s 15ms/step - loss: 7.3103e-04 - mean_squared_error: 7.3103e-04 - accuracy: 0.0011 - val_loss: 0.0045 - val_mean_squared_error: 0.0045 - val_accuracy: 0.0026\n",
      "Epoch 56/200\n",
      "93/93 [==============================] - 1s 15ms/step - loss: 7.6519e-04 - mean_squared_error: 7.6519e-04 - accuracy: 0.0011 - val_loss: 0.0050 - val_mean_squared_error: 0.0050 - val_accuracy: 0.0026\n",
      "Epoch 57/200\n",
      "93/93 [==============================] - 1s 16ms/step - loss: 7.4885e-04 - mean_squared_error: 7.4885e-04 - accuracy: 0.0011 - val_loss: 0.0052 - val_mean_squared_error: 0.0052 - val_accuracy: 0.0026\n",
      "Epoch 58/200\n",
      "93/93 [==============================] - 1s 16ms/step - loss: 7.5894e-04 - mean_squared_error: 7.5894e-04 - accuracy: 0.0011 - val_loss: 0.0047 - val_mean_squared_error: 0.0047 - val_accuracy: 0.0026\n",
      "Epoch 59/200\n",
      "93/93 [==============================] - 1s 16ms/step - loss: 6.8819e-04 - mean_squared_error: 6.8819e-04 - accuracy: 0.0011 - val_loss: 0.0044 - val_mean_squared_error: 0.0044 - val_accuracy: 0.0026\n",
      "Epoch 60/200\n",
      "93/93 [==============================] - 1s 14ms/step - loss: 6.6872e-04 - mean_squared_error: 6.6872e-04 - accuracy: 0.0011 - val_loss: 0.0042 - val_mean_squared_error: 0.0042 - val_accuracy: 0.0026\n",
      "Epoch 61/200\n",
      "93/93 [==============================] - 1s 15ms/step - loss: 6.6801e-04 - mean_squared_error: 6.6801e-04 - accuracy: 0.0011 - val_loss: 0.0044 - val_mean_squared_error: 0.0044 - val_accuracy: 0.0026\n",
      "Epoch 62/200\n",
      "93/93 [==============================] - 1s 15ms/step - loss: 6.8877e-04 - mean_squared_error: 6.8877e-04 - accuracy: 0.0011 - val_loss: 0.0047 - val_mean_squared_error: 0.0047 - val_accuracy: 0.0026\n",
      "Epoch 63/200\n",
      "93/93 [==============================] - 1s 12ms/step - loss: 6.5470e-04 - mean_squared_error: 6.5470e-04 - accuracy: 0.0011 - val_loss: 0.0050 - val_mean_squared_error: 0.0050 - val_accuracy: 0.0026\n",
      "Epoch 64/200\n",
      "93/93 [==============================] - 1s 13ms/step - loss: 6.8950e-04 - mean_squared_error: 6.8950e-04 - accuracy: 0.0011 - val_loss: 0.0043 - val_mean_squared_error: 0.0043 - val_accuracy: 0.0026\n",
      "Epoch 65/200\n",
      "93/93 [==============================] - 1s 13ms/step - loss: 7.2582e-04 - mean_squared_error: 7.2582e-04 - accuracy: 0.0011 - val_loss: 0.0041 - val_mean_squared_error: 0.0041 - val_accuracy: 0.0026\n",
      "Epoch 66/200\n",
      "93/93 [==============================] - 1s 13ms/step - loss: 7.3219e-04 - mean_squared_error: 7.3219e-04 - accuracy: 0.0011 - val_loss: 0.0048 - val_mean_squared_error: 0.0048 - val_accuracy: 0.0026\n",
      "Epoch 67/200\n",
      "93/93 [==============================] - 1s 13ms/step - loss: 6.2699e-04 - mean_squared_error: 6.2699e-04 - accuracy: 0.0011 - val_loss: 0.0058 - val_mean_squared_error: 0.0058 - val_accuracy: 0.0026\n",
      "Epoch 68/200\n",
      "93/93 [==============================] - 1s 12ms/step - loss: 5.9266e-04 - mean_squared_error: 5.9266e-04 - accuracy: 0.0011 - val_loss: 0.0045 - val_mean_squared_error: 0.0045 - val_accuracy: 0.0026\n",
      "Epoch 69/200\n",
      "93/93 [==============================] - 1s 12ms/step - loss: 7.1001e-04 - mean_squared_error: 7.1001e-04 - accuracy: 0.0011 - val_loss: 0.0034 - val_mean_squared_error: 0.0034 - val_accuracy: 0.0026\n",
      "Epoch 70/200\n",
      "93/93 [==============================] - 1s 12ms/step - loss: 7.5310e-04 - mean_squared_error: 7.5310e-04 - accuracy: 0.0011 - val_loss: 0.0043 - val_mean_squared_error: 0.0043 - val_accuracy: 0.0026\n",
      "Epoch 71/200\n",
      "93/93 [==============================] - 1s 12ms/step - loss: 6.4054e-04 - mean_squared_error: 6.4054e-04 - accuracy: 0.0011 - val_loss: 0.0052 - val_mean_squared_error: 0.0052 - val_accuracy: 0.0026\n",
      "Epoch 72/200\n",
      "93/93 [==============================] - 1s 12ms/step - loss: 6.1320e-04 - mean_squared_error: 6.1320e-04 - accuracy: 0.0011 - val_loss: 0.0053 - val_mean_squared_error: 0.0053 - val_accuracy: 0.0026\n",
      "Epoch 73/200\n",
      "93/93 [==============================] - 1s 12ms/step - loss: 6.8950e-04 - mean_squared_error: 6.8950e-04 - accuracy: 0.0011 - val_loss: 0.0036 - val_mean_squared_error: 0.0036 - val_accuracy: 0.0026\n",
      "Epoch 74/200\n",
      "93/93 [==============================] - 1s 13ms/step - loss: 7.7960e-04 - mean_squared_error: 7.7960e-04 - accuracy: 0.0011 - val_loss: 0.0038 - val_mean_squared_error: 0.0038 - val_accuracy: 0.0026\n",
      "Epoch 75/200\n",
      "93/93 [==============================] - 1s 12ms/step - loss: 6.7060e-04 - mean_squared_error: 6.7060e-04 - accuracy: 0.0011 - val_loss: 0.0049 - val_mean_squared_error: 0.0049 - val_accuracy: 0.0026\n",
      "Epoch 76/200\n",
      "93/93 [==============================] - 1s 12ms/step - loss: 5.9180e-04 - mean_squared_error: 5.9180e-04 - accuracy: 0.0011 - val_loss: 0.0056 - val_mean_squared_error: 0.0056 - val_accuracy: 0.0026\n",
      "Epoch 77/200\n",
      "93/93 [==============================] - 1s 13ms/step - loss: 6.5217e-04 - mean_squared_error: 6.5217e-04 - accuracy: 0.0011 - val_loss: 0.0041 - val_mean_squared_error: 0.0041 - val_accuracy: 0.0026\n",
      "Epoch 78/200\n",
      "93/93 [==============================] - 1s 13ms/step - loss: 7.9245e-04 - mean_squared_error: 7.9245e-04 - accuracy: 0.0011 - val_loss: 0.0037 - val_mean_squared_error: 0.0037 - val_accuracy: 0.0026\n",
      "Epoch 79/200\n",
      "93/93 [==============================] - 1s 13ms/step - loss: 7.6412e-04 - mean_squared_error: 7.6412e-04 - accuracy: 0.0011 - val_loss: 0.0047 - val_mean_squared_error: 0.0047 - val_accuracy: 0.0026\n",
      "Epoch 80/200\n",
      "93/93 [==============================] - 1s 12ms/step - loss: 5.8088e-04 - mean_squared_error: 5.8088e-04 - accuracy: 0.0011 - val_loss: 0.0053 - val_mean_squared_error: 0.0053 - val_accuracy: 0.0026\n",
      "Epoch 81/200\n",
      "93/93 [==============================] - 1s 12ms/step - loss: 6.0808e-04 - mean_squared_error: 6.0808e-04 - accuracy: 0.0011 - val_loss: 0.0045 - val_mean_squared_error: 0.0045 - val_accuracy: 0.0026\n",
      "Epoch 82/200\n",
      "93/93 [==============================] - 1s 12ms/step - loss: 7.1424e-04 - mean_squared_error: 7.1424e-04 - accuracy: 0.0011 - val_loss: 0.0041 - val_mean_squared_error: 0.0041 - val_accuracy: 0.0026\n",
      "Epoch 83/200\n",
      "93/93 [==============================] - 1s 12ms/step - loss: 7.0820e-04 - mean_squared_error: 7.0820e-04 - accuracy: 0.0011 - val_loss: 0.0046 - val_mean_squared_error: 0.0046 - val_accuracy: 0.0026\n",
      "Epoch 84/200\n"
     ]
    },
    {
     "name": "stdout",
     "output_type": "stream",
     "text": [
      "93/93 [==============================] - 1s 12ms/step - loss: 6.4604e-04 - mean_squared_error: 6.4604e-04 - accuracy: 0.0011 - val_loss: 0.0051 - val_mean_squared_error: 0.0051 - val_accuracy: 0.0026\n",
      "Epoch 85/200\n",
      "93/93 [==============================] - 1s 12ms/step - loss: 6.5560e-04 - mean_squared_error: 6.5560e-04 - accuracy: 0.0011 - val_loss: 0.0048 - val_mean_squared_error: 0.0048 - val_accuracy: 0.0026\n",
      "Epoch 86/200\n",
      "93/93 [==============================] - 1s 12ms/step - loss: 7.4928e-04 - mean_squared_error: 7.4928e-04 - accuracy: 0.0011 - val_loss: 0.0044 - val_mean_squared_error: 0.0044 - val_accuracy: 0.0026\n",
      "Epoch 87/200\n",
      "93/93 [==============================] - 1s 13ms/step - loss: 9.3617e-04 - mean_squared_error: 9.3617e-04 - accuracy: 0.0011 - val_loss: 0.0041 - val_mean_squared_error: 0.0041 - val_accuracy: 0.0026\n",
      "Epoch 88/200\n",
      "93/93 [==============================] - 1s 12ms/step - loss: 0.0015 - mean_squared_error: 0.0015 - accuracy: 0.0011 - val_loss: 0.0059 - val_mean_squared_error: 0.0059 - val_accuracy: 0.0026\n",
      "Epoch 89/200\n",
      "93/93 [==============================] - 1s 12ms/step - loss: 0.0021 - mean_squared_error: 0.0021 - accuracy: 0.0011 - val_loss: 0.0050 - val_mean_squared_error: 0.0050 - val_accuracy: 0.0026\n",
      "Epoch 90/200\n",
      "93/93 [==============================] - 1s 12ms/step - loss: 0.0031 - mean_squared_error: 0.0031 - accuracy: 0.0011 - val_loss: 0.0036 - val_mean_squared_error: 0.0036 - val_accuracy: 0.0026\n",
      "Epoch 91/200\n",
      "93/93 [==============================] - 1s 12ms/step - loss: 0.0028 - mean_squared_error: 0.0028 - accuracy: 0.0011 - val_loss: 0.0110 - val_mean_squared_error: 0.0110 - val_accuracy: 0.0026\n",
      "Epoch 92/200\n",
      "93/93 [==============================] - 1s 12ms/step - loss: 0.0046 - mean_squared_error: 0.0046 - accuracy: 0.0011 - val_loss: 0.0269 - val_mean_squared_error: 0.0269 - val_accuracy: 0.0026\n",
      "Epoch 93/200\n",
      "93/93 [==============================] - 1s 12ms/step - loss: 0.0060 - mean_squared_error: 0.0060 - accuracy: 0.0011 - val_loss: 0.0078 - val_mean_squared_error: 0.0078 - val_accuracy: 0.0026\n",
      "Epoch 94/200\n",
      "93/93 [==============================] - 1s 12ms/step - loss: 0.0063 - mean_squared_error: 0.0063 - accuracy: 0.0011 - val_loss: 0.0061 - val_mean_squared_error: 0.0061 - val_accuracy: 0.0026\n",
      "Epoch 95/200\n",
      "93/93 [==============================] - 1s 12ms/step - loss: 0.0045 - mean_squared_error: 0.0045 - accuracy: 0.0011 - val_loss: 0.0114 - val_mean_squared_error: 0.0114 - val_accuracy: 0.0026\n",
      "Epoch 96/200\n",
      "93/93 [==============================] - 1s 12ms/step - loss: 0.0025 - mean_squared_error: 0.0025 - accuracy: 0.0011 - val_loss: 0.0087 - val_mean_squared_error: 0.0087 - val_accuracy: 0.0026\n",
      "Epoch 97/200\n",
      "93/93 [==============================] - 1s 12ms/step - loss: 9.1124e-04 - mean_squared_error: 9.1124e-04 - accuracy: 0.0011 - val_loss: 0.0020 - val_mean_squared_error: 0.0020 - val_accuracy: 0.0026\n",
      "Epoch 98/200\n",
      "93/93 [==============================] - 1s 12ms/step - loss: 8.4652e-04 - mean_squared_error: 8.4652e-04 - accuracy: 0.0011 - val_loss: 0.0014 - val_mean_squared_error: 0.0014 - val_accuracy: 0.0026\n",
      "Epoch 99/200\n",
      "93/93 [==============================] - 1s 13ms/step - loss: 5.5150e-04 - mean_squared_error: 5.5150e-04 - accuracy: 0.0011 - val_loss: 4.1750e-04 - val_mean_squared_error: 4.1750e-04 - val_accuracy: 0.0026\n",
      "Epoch 100/200\n",
      "93/93 [==============================] - 1s 12ms/step - loss: 5.1655e-04 - mean_squared_error: 5.1655e-04 - accuracy: 0.0011 - val_loss: 3.4195e-04 - val_mean_squared_error: 3.4195e-04 - val_accuracy: 0.0026\n",
      "Epoch 101/200\n",
      "93/93 [==============================] - 1s 12ms/step - loss: 3.8846e-04 - mean_squared_error: 3.8846e-04 - accuracy: 0.0011 - val_loss: 4.9953e-04 - val_mean_squared_error: 4.9953e-04 - val_accuracy: 0.0026\n",
      "Epoch 102/200\n",
      "93/93 [==============================] - 1s 13ms/step - loss: 3.3997e-04 - mean_squared_error: 3.3997e-04 - accuracy: 0.0011 - val_loss: 5.6759e-04 - val_mean_squared_error: 5.6759e-04 - val_accuracy: 0.0026\n",
      "Epoch 103/200\n",
      "93/93 [==============================] - 1s 13ms/step - loss: 3.0056e-04 - mean_squared_error: 3.0056e-04 - accuracy: 0.0011 - val_loss: 6.1246e-04 - val_mean_squared_error: 6.1246e-04 - val_accuracy: 0.0026\n",
      "Epoch 104/200\n",
      "93/93 [==============================] - 1s 13ms/step - loss: 2.7205e-04 - mean_squared_error: 2.7205e-04 - accuracy: 0.0011 - val_loss: 6.3452e-04 - val_mean_squared_error: 6.3452e-04 - val_accuracy: 0.0026\n",
      "Epoch 105/200\n",
      "93/93 [==============================] - 1s 13ms/step - loss: 2.6302e-04 - mean_squared_error: 2.6302e-04 - accuracy: 0.0011 - val_loss: 5.9017e-04 - val_mean_squared_error: 5.9017e-04 - val_accuracy: 0.0026\n",
      "Epoch 106/200\n",
      "93/93 [==============================] - 1s 13ms/step - loss: 2.7015e-04 - mean_squared_error: 2.7015e-04 - accuracy: 0.0011 - val_loss: 5.3035e-04 - val_mean_squared_error: 5.3035e-04 - val_accuracy: 0.0026\n",
      "Epoch 107/200\n",
      "93/93 [==============================] - 1s 13ms/step - loss: 2.8654e-04 - mean_squared_error: 2.8654e-04 - accuracy: 0.0011 - val_loss: 4.9067e-04 - val_mean_squared_error: 4.9067e-04 - val_accuracy: 0.0026\n",
      "Epoch 108/200\n",
      "93/93 [==============================] - 1s 13ms/step - loss: 3.1397e-04 - mean_squared_error: 3.1397e-04 - accuracy: 0.0011 - val_loss: 5.3021e-04 - val_mean_squared_error: 5.3021e-04 - val_accuracy: 0.0026\n",
      "Epoch 109/200\n",
      "93/93 [==============================] - 1s 13ms/step - loss: 3.3345e-04 - mean_squared_error: 3.3345e-04 - accuracy: 0.0011 - val_loss: 6.2410e-04 - val_mean_squared_error: 6.2410e-04 - val_accuracy: 0.0026\n",
      "Epoch 110/200\n",
      "93/93 [==============================] - 1s 13ms/step - loss: 3.3268e-04 - mean_squared_error: 3.3268e-04 - accuracy: 0.0011 - val_loss: 6.8632e-04 - val_mean_squared_error: 6.8632e-04 - val_accuracy: 0.0026\n",
      "Epoch 111/200\n",
      "93/93 [==============================] - 1s 13ms/step - loss: 3.3397e-04 - mean_squared_error: 3.3397e-04 - accuracy: 0.0011 - val_loss: 0.0013 - val_mean_squared_error: 0.0013 - val_accuracy: 0.0026\n",
      "Epoch 112/200\n",
      "93/93 [==============================] - 1s 13ms/step - loss: 4.4511e-04 - mean_squared_error: 4.4511e-04 - accuracy: 0.0011 - val_loss: 0.0013 - val_mean_squared_error: 0.0013 - val_accuracy: 0.0026\n",
      "Epoch 113/200\n",
      "93/93 [==============================] - 1s 13ms/step - loss: 3.3728e-04 - mean_squared_error: 3.3728e-04 - accuracy: 0.0011 - val_loss: 0.0031 - val_mean_squared_error: 0.0031 - val_accuracy: 0.0026\n",
      "Epoch 114/200\n",
      "93/93 [==============================] - 1s 12ms/step - loss: 5.1298e-04 - mean_squared_error: 5.1298e-04 - accuracy: 0.0011 - val_loss: 0.0018 - val_mean_squared_error: 0.0018 - val_accuracy: 0.0026\n",
      "Epoch 115/200\n",
      "93/93 [==============================] - 1s 12ms/step - loss: 6.6993e-04 - mean_squared_error: 6.6993e-04 - accuracy: 0.0011 - val_loss: 0.0033 - val_mean_squared_error: 0.0033 - val_accuracy: 0.0026\n",
      "Epoch 116/200\n",
      "93/93 [==============================] - 1s 13ms/step - loss: 0.0013 - mean_squared_error: 0.0013 - accuracy: 0.0011 - val_loss: 0.0031 - val_mean_squared_error: 0.0031 - val_accuracy: 0.0026\n",
      "Epoch 117/200\n",
      "93/93 [==============================] - 1s 13ms/step - loss: 0.0016 - mean_squared_error: 0.0016 - accuracy: 0.0011 - val_loss: 0.0019 - val_mean_squared_error: 0.0019 - val_accuracy: 0.0026\n",
      "Epoch 118/200\n",
      "93/93 [==============================] - 1s 13ms/step - loss: 8.6748e-04 - mean_squared_error: 8.6748e-04 - accuracy: 0.0011 - val_loss: 0.0014 - val_mean_squared_error: 0.0014 - val_accuracy: 0.0026\n",
      "Epoch 119/200\n",
      "93/93 [==============================] - 1s 12ms/step - loss: 6.1057e-04 - mean_squared_error: 6.1057e-04 - accuracy: 0.0011 - val_loss: 0.0016 - val_mean_squared_error: 0.0016 - val_accuracy: 0.0026\n",
      "Epoch 120/200\n",
      "93/93 [==============================] - 1s 12ms/step - loss: 7.4283e-04 - mean_squared_error: 7.4283e-04 - accuracy: 0.0011 - val_loss: 0.0019 - val_mean_squared_error: 0.0019 - val_accuracy: 0.0026\n",
      "Epoch 121/200\n",
      "93/93 [==============================] - 1s 12ms/step - loss: 0.0012 - mean_squared_error: 0.0012 - accuracy: 0.0011 - val_loss: 0.0025 - val_mean_squared_error: 0.0025 - val_accuracy: 0.0026\n",
      "Epoch 122/200\n"
     ]
    },
    {
     "name": "stdout",
     "output_type": "stream",
     "text": [
      "93/93 [==============================] - 1s 12ms/step - loss: 6.2268e-04 - mean_squared_error: 6.2268e-04 - accuracy: 0.0011 - val_loss: 0.0014 - val_mean_squared_error: 0.0014 - val_accuracy: 0.0026\n",
      "Epoch 123/200\n",
      "93/93 [==============================] - 1s 12ms/step - loss: 0.0013 - mean_squared_error: 0.0013 - accuracy: 0.0011 - val_loss: 0.0063 - val_mean_squared_error: 0.0063 - val_accuracy: 0.0026\n",
      "Epoch 124/200\n",
      "93/93 [==============================] - 1s 12ms/step - loss: 0.0013 - mean_squared_error: 0.0013 - accuracy: 0.0011 - val_loss: 0.0025 - val_mean_squared_error: 0.0025 - val_accuracy: 0.0026\n",
      "Epoch 125/200\n",
      "93/93 [==============================] - 1s 12ms/step - loss: 0.0010 - mean_squared_error: 0.0010 - accuracy: 0.0011 - val_loss: 0.0057 - val_mean_squared_error: 0.0057 - val_accuracy: 0.0026\n",
      "Epoch 126/200\n",
      "93/93 [==============================] - 1s 12ms/step - loss: 2.7340e-04 - mean_squared_error: 2.7340e-04 - accuracy: 0.0011 - val_loss: 0.0013 - val_mean_squared_error: 0.0013 - val_accuracy: 0.0026\n",
      "Epoch 127/200\n",
      "93/93 [==============================] - 1s 12ms/step - loss: 4.8736e-04 - mean_squared_error: 4.8736e-04 - accuracy: 0.0011 - val_loss: 3.5347e-04 - val_mean_squared_error: 3.5347e-04 - val_accuracy: 0.0026\n",
      "Epoch 128/200\n",
      "93/93 [==============================] - 1s 12ms/step - loss: 5.6128e-04 - mean_squared_error: 5.6128e-04 - accuracy: 0.0011 - val_loss: 0.0018 - val_mean_squared_error: 0.0018 - val_accuracy: 0.0026\n",
      "Epoch 129/200\n",
      "93/93 [==============================] - 1s 12ms/step - loss: 4.0174e-04 - mean_squared_error: 4.0174e-04 - accuracy: 0.0011 - val_loss: 2.2386e-04 - val_mean_squared_error: 2.2386e-04 - val_accuracy: 0.0026\n",
      "Epoch 130/200\n",
      "93/93 [==============================] - 1s 12ms/step - loss: 2.9120e-04 - mean_squared_error: 2.9120e-04 - accuracy: 0.0011 - val_loss: 6.7764e-04 - val_mean_squared_error: 6.7764e-04 - val_accuracy: 0.0026\n",
      "Epoch 131/200\n",
      "93/93 [==============================] - 1s 12ms/step - loss: 3.5349e-04 - mean_squared_error: 3.5349e-04 - accuracy: 0.0011 - val_loss: 7.9423e-04 - val_mean_squared_error: 7.9423e-04 - val_accuracy: 0.0026\n",
      "Epoch 132/200\n",
      "93/93 [==============================] - 1s 12ms/step - loss: 4.6501e-04 - mean_squared_error: 4.6501e-04 - accuracy: 0.0011 - val_loss: 0.0017 - val_mean_squared_error: 0.0017 - val_accuracy: 0.0026\n",
      "Epoch 133/200\n",
      "93/93 [==============================] - 1s 12ms/step - loss: 3.5529e-04 - mean_squared_error: 3.5529e-04 - accuracy: 0.0011 - val_loss: 3.3562e-04 - val_mean_squared_error: 3.3562e-04 - val_accuracy: 0.0026\n",
      "Epoch 134/200\n",
      "93/93 [==============================] - 1s 12ms/step - loss: 2.5990e-04 - mean_squared_error: 2.5990e-04 - accuracy: 0.0011 - val_loss: 6.7720e-04 - val_mean_squared_error: 6.7720e-04 - val_accuracy: 0.0026\n",
      "Epoch 135/200\n",
      "93/93 [==============================] - 1s 12ms/step - loss: 3.4845e-04 - mean_squared_error: 3.4845e-04 - accuracy: 0.0011 - val_loss: 4.7858e-04 - val_mean_squared_error: 4.7858e-04 - val_accuracy: 0.0026\n",
      "Epoch 136/200\n",
      "93/93 [==============================] - 1s 12ms/step - loss: 4.6116e-04 - mean_squared_error: 4.6116e-04 - accuracy: 0.0011 - val_loss: 0.0011 - val_mean_squared_error: 0.0011 - val_accuracy: 0.0026\n",
      "Epoch 137/200\n",
      "93/93 [==============================] - 1s 12ms/step - loss: 5.9064e-04 - mean_squared_error: 5.9064e-04 - accuracy: 0.0011 - val_loss: 0.0029 - val_mean_squared_error: 0.0029 - val_accuracy: 0.0026\n",
      "Epoch 138/200\n",
      "93/93 [==============================] - 1s 12ms/step - loss: 4.9688e-04 - mean_squared_error: 4.9688e-04 - accuracy: 0.0011 - val_loss: 7.7533e-04 - val_mean_squared_error: 7.7533e-04 - val_accuracy: 0.0026\n",
      "Epoch 139/200\n",
      "93/93 [==============================] - 1s 13ms/step - loss: 3.5112e-04 - mean_squared_error: 3.5112e-04 - accuracy: 0.0011 - val_loss: 4.5210e-04 - val_mean_squared_error: 4.5210e-04 - val_accuracy: 0.0026\n",
      "Epoch 140/200\n",
      "93/93 [==============================] - 1s 12ms/step - loss: 4.4106e-04 - mean_squared_error: 4.4106e-04 - accuracy: 0.0011 - val_loss: 0.0010 - val_mean_squared_error: 0.0010 - val_accuracy: 0.0026\n",
      "Epoch 141/200\n",
      "93/93 [==============================] - 1s 12ms/step - loss: 4.5493e-04 - mean_squared_error: 4.5493e-04 - accuracy: 0.0011 - val_loss: 0.0010 - val_mean_squared_error: 0.0010 - val_accuracy: 0.0026\n",
      "Epoch 142/200\n",
      "93/93 [==============================] - 1s 12ms/step - loss: 3.7617e-04 - mean_squared_error: 3.7617e-04 - accuracy: 0.0011 - val_loss: 8.7578e-04 - val_mean_squared_error: 8.7578e-04 - val_accuracy: 0.0026\n",
      "Epoch 143/200\n",
      "93/93 [==============================] - 1s 12ms/step - loss: 3.4562e-04 - mean_squared_error: 3.4562e-04 - accuracy: 0.0011 - val_loss: 8.0959e-04 - val_mean_squared_error: 8.0959e-04 - val_accuracy: 0.0026\n",
      "Epoch 144/200\n",
      "93/93 [==============================] - 1s 12ms/step - loss: 4.6069e-04 - mean_squared_error: 4.6069e-04 - accuracy: 0.0011 - val_loss: 0.0011 - val_mean_squared_error: 0.0011 - val_accuracy: 0.0026\n",
      "Epoch 145/200\n",
      "93/93 [==============================] - 1s 12ms/step - loss: 8.6649e-04 - mean_squared_error: 8.6649e-04 - accuracy: 0.0011 - val_loss: 0.0065 - val_mean_squared_error: 0.0065 - val_accuracy: 0.0026\n",
      "Epoch 146/200\n",
      "93/93 [==============================] - 1s 12ms/step - loss: 8.2301e-04 - mean_squared_error: 8.2301e-04 - accuracy: 0.0011 - val_loss: 0.0032 - val_mean_squared_error: 0.0032 - val_accuracy: 0.0026\n",
      "Epoch 147/200\n",
      "93/93 [==============================] - 1s 12ms/step - loss: 5.9118e-04 - mean_squared_error: 5.9118e-04 - accuracy: 0.0011 - val_loss: 0.0012 - val_mean_squared_error: 0.0012 - val_accuracy: 0.0026\n",
      "Epoch 148/200\n",
      "93/93 [==============================] - 1s 12ms/step - loss: 3.2937e-04 - mean_squared_error: 3.2937e-04 - accuracy: 0.0011 - val_loss: 2.8167e-04 - val_mean_squared_error: 2.8167e-04 - val_accuracy: 0.0026\n",
      "Epoch 149/200\n",
      "93/93 [==============================] - 1s 13ms/step - loss: 3.6577e-04 - mean_squared_error: 3.6577e-04 - accuracy: 0.0011 - val_loss: 4.2130e-04 - val_mean_squared_error: 4.2130e-04 - val_accuracy: 0.0026\n",
      "Epoch 150/200\n",
      "93/93 [==============================] - 1s 15ms/step - loss: 5.3378e-04 - mean_squared_error: 5.3378e-04 - accuracy: 0.0011 - val_loss: 5.9850e-04 - val_mean_squared_error: 5.9850e-04 - val_accuracy: 0.0026\n",
      "Epoch 151/200\n",
      "93/93 [==============================] - 1s 12ms/step - loss: 6.5211e-04 - mean_squared_error: 6.5211e-04 - accuracy: 0.0011 - val_loss: 4.3082e-04 - val_mean_squared_error: 4.3082e-04 - val_accuracy: 0.0026\n",
      "Epoch 152/200\n",
      "93/93 [==============================] - 1s 13ms/step - loss: 7.4013e-04 - mean_squared_error: 7.4013e-04 - accuracy: 0.0011 - val_loss: 0.0038 - val_mean_squared_error: 0.0038 - val_accuracy: 0.0026\n",
      "Epoch 153/200\n",
      "93/93 [==============================] - 1s 12ms/step - loss: 0.0012 - mean_squared_error: 0.0012 - accuracy: 0.0011 - val_loss: 0.0061 - val_mean_squared_error: 0.0061 - val_accuracy: 0.0026\n",
      "Epoch 154/200\n",
      "93/93 [==============================] - 1s 12ms/step - loss: 7.6312e-04 - mean_squared_error: 7.6312e-04 - accuracy: 0.0011 - val_loss: 0.0024 - val_mean_squared_error: 0.0024 - val_accuracy: 0.0026\n",
      "Epoch 155/200\n",
      "93/93 [==============================] - 1s 12ms/step - loss: 4.2280e-04 - mean_squared_error: 4.2280e-04 - accuracy: 0.0011 - val_loss: 3.0753e-04 - val_mean_squared_error: 3.0753e-04 - val_accuracy: 0.0026\n",
      "Epoch 156/200\n",
      "93/93 [==============================] - 1s 12ms/step - loss: 2.7817e-04 - mean_squared_error: 2.7817e-04 - accuracy: 0.0011 - val_loss: 7.2123e-04 - val_mean_squared_error: 7.2123e-04 - val_accuracy: 0.0026\n",
      "Epoch 157/200\n",
      "93/93 [==============================] - 1s 12ms/step - loss: 3.8432e-04 - mean_squared_error: 3.8432e-04 - accuracy: 0.0011 - val_loss: 6.3516e-04 - val_mean_squared_error: 6.3516e-04 - val_accuracy: 0.0026\n",
      "Epoch 158/200\n",
      "93/93 [==============================] - 1s 12ms/step - loss: 2.9742e-04 - mean_squared_error: 2.9742e-04 - accuracy: 0.0011 - val_loss: 5.2027e-04 - val_mean_squared_error: 5.2027e-04 - val_accuracy: 0.0026\n",
      "Epoch 159/200\n",
      "93/93 [==============================] - 1s 12ms/step - loss: 4.0666e-04 - mean_squared_error: 4.0666e-04 - accuracy: 0.0011 - val_loss: 7.3798e-04 - val_mean_squared_error: 7.3798e-04 - val_accuracy: 0.0026\n"
     ]
    },
    {
     "name": "stdout",
     "output_type": "stream",
     "text": [
      "Epoch 160/200\n",
      "93/93 [==============================] - 1s 12ms/step - loss: 5.3557e-04 - mean_squared_error: 5.3557e-04 - accuracy: 0.0011 - val_loss: 0.0029 - val_mean_squared_error: 0.0029 - val_accuracy: 0.0026\n",
      "Epoch 161/200\n",
      "93/93 [==============================] - 1s 12ms/step - loss: 6.6601e-04 - mean_squared_error: 6.6601e-04 - accuracy: 0.0011 - val_loss: 0.0040 - val_mean_squared_error: 0.0040 - val_accuracy: 0.0026\n",
      "Epoch 162/200\n",
      "93/93 [==============================] - 1s 12ms/step - loss: 4.2239e-04 - mean_squared_error: 4.2239e-04 - accuracy: 0.0011 - val_loss: 0.0028 - val_mean_squared_error: 0.0028 - val_accuracy: 0.0026\n",
      "Epoch 163/200\n",
      "93/93 [==============================] - 1s 12ms/step - loss: 3.1599e-04 - mean_squared_error: 3.1599e-04 - accuracy: 0.0011 - val_loss: 0.0012 - val_mean_squared_error: 0.0012 - val_accuracy: 0.0026\n",
      "Epoch 164/200\n",
      "93/93 [==============================] - 1s 12ms/step - loss: 3.0885e-04 - mean_squared_error: 3.0885e-04 - accuracy: 0.0011 - val_loss: 0.0010 - val_mean_squared_error: 0.0010 - val_accuracy: 0.0026\n",
      "Epoch 165/200\n",
      "93/93 [==============================] - 1s 12ms/step - loss: 3.8105e-04 - mean_squared_error: 3.8105e-04 - accuracy: 0.0011 - val_loss: 9.2859e-04 - val_mean_squared_error: 9.2859e-04 - val_accuracy: 0.0026\n",
      "Epoch 166/200\n",
      "93/93 [==============================] - 1s 12ms/step - loss: 4.1337e-04 - mean_squared_error: 4.1337e-04 - accuracy: 0.0011 - val_loss: 0.0013 - val_mean_squared_error: 0.0013 - val_accuracy: 0.0026\n",
      "Epoch 167/200\n",
      "93/93 [==============================] - 1s 12ms/step - loss: 4.3162e-04 - mean_squared_error: 4.3162e-04 - accuracy: 0.0011 - val_loss: 0.0020 - val_mean_squared_error: 0.0020 - val_accuracy: 0.0026\n",
      "Epoch 168/200\n",
      "93/93 [==============================] - 1s 12ms/step - loss: 4.3030e-04 - mean_squared_error: 4.3030e-04 - accuracy: 0.0011 - val_loss: 0.0025 - val_mean_squared_error: 0.0025 - val_accuracy: 0.0026\n",
      "Epoch 169/200\n",
      "93/93 [==============================] - 1s 12ms/step - loss: 4.4326e-04 - mean_squared_error: 4.4326e-04 - accuracy: 0.0011 - val_loss: 0.0026 - val_mean_squared_error: 0.0026 - val_accuracy: 0.0026\n",
      "Epoch 170/200\n",
      "93/93 [==============================] - 1s 12ms/step - loss: 4.4390e-04 - mean_squared_error: 4.4390e-04 - accuracy: 0.0011 - val_loss: 0.0024 - val_mean_squared_error: 0.0024 - val_accuracy: 0.0026\n",
      "Epoch 171/200\n",
      "93/93 [==============================] - 1s 12ms/step - loss: 4.3946e-04 - mean_squared_error: 4.3946e-04 - accuracy: 0.0011 - val_loss: 0.0021 - val_mean_squared_error: 0.0021 - val_accuracy: 0.0026\n",
      "Epoch 172/200\n",
      "93/93 [==============================] - 1s 12ms/step - loss: 4.4074e-04 - mean_squared_error: 4.4074e-04 - accuracy: 0.0011 - val_loss: 0.0018 - val_mean_squared_error: 0.0018 - val_accuracy: 0.0026\n",
      "Epoch 173/200\n",
      "93/93 [==============================] - 1s 12ms/step - loss: 4.5270e-04 - mean_squared_error: 4.5270e-04 - accuracy: 0.0011 - val_loss: 0.0018 - val_mean_squared_error: 0.0018 - val_accuracy: 0.0026\n",
      "Epoch 174/200\n",
      "93/93 [==============================] - 1s 12ms/step - loss: 4.7277e-04 - mean_squared_error: 4.7277e-04 - accuracy: 0.0011 - val_loss: 0.0016 - val_mean_squared_error: 0.0016 - val_accuracy: 0.0026\n",
      "Epoch 175/200\n",
      "93/93 [==============================] - 1s 12ms/step - loss: 4.7661e-04 - mean_squared_error: 4.7661e-04 - accuracy: 0.0011 - val_loss: 0.0018 - val_mean_squared_error: 0.0018 - val_accuracy: 0.0026\n",
      "Epoch 176/200\n",
      "93/93 [==============================] - 1s 12ms/step - loss: 5.0197e-04 - mean_squared_error: 5.0197e-04 - accuracy: 0.0011 - val_loss: 0.0016 - val_mean_squared_error: 0.0016 - val_accuracy: 0.0026\n",
      "Epoch 177/200\n",
      "93/93 [==============================] - 1s 12ms/step - loss: 4.8889e-04 - mean_squared_error: 4.8889e-04 - accuracy: 0.0011 - val_loss: 0.0018 - val_mean_squared_error: 0.0018 - val_accuracy: 0.0026\n",
      "Epoch 178/200\n",
      "93/93 [==============================] - 1s 12ms/step - loss: 5.4543e-04 - mean_squared_error: 5.4543e-04 - accuracy: 0.0011 - val_loss: 0.0015 - val_mean_squared_error: 0.0015 - val_accuracy: 0.0026\n",
      "Epoch 179/200\n",
      "93/93 [==============================] - 1s 12ms/step - loss: 4.8035e-04 - mean_squared_error: 4.8035e-04 - accuracy: 0.0011 - val_loss: 0.0015 - val_mean_squared_error: 0.0015 - val_accuracy: 0.0026\n",
      "Epoch 180/200\n",
      "93/93 [==============================] - 1s 12ms/step - loss: 5.0858e-04 - mean_squared_error: 5.0858e-04 - accuracy: 0.0011 - val_loss: 0.0013 - val_mean_squared_error: 0.0013 - val_accuracy: 0.0026\n",
      "Epoch 181/200\n",
      "93/93 [==============================] - 1s 13ms/step - loss: 5.0813e-04 - mean_squared_error: 5.0813e-04 - accuracy: 0.0011 - val_loss: 9.1070e-04 - val_mean_squared_error: 9.1070e-04 - val_accuracy: 0.0026\n",
      "Epoch 182/200\n",
      "93/93 [==============================] - 1s 12ms/step - loss: 4.4172e-04 - mean_squared_error: 4.4172e-04 - accuracy: 0.0011 - val_loss: 0.0011 - val_mean_squared_error: 0.0011 - val_accuracy: 0.0026\n",
      "Epoch 183/200\n",
      "93/93 [==============================] - 1s 12ms/step - loss: 4.6964e-04 - mean_squared_error: 4.6964e-04 - accuracy: 0.0011 - val_loss: 6.9793e-04 - val_mean_squared_error: 6.9793e-04 - val_accuracy: 0.0026\n",
      "Epoch 184/200\n",
      "93/93 [==============================] - 1s 13ms/step - loss: 3.9426e-04 - mean_squared_error: 3.9426e-04 - accuracy: 0.0011 - val_loss: 0.0021 - val_mean_squared_error: 0.0021 - val_accuracy: 0.0026\n",
      "Epoch 185/200\n",
      "93/93 [==============================] - 1s 15ms/step - loss: 5.1919e-04 - mean_squared_error: 5.1919e-04 - accuracy: 0.0011 - val_loss: 0.0026 - val_mean_squared_error: 0.0026 - val_accuracy: 0.0026\n",
      "Epoch 186/200\n",
      "93/93 [==============================] - 1s 13ms/step - loss: 5.9316e-04 - mean_squared_error: 5.9316e-04 - accuracy: 0.0011 - val_loss: 0.0028 - val_mean_squared_error: 0.0028 - val_accuracy: 0.0026\n",
      "Epoch 187/200\n",
      "93/93 [==============================] - 1s 13ms/step - loss: 5.5508e-04 - mean_squared_error: 5.5508e-04 - accuracy: 0.0011 - val_loss: 0.0025 - val_mean_squared_error: 0.0025 - val_accuracy: 0.0026\n",
      "Epoch 188/200\n",
      "93/93 [==============================] - 1s 13ms/step - loss: 7.1005e-04 - mean_squared_error: 7.1005e-04 - accuracy: 0.0011 - val_loss: 0.0079 - val_mean_squared_error: 0.0079 - val_accuracy: 0.0026\n",
      "Epoch 189/200\n",
      "93/93 [==============================] - 1s 13ms/step - loss: 0.0016 - mean_squared_error: 0.0016 - accuracy: 0.0011 - val_loss: 0.0110 - val_mean_squared_error: 0.0110 - val_accuracy: 0.0026\n",
      "Epoch 190/200\n",
      "93/93 [==============================] - 1s 13ms/step - loss: 0.0012 - mean_squared_error: 0.0012 - accuracy: 0.0011 - val_loss: 0.0045 - val_mean_squared_error: 0.0045 - val_accuracy: 0.0026\n",
      "Epoch 191/200\n",
      "93/93 [==============================] - 1s 12ms/step - loss: 6.9352e-04 - mean_squared_error: 6.9352e-04 - accuracy: 0.0011 - val_loss: 0.0015 - val_mean_squared_error: 0.0015 - val_accuracy: 0.0026\n",
      "Epoch 192/200\n",
      "93/93 [==============================] - 1s 13ms/step - loss: 2.4032e-04 - mean_squared_error: 2.4032e-04 - accuracy: 0.0011 - val_loss: 9.4492e-04 - val_mean_squared_error: 9.4492e-04 - val_accuracy: 0.0026\n",
      "Epoch 193/200\n",
      "93/93 [==============================] - 1s 14ms/step - loss: 3.7918e-04 - mean_squared_error: 3.7918e-04 - accuracy: 0.0011 - val_loss: 4.3550e-04 - val_mean_squared_error: 4.3550e-04 - val_accuracy: 0.0026\n",
      "Epoch 194/200\n",
      "93/93 [==============================] - 1s 14ms/step - loss: 6.5769e-04 - mean_squared_error: 6.5769e-04 - accuracy: 0.0011 - val_loss: 0.0018 - val_mean_squared_error: 0.0018 - val_accuracy: 0.0026\n",
      "Epoch 195/200\n",
      "93/93 [==============================] - 1s 13ms/step - loss: 4.7753e-04 - mean_squared_error: 4.7753e-04 - accuracy: 0.0011 - val_loss: 9.7063e-04 - val_mean_squared_error: 9.7063e-04 - val_accuracy: 0.0026\n",
      "Epoch 196/200\n",
      "93/93 [==============================] - 1s 12ms/step - loss: 2.7144e-04 - mean_squared_error: 2.7144e-04 - accuracy: 0.0011 - val_loss: 8.3133e-04 - val_mean_squared_error: 8.3133e-04 - val_accuracy: 0.0026\n",
      "Epoch 197/200\n",
      "93/93 [==============================] - 1s 13ms/step - loss: 3.2833e-04 - mean_squared_error: 3.2833e-04 - accuracy: 0.0011 - val_loss: 2.4995e-04 - val_mean_squared_error: 2.4995e-04 - val_accuracy: 0.0026\n",
      "Epoch 198/200\n"
     ]
    },
    {
     "name": "stdout",
     "output_type": "stream",
     "text": [
      "93/93 [==============================] - 1s 12ms/step - loss: 3.0287e-04 - mean_squared_error: 3.0287e-04 - accuracy: 0.0011 - val_loss: 3.3790e-04 - val_mean_squared_error: 3.3790e-04 - val_accuracy: 0.0026\n",
      "Epoch 199/200\n",
      "93/93 [==============================] - 1s 12ms/step - loss: 3.8382e-04 - mean_squared_error: 3.8382e-04 - accuracy: 0.0011 - val_loss: 4.1550e-04 - val_mean_squared_error: 4.1550e-04 - val_accuracy: 0.0026\n",
      "Epoch 200/200\n",
      "93/93 [==============================] - 1s 12ms/step - loss: 2.5233e-04 - mean_squared_error: 2.5233e-04 - accuracy: 0.0011 - val_loss: 4.9615e-04 - val_mean_squared_error: 4.9615e-04 - val_accuracy: 0.0026\n"
     ]
    },
    {
     "data": {
      "text/plain": [
       "<keras.callbacks.History at 0x274ac621a90>"
      ]
     },
     "execution_count": 26,
     "metadata": {},
     "output_type": "execute_result"
    }
   ],
   "source": [
    "tuned_model.fit(X_train, y_train, validation_data=(X_test, y_test), batch_size=10, initial_epoch=6, epochs=200, shuffle=False, verbose=1)"
   ]
  },
  {
   "cell_type": "code",
   "execution_count": 27,
   "metadata": {},
   "outputs": [
    {
     "name": "stdout",
     "output_type": "stream",
     "text": [
      "29/29 [==============================] - 1s 6ms/step\n",
      "12/12 [==============================] - 0s 6ms/step\n"
     ]
    }
   ],
   "source": [
    "train_pred = tuned_model.predict(X_train)\n",
    "test_pred = tuned_model.predict(X_test)"
   ]
  },
  {
   "cell_type": "code",
   "execution_count": 28,
   "metadata": {},
   "outputs": [],
   "source": [
    "trained_pred = scaler.inverse_transform(train_pred)\n",
    "tested_pred = scaler.inverse_transform(test_pred)"
   ]
  },
  {
   "cell_type": "code",
   "execution_count": 29,
   "metadata": {},
   "outputs": [
    {
     "name": "stdout",
     "output_type": "stream",
     "text": [
      "12/12 [==============================] - 0s 8ms/step - loss: 4.9615e-04 - mean_squared_error: 4.9615e-04 - accuracy: 0.0026\n"
     ]
    },
    {
     "data": {
      "text/plain": [
       "[0.0004961520317010581, 0.0004961520317010581, 0.002624671906232834]"
      ]
     },
     "execution_count": 29,
     "metadata": {},
     "output_type": "execute_result"
    }
   ],
   "source": [
    "tuned_model.evaluate(X_test, y_test)"
   ]
  },
  {
   "cell_type": "code",
   "execution_count": 30,
   "metadata": {},
   "outputs": [
    {
     "name": "stdout",
     "output_type": "stream",
     "text": [
      "12452.999163529186\n",
      "17490.898794651148\n"
     ]
    }
   ],
   "source": [
    "train_err_val = math.sqrt(mse(y_train, train_pred))\n",
    "print(train_val)\n",
    "test_err_val = math.sqrt(mse(y_test, test_pred))\n",
    "print(test_val)"
   ]
  },
  {
   "cell_type": "markdown",
   "metadata": {},
   "source": [
    "Plotting the data"
   ]
  },
  {
   "cell_type": "code",
   "execution_count": 31,
   "metadata": {},
   "outputs": [
    {
     "data": {
      "image/png": "[encoded data removed]",
      "text/plain": [
       "<Figure size 432x288 with 1 Axes>"
      ]
     },
     "metadata": {
      "needs_background": "light"
     },
     "output_type": "display_data"
    }
   ],
   "source": [
    "look_back=30\n",
    "trainPredictPlot = np.empty_like(df)\n",
    "trainPredictPlot[:, :] = np.nan\n",
    "trainPredictPlot[look_back:len(train_pred)+look_back, :] = trained_pred\n",
    "# shift test predictions for plotting\n",
    "testPredictPlot = np.empty_like(df)\n",
    "testPredictPlot[:, :] = np.nan\n",
    "testPredictPlot[len(train_pred)+(look_back*2)+1:len(df)-1, :] = tested_pred\n",
    "# plot baseline and predictions\n",
    "plt.plot(scaler.inverse_transform(df))\n",
    "plt.plot(trainPredictPlot)\n",
    "plt.plot(testPredictPlot)\n",
    "plt.show()"
   ]
  },
  {
   "cell_type": "markdown",
   "metadata": {},
   "source": [
    "Predicting future 10 days and plotting the output"
   ]
  },
  {
   "cell_type": "code",
   "execution_count": 32,
   "metadata": {},
   "outputs": [
    {
     "data": {
      "text/plain": [
       "(1, 30)"
      ]
     },
     "execution_count": 32,
     "metadata": {},
     "output_type": "execute_result"
    }
   ],
   "source": [
    "x_input=test_data[-30:].reshape(1,-1)\n",
    "x_input.shape"
   ]
  },
  {
   "cell_type": "code",
   "execution_count": 33,
   "metadata": {},
   "outputs": [
    {
     "data": {
      "text/plain": [
       "[0.9067701772827738,\n",
       " 0.9010662926186629,\n",
       " 0.9060182283660333,\n",
       " 0.9092643043596141,\n",
       " 0.902343753084104]"
      ]
     },
     "execution_count": 33,
     "metadata": {},
     "output_type": "execute_result"
    }
   ],
   "source": [
    "temp_input=list(x_input)\n",
    "temp_input=temp_input[0].tolist()\n",
    "temp_input[:5]"
   ]
  },
  {
   "cell_type": "code",
   "execution_count": 34,
   "metadata": {},
   "outputs": [
    {
     "name": "stdout",
     "output_type": "stream",
     "text": [
      "[[0.9783540964126587], [0.9991809129714966], [1.0122261047363281], [1.021923542022705], [1.0312589406967163], [1.0376251935958862], [1.0388591289520264], [1.0351688861846924], [1.028056263923645], [1.0196170806884766]]\n"
     ]
    }
   ],
   "source": [
    "from numpy import array\n",
    "\n",
    "lst_output=[]\n",
    "n_steps=30\n",
    "i=0\n",
    "while(i<10):\n",
    "    \n",
    "    if(len(temp_input)>30):\n",
    "        #print(temp_input)\n",
    "        x_input=np.array(temp_input[1:])\n",
    "        # print(\"{} day input {}\".format(i,x_input))\n",
    "        x_input=x_input.reshape(1,-1)\n",
    "        x_input = x_input.reshape((1, n_steps, 1))\n",
    "        #print(x_input)\n",
    "        yhat = tuned_model.predict(x_input, verbose=0)\n",
    "        # print(\"{} day output {}\".format(i,yhat))\n",
    "        temp_input.extend(yhat[0].tolist())\n",
    "        temp_input=temp_input[1:]\n",
    "        #print(temp_input)\n",
    "        lst_output.extend(yhat.tolist())\n",
    "        i=i+1\n",
    "    else:\n",
    "        x_input = x_input.reshape((1, n_steps,1))\n",
    "        yhat = tuned_model.predict(x_input, verbose=0)\n",
    "        # print(yhat[0])\n",
    "        temp_input.extend(yhat[0].tolist())\n",
    "        # print(len(temp_input))\n",
    "        lst_output.extend(yhat.tolist())\n",
    "        i=i+1\n",
    "    \n",
    "\n",
    "print(lst_output)"
   ]
  },
  {
   "cell_type": "code",
   "execution_count": 35,
   "metadata": {},
   "outputs": [],
   "source": [
    "day_new=np.arange(1,31)\n",
    "day_pred=np.arange(31,41)"
   ]
  },
  {
   "cell_type": "code",
   "execution_count": 36,
   "metadata": {},
   "outputs": [
    {
     "data": {
      "text/plain": [
       "[<matplotlib.lines.Line2D at 0x274b1ec8700>]"
      ]
     },
     "execution_count": 36,
     "metadata": {},
     "output_type": "execute_result"
    },
    {
     "data": {
      "image/png": "[encoded data removed]",
      "text/plain": [
       "<Figure size 432x288 with 1 Axes>"
      ]
     },
     "metadata": {
      "needs_background": "light"
     },
     "output_type": "display_data"
    }
   ],
   "source": [
    "plt.plot(day_new,scaler.inverse_transform(df[(len(df)-30):]))\n",
    "plt.plot(day_pred,scaler.inverse_transform(lst_output))"
   ]
  },
  {
   "cell_type": "code",
   "execution_count": 37,
   "metadata": {},
   "outputs": [
    {
     "data": {
      "text/plain": [
       "array([[19711.41436529],\n",
       "       [19969.01918476],\n",
       "       [20130.37386227],\n",
       "       [20250.32049811],\n",
       "       [20365.78911442],\n",
       "       [20444.53266239],\n",
       "       [20459.7950859 ],\n",
       "       [20414.15084069],\n",
       "       [20326.17552443],\n",
       "       [20221.79210762]])"
      ]
     },
     "execution_count": 37,
     "metadata": {},
     "output_type": "execute_result"
    }
   ],
   "source": [
    "new_days = scaler.inverse_transform(lst_output)\n",
    "new_days"
   ]
  },
  {
   "cell_type": "code",
   "execution_count": 44,
   "metadata": {},
   "outputs": [],
   "source": [
    "tuned_model.save('C:/Users/Home/Desktop/i_hate_this/StockPricePrediction/artifacts/models/tuned_model.h5')\n",
    "tuned_model.save('tuned_model.h5')"
   ]
  },
  {
   "cell_type": "code",
   "execution_count": null,
   "metadata": {},
   "outputs": [],
   "source": []
  }
 ],
 "metadata": {
  "kernelspec": {
   "display_name": "Python 3 (ipykernel)",
   "language": "python",
   "name": "python3"
  },
  "language_info": {
   "codemirror_mode": {
    "name": "ipython",
    "version": 3
   },
   "file_extension": ".py",
   "mimetype": "text/x-python",
   "name": "python",
   "nbconvert_exporter": "python",
   "pygments_lexer": "ipython3",
   "version": "3.9.7"
  }
 },
 "nbformat": 4,
 "nbformat_minor": 2
}
