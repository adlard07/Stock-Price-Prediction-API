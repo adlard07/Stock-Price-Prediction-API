{
 "cells": [
  {
   "cell_type": "markdown",
   "metadata": {},
   "source": [
    "## NIFTY-FIFTY Stock Price Prediction using LSTM"
   ]
  },
  {
   "cell_type": "markdown",
   "metadata": {},
   "source": [
    "Importing Libraries"
   ]
  },
  {
   "cell_type": "code",
   "execution_count": 19,
   "metadata": {},
   "outputs": [],
   "source": [
    "import numpy as np\n",
    "from numpy import array\n",
    "import pandas as pd\n",
    "import math\n",
    "from datetime import date\n",
    "import matplotlib.pyplot as plt\n",
    "from sklearn.preprocessing import MinMaxScaler\n",
    "from sklearn.metrics import mean_squared_error as mse\n",
    "from tensorflow.keras.models import Sequential\n",
    "from tensorflow.keras import layers\n",
    "from tensorflow.keras.optimizers import RMSprop,Adam,Adagrad,Adamax,Nadam\n",
    "from yahoo_fin.stock_info import get_data\n",
    "import kerastuner as kt"
   ]
  },
  {
   "cell_type": "markdown",
   "metadata": {},
   "source": [
    "Importing Data"
   ]
  },
  {
   "cell_type": "code",
   "execution_count": 20,
   "metadata": {},
   "outputs": [
    {
     "data": {
      "text/html": [
       "<div>\n",
       "<style scoped>\n",
       "    .dataframe tbody tr th:only-of-type {\n",
       "        vertical-align: middle;\n",
       "    }\n",
       "\n",
       "    .dataframe tbody tr th {\n",
       "        vertical-align: top;\n",
       "    }\n",
       "\n",
       "    .dataframe thead th {\n",
       "        text-align: right;\n",
       "    }\n",
       "</style>\n",
       "<table border=\"1\" class=\"dataframe\">\n",
       "  <thead>\n",
       "    <tr style=\"text-align: right;\">\n",
       "      <th></th>\n",
       "      <th>open</th>\n",
       "      <th>high</th>\n",
       "      <th>low</th>\n",
       "      <th>close</th>\n",
       "      <th>adjclose</th>\n",
       "      <th>volume</th>\n",
       "      <th>ticker</th>\n",
       "      <th>Date</th>\n",
       "    </tr>\n",
       "  </thead>\n",
       "  <tbody>\n",
       "    <tr>\n",
       "      <th>2010-01-07</th>\n",
       "      <td>0.46950</td>\n",
       "      <td>0.47150</td>\n",
       "      <td>0.45925</td>\n",
       "      <td>0.46275</td>\n",
       "      <td>0.424410</td>\n",
       "      <td>547792000</td>\n",
       "      <td>NVDA</td>\n",
       "      <td>2010-01-07</td>\n",
       "    </tr>\n",
       "    <tr>\n",
       "      <th>2010-01-08</th>\n",
       "      <td>0.45900</td>\n",
       "      <td>0.46700</td>\n",
       "      <td>0.45625</td>\n",
       "      <td>0.46375</td>\n",
       "      <td>0.425328</td>\n",
       "      <td>478168000</td>\n",
       "      <td>NVDA</td>\n",
       "      <td>2010-01-08</td>\n",
       "    </tr>\n",
       "    <tr>\n",
       "      <th>2010-01-11</th>\n",
       "      <td>0.46625</td>\n",
       "      <td>0.46825</td>\n",
       "      <td>0.45075</td>\n",
       "      <td>0.45725</td>\n",
       "      <td>0.419366</td>\n",
       "      <td>556612000</td>\n",
       "      <td>NVDA</td>\n",
       "      <td>2010-01-11</td>\n",
       "    </tr>\n",
       "    <tr>\n",
       "      <th>2010-01-12</th>\n",
       "      <td>0.45050</td>\n",
       "      <td>0.45225</td>\n",
       "      <td>0.43225</td>\n",
       "      <td>0.44175</td>\n",
       "      <td>0.405150</td>\n",
       "      <td>627432000</td>\n",
       "      <td>NVDA</td>\n",
       "      <td>2010-01-12</td>\n",
       "    </tr>\n",
       "    <tr>\n",
       "      <th>2010-01-13</th>\n",
       "      <td>0.44475</td>\n",
       "      <td>0.44925</td>\n",
       "      <td>0.42750</td>\n",
       "      <td>0.44775</td>\n",
       "      <td>0.410653</td>\n",
       "      <td>508868000</td>\n",
       "      <td>NVDA</td>\n",
       "      <td>2010-01-13</td>\n",
       "    </tr>\n",
       "  </tbody>\n",
       "</table>\n",
       "</div>"
      ],
      "text/plain": [
       "               open     high      low    close  adjclose     volume ticker   \n",
       "2010-01-07  0.46950  0.47150  0.45925  0.46275  0.424410  547792000   NVDA  \\\n",
       "2010-01-08  0.45900  0.46700  0.45625  0.46375  0.425328  478168000   NVDA   \n",
       "2010-01-11  0.46625  0.46825  0.45075  0.45725  0.419366  556612000   NVDA   \n",
       "2010-01-12  0.45050  0.45225  0.43225  0.44175  0.405150  627432000   NVDA   \n",
       "2010-01-13  0.44475  0.44925  0.42750  0.44775  0.410653  508868000   NVDA   \n",
       "\n",
       "                 Date  \n",
       "2010-01-07 2010-01-07  \n",
       "2010-01-08 2010-01-08  \n",
       "2010-01-11 2010-01-11  \n",
       "2010-01-12 2010-01-12  \n",
       "2010-01-13 2010-01-13  "
      ]
     },
     "execution_count": 20,
     "metadata": {},
     "output_type": "execute_result"
    }
   ],
   "source": [
    "this_day = date.today()\n",
    "today = this_day.strftime(\"%d/%m/%Y\")\n",
    "data = get_data(\"NVDA\", start_date=\"01/07/2010\", end_date=today, index_as_date = True)\n",
    "\n",
    "data['Date'] = pd.to_datetime(data.index, errors='coerce')\n",
    "data.head()"
   ]
  },
  {
   "cell_type": "code",
   "execution_count": 21,
   "metadata": {},
   "outputs": [
    {
     "data": {
      "text/plain": [
       "Index(['open', 'high', 'low', 'close', 'adjclose', 'volume', 'ticker', 'Date'], dtype='object')"
      ]
     },
     "execution_count": 21,
     "metadata": {},
     "output_type": "execute_result"
    }
   ],
   "source": [
    "data.columns"
   ]
  },
  {
   "cell_type": "code",
   "execution_count": 22,
   "metadata": {},
   "outputs": [
    {
     "data": {
      "text/plain": [
       "open        0\n",
       "high        0\n",
       "low         0\n",
       "close       0\n",
       "adjclose    0\n",
       "volume      0\n",
       "ticker      0\n",
       "Date        0\n",
       "dtype: int64"
      ]
     },
     "execution_count": 22,
     "metadata": {},
     "output_type": "execute_result"
    }
   ],
   "source": [
    "data.isnull().sum()"
   ]
  },
  {
   "cell_type": "code",
   "execution_count": 23,
   "metadata": {},
   "outputs": [],
   "source": [
    "data = data.dropna()"
   ]
  },
  {
   "cell_type": "markdown",
   "metadata": {},
   "source": [
    "Reseting the Indexes"
   ]
  },
  {
   "cell_type": "code",
   "execution_count": 24,
   "metadata": {},
   "outputs": [
    {
     "data": {
      "text/plain": [
       "(3705,)"
      ]
     },
     "execution_count": 24,
     "metadata": {},
     "output_type": "execute_result"
    }
   ],
   "source": [
    "dataframe = data.reset_index()['close']\n",
    "dataframe.shape"
   ]
  },
  {
   "cell_type": "markdown",
   "metadata": {},
   "source": [
    "Scaling The Data"
   ]
  },
  {
   "cell_type": "code",
   "execution_count": 25,
   "metadata": {},
   "outputs": [
    {
     "data": {
      "text/plain": [
       "(3705, 1)"
      ]
     },
     "execution_count": 25,
     "metadata": {},
     "output_type": "execute_result"
    }
   ],
   "source": [
    "scaler = MinMaxScaler(feature_range=(0, 1))\n",
    "df = scaler.fit_transform(np.array(dataframe).reshape(-1, 1))\n",
    "df.shape"
   ]
  },
  {
   "cell_type": "markdown",
   "metadata": {},
   "source": [
    "Dividing the Data Into Training And Testing "
   ]
  },
  {
   "cell_type": "code",
   "execution_count": 26,
   "metadata": {},
   "outputs": [
    {
     "data": {
      "text/plain": [
       "((2593, 1), (1112, 1))"
      ]
     },
     "execution_count": 26,
     "metadata": {},
     "output_type": "execute_result"
    }
   ],
   "source": [
    "training_size=int(len(df)*0.70)\n",
    "test_size=len(df)-training_size\n",
    "train_data,test_data=df[0:training_size,:],df[training_size:len(df),:1]\n",
    "train_data.shape, test_data.shape"
   ]
  },
  {
   "cell_type": "markdown",
   "metadata": {},
   "source": [
    "Creating a function to make Input Training and Output Training Splits"
   ]
  },
  {
   "cell_type": "code",
   "execution_count": 27,
   "metadata": {},
   "outputs": [],
   "source": [
    "def create_dataset(dataset, time_step=1):\n",
    "\tdataX, dataY = [], []\n",
    "\tfor i in range(len(dataset)-time_step-1):\n",
    "\t\ta = dataset[i:(i+time_step), 0]  \n",
    "\t\tdataX.append(a)\n",
    "\t\tdataY.append(dataset[i + time_step, 0])\n",
    "\treturn np.array(dataX), np.array(dataY)"
   ]
  },
  {
   "cell_type": "code",
   "execution_count": 28,
   "metadata": {},
   "outputs": [
    {
     "data": {
      "text/plain": [
       "((2562, 30), (1081,))"
      ]
     },
     "execution_count": 28,
     "metadata": {},
     "output_type": "execute_result"
    }
   ],
   "source": [
    "timestep = 30\n",
    "X_train, y_train = create_dataset(dataset=train_data, time_step=timestep)\n",
    "X_test, y_test = create_dataset(dataset=test_data, time_step=timestep)\n",
    "X_train.shape, y_test.shape"
   ]
  },
  {
   "cell_type": "code",
   "execution_count": 29,
   "metadata": {},
   "outputs": [
    {
     "data": {
      "text/plain": [
       "((2562, 30, 1), (1081,))"
      ]
     },
     "execution_count": 29,
     "metadata": {},
     "output_type": "execute_result"
    }
   ],
   "source": [
    "X_train = X_train.reshape(X_train.shape[0], X_train.shape[1], 1)\n",
    "X_test = X_test.reshape(X_test.shape[0], X_test.shape[1], 1)\n",
    "X_train.shape, y_test.shape"
   ]
  },
  {
   "cell_type": "markdown",
   "metadata": {},
   "source": [
    "### Model Building"
   ]
  },
  {
   "cell_type": "markdown",
   "metadata": {},
   "source": [
    "Giving Model Parameters"
   ]
  },
  {
   "cell_type": "code",
   "execution_count": 30,
   "metadata": {},
   "outputs": [],
   "source": [
    "model = Sequential([\n",
    "    layers.Input((30, 1)),\n",
    "    layers.LSTM(64),\n",
    "    layers.Dense(32, activation='relu'),\n",
    "    layers.Dense(16, activation='relu'),\n",
    "    layers.Dense(8, activation='linear'),\n",
    "    layers.Dense(1)\n",
    "])\n",
    "\n",
    "model.compile(optimizer=Adam(learning_rate=0.01), metrics=['mean_squared_error', 'accuracy'], loss='mse')"
   ]
  },
  {
   "cell_type": "code",
   "execution_count": 31,
   "metadata": {},
   "outputs": [
    {
     "name": "stdout",
     "output_type": "stream",
     "text": [
      "Model: \"sequential_1\"\n",
      "_________________________________________________________________\n",
      " Layer (type)                Output Shape              Param #   \n",
      "=================================================================\n",
      " lstm_1 (LSTM)               (None, 64)                16896     \n",
      "                                                                 \n",
      " dense_4 (Dense)             (None, 32)                2080      \n",
      "                                                                 \n",
      " dense_5 (Dense)             (None, 16)                528       \n",
      "                                                                 \n",
      " dense_6 (Dense)             (None, 8)                 136       \n",
      "                                                                 \n",
      " dense_7 (Dense)             (None, 1)                 9         \n",
      "                                                                 \n",
      "=================================================================\n",
      "Total params: 19649 (76.75 KB)\n",
      "Trainable params: 19649 (76.75 KB)\n",
      "Non-trainable params: 0 (0.00 Byte)\n",
      "_________________________________________________________________\n"
     ]
    }
   ],
   "source": [
    "model.summary()"
   ]
  },
  {
   "cell_type": "markdown",
   "metadata": {},
   "source": [
    "Model Fitting"
   ]
  },
  {
   "cell_type": "code",
   "execution_count": 32,
   "metadata": {
    "scrolled": true
   },
   "outputs": [
    {
     "name": "stdout",
     "output_type": "stream",
     "text": [
      "Epoch 1/200\n",
      "WARNING:tensorflow:From c:\\Users\\HomePC\\AppData\\Local\\Programs\\Python\\Python311\\Lib\\site-packages\\keras\\src\\utils\\tf_utils.py:492: The name tf.ragged.RaggedTensorValue is deprecated. Please use tf.compat.v1.ragged.RaggedTensorValue instead.\n",
      "\n",
      "WARNING:tensorflow:From c:\\Users\\HomePC\\AppData\\Local\\Programs\\Python\\Python311\\Lib\\site-packages\\keras\\src\\engine\\base_layer_utils.py:384: The name tf.executing_eagerly_outside_functions is deprecated. Please use tf.compat.v1.executing_eagerly_outside_functions instead.\n",
      "\n",
      "257/257 [==============================] - 9s 17ms/step - loss: 1.0681e-04 - mean_squared_error: 1.0681e-04 - accuracy: 3.9032e-04 - val_loss: 0.0074 - val_mean_squared_error: 0.0074 - val_accuracy: 9.2507e-04\n",
      "Epoch 2/200\n",
      "257/257 [==============================] - 4s 14ms/step - loss: 5.9913e-06 - mean_squared_error: 5.9913e-06 - accuracy: 3.9032e-04 - val_loss: 0.0042 - val_mean_squared_error: 0.0042 - val_accuracy: 9.2507e-04\n",
      "Epoch 3/200\n",
      "257/257 [==============================] - 3s 13ms/step - loss: 4.2035e-06 - mean_squared_error: 4.2035e-06 - accuracy: 3.9032e-04 - val_loss: 0.0026 - val_mean_squared_error: 0.0026 - val_accuracy: 9.2507e-04\n",
      "Epoch 4/200\n",
      "257/257 [==============================] - 3s 13ms/step - loss: 5.9742e-06 - mean_squared_error: 5.9742e-06 - accuracy: 3.9032e-04 - val_loss: 0.0026 - val_mean_squared_error: 0.0026 - val_accuracy: 9.2507e-04\n",
      "Epoch 5/200\n",
      "257/257 [==============================] - 3s 14ms/step - loss: 4.7742e-06 - mean_squared_error: 4.7742e-06 - accuracy: 3.9032e-04 - val_loss: 0.0023 - val_mean_squared_error: 0.0023 - val_accuracy: 9.2507e-04\n",
      "Epoch 6/200\n",
      "257/257 [==============================] - 4s 14ms/step - loss: 3.4872e-06 - mean_squared_error: 3.4872e-06 - accuracy: 3.9032e-04 - val_loss: 0.0039 - val_mean_squared_error: 0.0039 - val_accuracy: 9.2507e-04\n",
      "Epoch 7/200\n",
      "257/257 [==============================] - 4s 17ms/step - loss: 2.8767e-06 - mean_squared_error: 2.8767e-06 - accuracy: 3.9032e-04 - val_loss: 0.0031 - val_mean_squared_error: 0.0031 - val_accuracy: 9.2507e-04\n",
      "Epoch 8/200\n",
      "257/257 [==============================] - 4s 15ms/step - loss: 8.1648e-06 - mean_squared_error: 8.1648e-06 - accuracy: 3.9032e-04 - val_loss: 0.0052 - val_mean_squared_error: 0.0052 - val_accuracy: 9.2507e-04\n",
      "Epoch 9/200\n",
      "257/257 [==============================] - 4s 16ms/step - loss: 2.8479e-06 - mean_squared_error: 2.8479e-06 - accuracy: 3.9032e-04 - val_loss: 0.0046 - val_mean_squared_error: 0.0046 - val_accuracy: 9.2507e-04\n",
      "Epoch 10/200\n",
      "257/257 [==============================] - 4s 17ms/step - loss: 4.2105e-06 - mean_squared_error: 4.2105e-06 - accuracy: 3.9032e-04 - val_loss: 0.0030 - val_mean_squared_error: 0.0030 - val_accuracy: 9.2507e-04\n",
      "Epoch 11/200\n",
      "257/257 [==============================] - 4s 17ms/step - loss: 2.7299e-06 - mean_squared_error: 2.7299e-06 - accuracy: 3.9032e-04 - val_loss: 0.0069 - val_mean_squared_error: 0.0069 - val_accuracy: 9.2507e-04\n",
      "Epoch 12/200\n",
      "257/257 [==============================] - 4s 15ms/step - loss: 7.6752e-06 - mean_squared_error: 7.6752e-06 - accuracy: 3.9032e-04 - val_loss: 0.0061 - val_mean_squared_error: 0.0061 - val_accuracy: 9.2507e-04\n",
      "Epoch 13/200\n",
      "257/257 [==============================] - 3s 13ms/step - loss: 2.9631e-06 - mean_squared_error: 2.9631e-06 - accuracy: 3.9032e-04 - val_loss: 0.0066 - val_mean_squared_error: 0.0066 - val_accuracy: 9.2507e-04\n",
      "Epoch 14/200\n",
      "257/257 [==============================] - 3s 12ms/step - loss: 3.4564e-06 - mean_squared_error: 3.4564e-06 - accuracy: 3.9032e-04 - val_loss: 0.0052 - val_mean_squared_error: 0.0052 - val_accuracy: 9.2507e-04\n",
      "Epoch 15/200\n",
      "257/257 [==============================] - 3s 11ms/step - loss: 2.5466e-06 - mean_squared_error: 2.5466e-06 - accuracy: 3.9032e-04 - val_loss: 0.0076 - val_mean_squared_error: 0.0076 - val_accuracy: 9.2507e-04\n",
      "Epoch 16/200\n",
      "257/257 [==============================] - 4s 17ms/step - loss: 3.4232e-06 - mean_squared_error: 3.4232e-06 - accuracy: 3.9032e-04 - val_loss: 0.0031 - val_mean_squared_error: 0.0031 - val_accuracy: 9.2507e-04\n",
      "Epoch 17/200\n",
      "257/257 [==============================] - 4s 15ms/step - loss: 3.3110e-06 - mean_squared_error: 3.3110e-06 - accuracy: 3.9032e-04 - val_loss: 0.0058 - val_mean_squared_error: 0.0058 - val_accuracy: 9.2507e-04\n",
      "Epoch 18/200\n",
      "257/257 [==============================] - 4s 16ms/step - loss: 1.7593e-06 - mean_squared_error: 1.7593e-06 - accuracy: 3.9032e-04 - val_loss: 0.0048 - val_mean_squared_error: 0.0048 - val_accuracy: 9.2507e-04\n",
      "Epoch 19/200\n",
      "257/257 [==============================] - 5s 18ms/step - loss: 2.4049e-06 - mean_squared_error: 2.4049e-06 - accuracy: 3.9032e-04 - val_loss: 0.0047 - val_mean_squared_error: 0.0047 - val_accuracy: 9.2507e-04\n",
      "Epoch 20/200\n",
      "257/257 [==============================] - 4s 14ms/step - loss: 1.8295e-06 - mean_squared_error: 1.8295e-06 - accuracy: 3.9032e-04 - val_loss: 0.0057 - val_mean_squared_error: 0.0057 - val_accuracy: 9.2507e-04\n",
      "Epoch 21/200\n",
      "257/257 [==============================] - 4s 16ms/step - loss: 2.3507e-06 - mean_squared_error: 2.3507e-06 - accuracy: 3.9032e-04 - val_loss: 0.0059 - val_mean_squared_error: 0.0059 - val_accuracy: 9.2507e-04\n",
      "Epoch 22/200\n",
      "257/257 [==============================] - 3s 13ms/step - loss: 1.8584e-06 - mean_squared_error: 1.8584e-06 - accuracy: 3.9032e-04 - val_loss: 0.0061 - val_mean_squared_error: 0.0061 - val_accuracy: 9.2507e-04\n",
      "Epoch 23/200\n",
      "257/257 [==============================] - 5s 19ms/step - loss: 2.6449e-06 - mean_squared_error: 2.6449e-06 - accuracy: 3.9032e-04 - val_loss: 0.0043 - val_mean_squared_error: 0.0043 - val_accuracy: 9.2507e-04\n",
      "Epoch 24/200\n",
      "257/257 [==============================] - 5s 18ms/step - loss: 3.4695e-06 - mean_squared_error: 3.4695e-06 - accuracy: 3.9032e-04 - val_loss: 0.0044 - val_mean_squared_error: 0.0044 - val_accuracy: 9.2507e-04\n",
      "Epoch 25/200\n",
      "257/257 [==============================] - 5s 18ms/step - loss: 2.6268e-06 - mean_squared_error: 2.6268e-06 - accuracy: 3.9032e-04 - val_loss: 0.0068 - val_mean_squared_error: 0.0068 - val_accuracy: 9.2507e-04\n",
      "Epoch 26/200\n",
      "257/257 [==============================] - 5s 20ms/step - loss: 2.2022e-06 - mean_squared_error: 2.2022e-06 - accuracy: 3.9032e-04 - val_loss: 0.0083 - val_mean_squared_error: 0.0083 - val_accuracy: 9.2507e-04\n",
      "Epoch 27/200\n",
      "257/257 [==============================] - 4s 14ms/step - loss: 2.3128e-06 - mean_squared_error: 2.3128e-06 - accuracy: 3.9032e-04 - val_loss: 0.0078 - val_mean_squared_error: 0.0078 - val_accuracy: 9.2507e-04\n",
      "Epoch 28/200\n",
      "257/257 [==============================] - 4s 14ms/step - loss: 2.7701e-06 - mean_squared_error: 2.7701e-06 - accuracy: 3.9032e-04 - val_loss: 0.0065 - val_mean_squared_error: 0.0065 - val_accuracy: 9.2507e-04\n",
      "Epoch 29/200\n",
      "257/257 [==============================] - 4s 15ms/step - loss: 3.2647e-06 - mean_squared_error: 3.2647e-06 - accuracy: 3.9032e-04 - val_loss: 0.0085 - val_mean_squared_error: 0.0085 - val_accuracy: 9.2507e-04\n",
      "Epoch 30/200\n",
      "257/257 [==============================] - 4s 14ms/step - loss: 2.1163e-06 - mean_squared_error: 2.1163e-06 - accuracy: 3.9032e-04 - val_loss: 0.0050 - val_mean_squared_error: 0.0050 - val_accuracy: 9.2507e-04\n",
      "Epoch 31/200\n",
      "257/257 [==============================] - 3s 13ms/step - loss: 2.3111e-06 - mean_squared_error: 2.3111e-06 - accuracy: 3.9032e-04 - val_loss: 0.0079 - val_mean_squared_error: 0.0079 - val_accuracy: 9.2507e-04\n",
      "Epoch 32/200\n",
      "257/257 [==============================] - 3s 13ms/step - loss: 7.7863e-06 - mean_squared_error: 7.7863e-06 - accuracy: 3.9032e-04 - val_loss: 0.0058 - val_mean_squared_error: 0.0058 - val_accuracy: 9.2507e-04\n",
      "Epoch 33/200\n",
      "257/257 [==============================] - 5s 18ms/step - loss: 1.8547e-06 - mean_squared_error: 1.8547e-06 - accuracy: 3.9032e-04 - val_loss: 0.0061 - val_mean_squared_error: 0.0061 - val_accuracy: 9.2507e-04\n",
      "Epoch 34/200\n",
      "257/257 [==============================] - 7s 26ms/step - loss: 2.1289e-06 - mean_squared_error: 2.1289e-06 - accuracy: 3.9032e-04 - val_loss: 0.0072 - val_mean_squared_error: 0.0072 - val_accuracy: 9.2507e-04\n",
      "Epoch 35/200\n",
      "257/257 [==============================] - 6s 21ms/step - loss: 2.5469e-06 - mean_squared_error: 2.5469e-06 - accuracy: 3.9032e-04 - val_loss: 0.0050 - val_mean_squared_error: 0.0050 - val_accuracy: 9.2507e-04\n",
      "Epoch 36/200\n",
      "257/257 [==============================] - 4s 17ms/step - loss: 1.8073e-06 - mean_squared_error: 1.8073e-06 - accuracy: 3.9032e-04 - val_loss: 0.0070 - val_mean_squared_error: 0.0070 - val_accuracy: 9.2507e-04\n",
      "Epoch 37/200\n",
      "257/257 [==============================] - 3s 13ms/step - loss: 1.3363e-06 - mean_squared_error: 1.3363e-06 - accuracy: 3.9032e-04 - val_loss: 0.0072 - val_mean_squared_error: 0.0072 - val_accuracy: 9.2507e-04\n",
      "Epoch 38/200\n",
      "257/257 [==============================] - 3s 12ms/step - loss: 1.7531e-06 - mean_squared_error: 1.7531e-06 - accuracy: 3.9032e-04 - val_loss: 0.0050 - val_mean_squared_error: 0.0050 - val_accuracy: 9.2507e-04\n",
      "Epoch 39/200\n",
      "257/257 [==============================] - 3s 12ms/step - loss: 2.7805e-06 - mean_squared_error: 2.7805e-06 - accuracy: 3.9032e-04 - val_loss: 0.0091 - val_mean_squared_error: 0.0091 - val_accuracy: 9.2507e-04\n",
      "Epoch 40/200\n",
      "257/257 [==============================] - 3s 13ms/step - loss: 3.7785e-06 - mean_squared_error: 3.7785e-06 - accuracy: 3.9032e-04 - val_loss: 0.0095 - val_mean_squared_error: 0.0095 - val_accuracy: 9.2507e-04\n",
      "Epoch 41/200\n",
      "257/257 [==============================] - 5s 18ms/step - loss: 1.6662e-06 - mean_squared_error: 1.6662e-06 - accuracy: 3.9032e-04 - val_loss: 0.0096 - val_mean_squared_error: 0.0096 - val_accuracy: 9.2507e-04\n",
      "Epoch 42/200\n",
      "257/257 [==============================] - 4s 15ms/step - loss: 1.7740e-06 - mean_squared_error: 1.7740e-06 - accuracy: 3.9032e-04 - val_loss: 0.0078 - val_mean_squared_error: 0.0078 - val_accuracy: 9.2507e-04\n",
      "Epoch 43/200\n",
      "257/257 [==============================] - 3s 14ms/step - loss: 3.0867e-06 - mean_squared_error: 3.0867e-06 - accuracy: 3.9032e-04 - val_loss: 0.0103 - val_mean_squared_error: 0.0103 - val_accuracy: 9.2507e-04\n",
      "Epoch 44/200\n",
      "257/257 [==============================] - 3s 13ms/step - loss: 1.4651e-06 - mean_squared_error: 1.4651e-06 - accuracy: 3.9032e-04 - val_loss: 0.0113 - val_mean_squared_error: 0.0113 - val_accuracy: 9.2507e-04\n",
      "Epoch 45/200\n",
      "257/257 [==============================] - 3s 13ms/step - loss: 1.9703e-06 - mean_squared_error: 1.9703e-06 - accuracy: 3.9032e-04 - val_loss: 0.0084 - val_mean_squared_error: 0.0084 - val_accuracy: 9.2507e-04\n",
      "Epoch 46/200\n",
      "257/257 [==============================] - 3s 12ms/step - loss: 2.8796e-06 - mean_squared_error: 2.8796e-06 - accuracy: 3.9032e-04 - val_loss: 0.0111 - val_mean_squared_error: 0.0111 - val_accuracy: 9.2507e-04\n",
      "Epoch 47/200\n",
      "257/257 [==============================] - 3s 12ms/step - loss: 1.8257e-06 - mean_squared_error: 1.8257e-06 - accuracy: 3.9032e-04 - val_loss: 0.0097 - val_mean_squared_error: 0.0097 - val_accuracy: 9.2507e-04\n",
      "Epoch 48/200\n",
      "257/257 [==============================] - 3s 12ms/step - loss: 2.8058e-06 - mean_squared_error: 2.8058e-06 - accuracy: 3.9032e-04 - val_loss: 0.0118 - val_mean_squared_error: 0.0118 - val_accuracy: 9.2507e-04\n",
      "Epoch 49/200\n",
      "257/257 [==============================] - 3s 13ms/step - loss: 1.9438e-06 - mean_squared_error: 1.9438e-06 - accuracy: 3.9032e-04 - val_loss: 0.0086 - val_mean_squared_error: 0.0086 - val_accuracy: 9.2507e-04\n",
      "Epoch 50/200\n",
      "257/257 [==============================] - 4s 14ms/step - loss: 4.0453e-06 - mean_squared_error: 4.0453e-06 - accuracy: 3.9032e-04 - val_loss: 0.0094 - val_mean_squared_error: 0.0094 - val_accuracy: 9.2507e-04\n",
      "Epoch 51/200\n",
      "257/257 [==============================] - 4s 14ms/step - loss: 1.5605e-06 - mean_squared_error: 1.5605e-06 - accuracy: 3.9032e-04 - val_loss: 0.0102 - val_mean_squared_error: 0.0102 - val_accuracy: 9.2507e-04\n",
      "Epoch 52/200\n",
      "257/257 [==============================] - 4s 14ms/step - loss: 1.2141e-06 - mean_squared_error: 1.2141e-06 - accuracy: 3.9032e-04 - val_loss: 0.0136 - val_mean_squared_error: 0.0136 - val_accuracy: 9.2507e-04\n",
      "Epoch 53/200\n",
      "257/257 [==============================] - 4s 16ms/step - loss: 2.9238e-06 - mean_squared_error: 2.9238e-06 - accuracy: 3.9032e-04 - val_loss: 0.0134 - val_mean_squared_error: 0.0134 - val_accuracy: 9.2507e-04\n",
      "Epoch 54/200\n",
      "257/257 [==============================] - 4s 15ms/step - loss: 1.7517e-06 - mean_squared_error: 1.7517e-06 - accuracy: 3.9032e-04 - val_loss: 0.0133 - val_mean_squared_error: 0.0133 - val_accuracy: 9.2507e-04\n",
      "Epoch 55/200\n",
      "257/257 [==============================] - 3s 13ms/step - loss: 2.4730e-06 - mean_squared_error: 2.4730e-06 - accuracy: 3.9032e-04 - val_loss: 0.0168 - val_mean_squared_error: 0.0168 - val_accuracy: 9.2507e-04\n",
      "Epoch 56/200\n",
      "257/257 [==============================] - 3s 13ms/step - loss: 2.6590e-06 - mean_squared_error: 2.6590e-06 - accuracy: 3.9032e-04 - val_loss: 0.0172 - val_mean_squared_error: 0.0172 - val_accuracy: 9.2507e-04\n",
      "Epoch 57/200\n",
      "257/257 [==============================] - 3s 12ms/step - loss: 2.2896e-06 - mean_squared_error: 2.2896e-06 - accuracy: 3.9032e-04 - val_loss: 0.0179 - val_mean_squared_error: 0.0179 - val_accuracy: 9.2507e-04\n",
      "Epoch 58/200\n",
      "257/257 [==============================] - 4s 14ms/step - loss: 2.7154e-06 - mean_squared_error: 2.7154e-06 - accuracy: 3.9032e-04 - val_loss: 0.0140 - val_mean_squared_error: 0.0140 - val_accuracy: 9.2507e-04\n",
      "Epoch 59/200\n",
      "257/257 [==============================] - 4s 14ms/step - loss: 4.1016e-06 - mean_squared_error: 4.1016e-06 - accuracy: 3.9032e-04 - val_loss: 0.0141 - val_mean_squared_error: 0.0141 - val_accuracy: 9.2507e-04\n",
      "Epoch 60/200\n",
      "257/257 [==============================] - 3s 13ms/step - loss: 1.5123e-06 - mean_squared_error: 1.5123e-06 - accuracy: 3.9032e-04 - val_loss: 0.0121 - val_mean_squared_error: 0.0121 - val_accuracy: 9.2507e-04\n",
      "Epoch 61/200\n",
      "257/257 [==============================] - 3s 13ms/step - loss: 1.8421e-06 - mean_squared_error: 1.8421e-06 - accuracy: 3.9032e-04 - val_loss: 0.0136 - val_mean_squared_error: 0.0136 - val_accuracy: 9.2507e-04\n",
      "Epoch 62/200\n",
      "257/257 [==============================] - 3s 13ms/step - loss: 1.6426e-06 - mean_squared_error: 1.6426e-06 - accuracy: 3.9032e-04 - val_loss: 0.0127 - val_mean_squared_error: 0.0127 - val_accuracy: 9.2507e-04\n",
      "Epoch 63/200\n",
      "257/257 [==============================] - 4s 14ms/step - loss: 1.2738e-06 - mean_squared_error: 1.2738e-06 - accuracy: 3.9032e-04 - val_loss: 0.0118 - val_mean_squared_error: 0.0118 - val_accuracy: 9.2507e-04\n",
      "Epoch 64/200\n",
      "257/257 [==============================] - 3s 13ms/step - loss: 1.4193e-06 - mean_squared_error: 1.4193e-06 - accuracy: 3.9032e-04 - val_loss: 0.0123 - val_mean_squared_error: 0.0123 - val_accuracy: 9.2507e-04\n",
      "Epoch 65/200\n",
      "257/257 [==============================] - 3s 13ms/step - loss: 1.8637e-06 - mean_squared_error: 1.8637e-06 - accuracy: 3.9032e-04 - val_loss: 0.0121 - val_mean_squared_error: 0.0121 - val_accuracy: 9.2507e-04\n",
      "Epoch 66/200\n",
      "257/257 [==============================] - 3s 13ms/step - loss: 1.6615e-06 - mean_squared_error: 1.6615e-06 - accuracy: 3.9032e-04 - val_loss: 0.0146 - val_mean_squared_error: 0.0146 - val_accuracy: 9.2507e-04\n",
      "Epoch 67/200\n",
      "257/257 [==============================] - 3s 13ms/step - loss: 4.0170e-06 - mean_squared_error: 4.0170e-06 - accuracy: 3.9032e-04 - val_loss: 0.0154 - val_mean_squared_error: 0.0154 - val_accuracy: 9.2507e-04\n",
      "Epoch 68/200\n",
      "257/257 [==============================] - 4s 17ms/step - loss: 1.4408e-06 - mean_squared_error: 1.4408e-06 - accuracy: 3.9032e-04 - val_loss: 0.0199 - val_mean_squared_error: 0.0199 - val_accuracy: 0.0000e+00\n",
      "Epoch 69/200\n",
      "257/257 [==============================] - 4s 15ms/step - loss: 2.0717e-06 - mean_squared_error: 2.0717e-06 - accuracy: 3.9032e-04 - val_loss: 0.0145 - val_mean_squared_error: 0.0145 - val_accuracy: 9.2507e-04\n",
      "Epoch 70/200\n",
      "257/257 [==============================] - 4s 14ms/step - loss: 2.1901e-06 - mean_squared_error: 2.1901e-06 - accuracy: 3.9032e-04 - val_loss: 0.0119 - val_mean_squared_error: 0.0119 - val_accuracy: 9.2507e-04\n",
      "Epoch 71/200\n",
      "257/257 [==============================] - 4s 14ms/step - loss: 2.8874e-06 - mean_squared_error: 2.8874e-06 - accuracy: 3.9032e-04 - val_loss: 0.0156 - val_mean_squared_error: 0.0156 - val_accuracy: 9.2507e-04\n",
      "Epoch 72/200\n",
      "257/257 [==============================] - 4s 16ms/step - loss: 1.8094e-06 - mean_squared_error: 1.8094e-06 - accuracy: 3.9032e-04 - val_loss: 0.0176 - val_mean_squared_error: 0.0176 - val_accuracy: 9.2507e-04\n",
      "Epoch 73/200\n",
      "257/257 [==============================] - 7s 26ms/step - loss: 2.1702e-06 - mean_squared_error: 2.1702e-06 - accuracy: 3.9032e-04 - val_loss: 0.0183 - val_mean_squared_error: 0.0183 - val_accuracy: 9.2507e-04\n",
      "Epoch 74/200\n",
      "257/257 [==============================] - 6s 25ms/step - loss: 1.9348e-06 - mean_squared_error: 1.9348e-06 - accuracy: 3.9032e-04 - val_loss: 0.0140 - val_mean_squared_error: 0.0140 - val_accuracy: 9.2507e-04\n",
      "Epoch 75/200\n",
      "257/257 [==============================] - 4s 16ms/step - loss: 1.4470e-06 - mean_squared_error: 1.4470e-06 - accuracy: 3.9032e-04 - val_loss: 0.0182 - val_mean_squared_error: 0.0182 - val_accuracy: 0.0000e+00\n",
      "Epoch 76/200\n",
      "257/257 [==============================] - 5s 21ms/step - loss: 1.6634e-06 - mean_squared_error: 1.6634e-06 - accuracy: 3.9032e-04 - val_loss: 0.0165 - val_mean_squared_error: 0.0165 - val_accuracy: 9.2507e-04\n",
      "Epoch 77/200\n",
      "257/257 [==============================] - 5s 19ms/step - loss: 2.3322e-06 - mean_squared_error: 2.3322e-06 - accuracy: 3.9032e-04 - val_loss: 0.0140 - val_mean_squared_error: 0.0140 - val_accuracy: 9.2507e-04\n",
      "Epoch 78/200\n",
      "257/257 [==============================] - 5s 18ms/step - loss: 2.5061e-06 - mean_squared_error: 2.5061e-06 - accuracy: 3.9032e-04 - val_loss: 0.0133 - val_mean_squared_error: 0.0133 - val_accuracy: 9.2507e-04\n",
      "Epoch 79/200\n",
      "257/257 [==============================] - 5s 18ms/step - loss: 1.5962e-06 - mean_squared_error: 1.5962e-06 - accuracy: 3.9032e-04 - val_loss: 0.0158 - val_mean_squared_error: 0.0158 - val_accuracy: 9.2507e-04\n",
      "Epoch 80/200\n",
      "257/257 [==============================] - 4s 15ms/step - loss: 2.4934e-06 - mean_squared_error: 2.4934e-06 - accuracy: 3.9032e-04 - val_loss: 0.0107 - val_mean_squared_error: 0.0107 - val_accuracy: 9.2507e-04\n",
      "Epoch 81/200\n",
      "257/257 [==============================] - 4s 15ms/step - loss: 1.7289e-06 - mean_squared_error: 1.7289e-06 - accuracy: 3.9032e-04 - val_loss: 0.0160 - val_mean_squared_error: 0.0160 - val_accuracy: 9.2507e-04\n",
      "Epoch 82/200\n",
      "257/257 [==============================] - 4s 15ms/step - loss: 1.2249e-06 - mean_squared_error: 1.2249e-06 - accuracy: 3.9032e-04 - val_loss: 0.0157 - val_mean_squared_error: 0.0157 - val_accuracy: 9.2507e-04\n",
      "Epoch 83/200\n",
      "257/257 [==============================] - 4s 15ms/step - loss: 3.0064e-06 - mean_squared_error: 3.0064e-06 - accuracy: 3.9032e-04 - val_loss: 0.0102 - val_mean_squared_error: 0.0102 - val_accuracy: 9.2507e-04\n",
      "Epoch 84/200\n",
      "257/257 [==============================] - 4s 16ms/step - loss: 2.1630e-06 - mean_squared_error: 2.1630e-06 - accuracy: 3.9032e-04 - val_loss: 0.0139 - val_mean_squared_error: 0.0139 - val_accuracy: 9.2507e-04\n",
      "Epoch 85/200\n",
      "257/257 [==============================] - 4s 17ms/step - loss: 1.2974e-06 - mean_squared_error: 1.2974e-06 - accuracy: 3.9032e-04 - val_loss: 0.0148 - val_mean_squared_error: 0.0148 - val_accuracy: 9.2507e-04\n",
      "Epoch 86/200\n",
      "257/257 [==============================] - 4s 16ms/step - loss: 2.2124e-06 - mean_squared_error: 2.2124e-06 - accuracy: 3.9032e-04 - val_loss: 0.0153 - val_mean_squared_error: 0.0153 - val_accuracy: 9.2507e-04\n",
      "Epoch 87/200\n",
      "257/257 [==============================] - 5s 19ms/step - loss: 1.8353e-06 - mean_squared_error: 1.8353e-06 - accuracy: 3.9032e-04 - val_loss: 0.0169 - val_mean_squared_error: 0.0169 - val_accuracy: 9.2507e-04\n",
      "Epoch 88/200\n",
      "257/257 [==============================] - 4s 15ms/step - loss: 1.8126e-06 - mean_squared_error: 1.8126e-06 - accuracy: 3.9032e-04 - val_loss: 0.0143 - val_mean_squared_error: 0.0143 - val_accuracy: 9.2507e-04\n",
      "Epoch 89/200\n",
      "257/257 [==============================] - 3s 13ms/step - loss: 1.7147e-06 - mean_squared_error: 1.7147e-06 - accuracy: 3.9032e-04 - val_loss: 0.0154 - val_mean_squared_error: 0.0154 - val_accuracy: 9.2507e-04\n",
      "Epoch 90/200\n",
      "257/257 [==============================] - 4s 14ms/step - loss: 1.0230e-06 - mean_squared_error: 1.0230e-06 - accuracy: 3.9032e-04 - val_loss: 0.0155 - val_mean_squared_error: 0.0155 - val_accuracy: 9.2507e-04\n",
      "Epoch 91/200\n",
      "257/257 [==============================] - 4s 14ms/step - loss: 1.9964e-06 - mean_squared_error: 1.9964e-06 - accuracy: 3.9032e-04 - val_loss: 0.0205 - val_mean_squared_error: 0.0205 - val_accuracy: 0.0000e+00\n",
      "Epoch 92/200\n",
      "257/257 [==============================] - 3s 13ms/step - loss: 1.4992e-06 - mean_squared_error: 1.4992e-06 - accuracy: 3.9032e-04 - val_loss: 0.0191 - val_mean_squared_error: 0.0191 - val_accuracy: 0.0000e+00\n",
      "Epoch 93/200\n",
      "257/257 [==============================] - 3s 14ms/step - loss: 2.3411e-06 - mean_squared_error: 2.3411e-06 - accuracy: 3.9032e-04 - val_loss: 0.0188 - val_mean_squared_error: 0.0188 - val_accuracy: 0.0000e+00\n",
      "Epoch 94/200\n",
      "257/257 [==============================] - 4s 14ms/step - loss: 1.8632e-06 - mean_squared_error: 1.8632e-06 - accuracy: 3.9032e-04 - val_loss: 0.0151 - val_mean_squared_error: 0.0151 - val_accuracy: 9.2507e-04\n",
      "Epoch 95/200\n",
      "257/257 [==============================] - 4s 14ms/step - loss: 1.4616e-06 - mean_squared_error: 1.4616e-06 - accuracy: 3.9032e-04 - val_loss: 0.0187 - val_mean_squared_error: 0.0187 - val_accuracy: 0.0000e+00\n",
      "Epoch 96/200\n",
      "257/257 [==============================] - 3s 14ms/step - loss: 2.1171e-06 - mean_squared_error: 2.1171e-06 - accuracy: 3.9032e-04 - val_loss: 0.0187 - val_mean_squared_error: 0.0187 - val_accuracy: 0.0000e+00\n",
      "Epoch 97/200\n",
      "257/257 [==============================] - 3s 13ms/step - loss: 4.1195e-05 - mean_squared_error: 4.1195e-05 - accuracy: 3.9032e-04 - val_loss: 0.0241 - val_mean_squared_error: 0.0241 - val_accuracy: 0.0000e+00\n",
      "Epoch 98/200\n",
      "257/257 [==============================] - 3s 13ms/step - loss: 1.2963e-06 - mean_squared_error: 1.2963e-06 - accuracy: 3.9032e-04 - val_loss: 0.0241 - val_mean_squared_error: 0.0241 - val_accuracy: 0.0000e+00\n",
      "Epoch 99/200\n",
      "257/257 [==============================] - 3s 13ms/step - loss: 1.2146e-06 - mean_squared_error: 1.2146e-06 - accuracy: 3.9032e-04 - val_loss: 0.0241 - val_mean_squared_error: 0.0241 - val_accuracy: 0.0000e+00\n",
      "Epoch 100/200\n",
      "257/257 [==============================] - 3s 13ms/step - loss: 1.0258e-06 - mean_squared_error: 1.0258e-06 - accuracy: 3.9032e-04 - val_loss: 0.0219 - val_mean_squared_error: 0.0219 - val_accuracy: 0.0000e+00\n",
      "Epoch 101/200\n",
      "257/257 [==============================] - 3s 13ms/step - loss: 1.6742e-06 - mean_squared_error: 1.6742e-06 - accuracy: 3.9032e-04 - val_loss: 0.0249 - val_mean_squared_error: 0.0249 - val_accuracy: 0.0000e+00\n",
      "Epoch 102/200\n",
      "257/257 [==============================] - 3s 13ms/step - loss: 1.5547e-06 - mean_squared_error: 1.5547e-06 - accuracy: 3.9032e-04 - val_loss: 0.0246 - val_mean_squared_error: 0.0246 - val_accuracy: 0.0000e+00\n",
      "Epoch 103/200\n",
      "257/257 [==============================] - 3s 13ms/step - loss: 1.7549e-06 - mean_squared_error: 1.7549e-06 - accuracy: 3.9032e-04 - val_loss: 0.0240 - val_mean_squared_error: 0.0240 - val_accuracy: 0.0000e+00\n",
      "Epoch 104/200\n",
      "257/257 [==============================] - 3s 13ms/step - loss: 2.4632e-06 - mean_squared_error: 2.4632e-06 - accuracy: 3.9032e-04 - val_loss: 0.0245 - val_mean_squared_error: 0.0245 - val_accuracy: 0.0000e+00\n",
      "Epoch 105/200\n",
      "257/257 [==============================] - 6s 25ms/step - loss: 1.9166e-06 - mean_squared_error: 1.9166e-06 - accuracy: 3.9032e-04 - val_loss: 0.0240 - val_mean_squared_error: 0.0240 - val_accuracy: 0.0000e+00\n",
      "Epoch 106/200\n",
      "257/257 [==============================] - 5s 18ms/step - loss: 1.8617e-06 - mean_squared_error: 1.8617e-06 - accuracy: 3.9032e-04 - val_loss: 0.0244 - val_mean_squared_error: 0.0244 - val_accuracy: 0.0000e+00\n",
      "Epoch 107/200\n",
      "257/257 [==============================] - 4s 16ms/step - loss: 2.6940e-06 - mean_squared_error: 2.6940e-06 - accuracy: 3.9032e-04 - val_loss: 0.0225 - val_mean_squared_error: 0.0225 - val_accuracy: 0.0000e+00\n",
      "Epoch 108/200\n",
      "257/257 [==============================] - 4s 16ms/step - loss: 1.7019e-06 - mean_squared_error: 1.7019e-06 - accuracy: 3.9032e-04 - val_loss: 0.0220 - val_mean_squared_error: 0.0220 - val_accuracy: 0.0000e+00\n",
      "Epoch 109/200\n",
      "257/257 [==============================] - 4s 16ms/step - loss: 1.4636e-06 - mean_squared_error: 1.4636e-06 - accuracy: 3.9032e-04 - val_loss: 0.0239 - val_mean_squared_error: 0.0239 - val_accuracy: 0.0000e+00\n",
      "Epoch 110/200\n",
      "257/257 [==============================] - 4s 16ms/step - loss: 2.5062e-06 - mean_squared_error: 2.5062e-06 - accuracy: 3.9032e-04 - val_loss: 0.0266 - val_mean_squared_error: 0.0266 - val_accuracy: 0.0000e+00\n",
      "Epoch 111/200\n",
      "257/257 [==============================] - 4s 16ms/step - loss: 1.7244e-06 - mean_squared_error: 1.7244e-06 - accuracy: 3.9032e-04 - val_loss: 0.0253 - val_mean_squared_error: 0.0253 - val_accuracy: 0.0000e+00\n",
      "Epoch 112/200\n",
      "257/257 [==============================] - 4s 15ms/step - loss: 1.4978e-06 - mean_squared_error: 1.4978e-06 - accuracy: 3.9032e-04 - val_loss: 0.0232 - val_mean_squared_error: 0.0232 - val_accuracy: 0.0000e+00\n",
      "Epoch 113/200\n",
      "257/257 [==============================] - 4s 15ms/step - loss: 1.8460e-06 - mean_squared_error: 1.8460e-06 - accuracy: 3.9032e-04 - val_loss: 0.0242 - val_mean_squared_error: 0.0242 - val_accuracy: 0.0000e+00\n",
      "Epoch 114/200\n",
      "257/257 [==============================] - 4s 16ms/step - loss: 1.5939e-06 - mean_squared_error: 1.5939e-06 - accuracy: 3.9032e-04 - val_loss: 0.0256 - val_mean_squared_error: 0.0256 - val_accuracy: 0.0000e+00\n",
      "Epoch 115/200\n",
      "257/257 [==============================] - 3s 13ms/step - loss: 1.6843e-06 - mean_squared_error: 1.6843e-06 - accuracy: 3.9032e-04 - val_loss: 0.0236 - val_mean_squared_error: 0.0236 - val_accuracy: 0.0000e+00\n",
      "Epoch 116/200\n",
      "257/257 [==============================] - 3s 13ms/step - loss: 2.8566e-06 - mean_squared_error: 2.8566e-06 - accuracy: 3.9032e-04 - val_loss: 0.0274 - val_mean_squared_error: 0.0274 - val_accuracy: 0.0000e+00\n",
      "Epoch 117/200\n",
      "257/257 [==============================] - 3s 13ms/step - loss: 1.6186e-06 - mean_squared_error: 1.6186e-06 - accuracy: 3.9032e-04 - val_loss: 0.0235 - val_mean_squared_error: 0.0235 - val_accuracy: 0.0000e+00\n",
      "Epoch 118/200\n",
      "257/257 [==============================] - 3s 13ms/step - loss: 2.2377e-06 - mean_squared_error: 2.2377e-06 - accuracy: 3.9032e-04 - val_loss: 0.0257 - val_mean_squared_error: 0.0257 - val_accuracy: 0.0000e+00\n",
      "Epoch 119/200\n",
      "257/257 [==============================] - 3s 13ms/step - loss: 2.0314e-06 - mean_squared_error: 2.0314e-06 - accuracy: 3.9032e-04 - val_loss: 0.0254 - val_mean_squared_error: 0.0254 - val_accuracy: 0.0000e+00\n",
      "Epoch 120/200\n",
      "257/257 [==============================] - 4s 15ms/step - loss: 2.1863e-06 - mean_squared_error: 2.1863e-06 - accuracy: 3.9032e-04 - val_loss: 0.0243 - val_mean_squared_error: 0.0243 - val_accuracy: 0.0000e+00\n",
      "Epoch 121/200\n",
      "257/257 [==============================] - 3s 13ms/step - loss: 1.1952e-06 - mean_squared_error: 1.1952e-06 - accuracy: 3.9032e-04 - val_loss: 0.0259 - val_mean_squared_error: 0.0259 - val_accuracy: 0.0000e+00\n",
      "Epoch 122/200\n",
      "257/257 [==============================] - 5s 18ms/step - loss: 1.1327e-06 - mean_squared_error: 1.1327e-06 - accuracy: 3.9032e-04 - val_loss: 0.0255 - val_mean_squared_error: 0.0255 - val_accuracy: 0.0000e+00\n",
      "Epoch 123/200\n",
      "257/257 [==============================] - 5s 18ms/step - loss: 2.6375e-06 - mean_squared_error: 2.6375e-06 - accuracy: 3.9032e-04 - val_loss: 0.0273 - val_mean_squared_error: 0.0273 - val_accuracy: 0.0000e+00\n",
      "Epoch 124/200\n",
      "257/257 [==============================] - 5s 20ms/step - loss: 1.7339e-06 - mean_squared_error: 1.7339e-06 - accuracy: 3.9032e-04 - val_loss: 0.0319 - val_mean_squared_error: 0.0319 - val_accuracy: 0.0000e+00\n",
      "Epoch 125/200\n",
      "257/257 [==============================] - 4s 17ms/step - loss: 2.5669e-06 - mean_squared_error: 2.5669e-06 - accuracy: 3.9032e-04 - val_loss: 0.0256 - val_mean_squared_error: 0.0256 - val_accuracy: 0.0000e+00\n",
      "Epoch 126/200\n",
      "257/257 [==============================] - 5s 18ms/step - loss: 1.5237e-06 - mean_squared_error: 1.5237e-06 - accuracy: 3.9032e-04 - val_loss: 0.0235 - val_mean_squared_error: 0.0235 - val_accuracy: 0.0000e+00\n",
      "Epoch 127/200\n",
      "257/257 [==============================] - 5s 19ms/step - loss: 1.8202e-06 - mean_squared_error: 1.8202e-06 - accuracy: 3.9032e-04 - val_loss: 0.0271 - val_mean_squared_error: 0.0271 - val_accuracy: 0.0000e+00\n",
      "Epoch 128/200\n",
      "257/257 [==============================] - 4s 16ms/step - loss: 1.3190e-06 - mean_squared_error: 1.3190e-06 - accuracy: 3.9032e-04 - val_loss: 0.0228 - val_mean_squared_error: 0.0228 - val_accuracy: 0.0000e+00\n",
      "Epoch 129/200\n",
      "257/257 [==============================] - 4s 15ms/step - loss: 1.9005e-06 - mean_squared_error: 1.9005e-06 - accuracy: 3.9032e-04 - val_loss: 0.0270 - val_mean_squared_error: 0.0270 - val_accuracy: 0.0000e+00\n",
      "Epoch 130/200\n",
      "257/257 [==============================] - 4s 14ms/step - loss: 1.4503e-06 - mean_squared_error: 1.4503e-06 - accuracy: 3.9032e-04 - val_loss: 0.0276 - val_mean_squared_error: 0.0276 - val_accuracy: 0.0000e+00\n",
      "Epoch 131/200\n",
      "257/257 [==============================] - 5s 20ms/step - loss: 1.1331e-06 - mean_squared_error: 1.1331e-06 - accuracy: 3.9032e-04 - val_loss: 0.0220 - val_mean_squared_error: 0.0220 - val_accuracy: 0.0000e+00\n",
      "Epoch 132/200\n",
      "257/257 [==============================] - 4s 15ms/step - loss: 3.0337e-06 - mean_squared_error: 3.0337e-06 - accuracy: 3.9032e-04 - val_loss: 0.0282 - val_mean_squared_error: 0.0282 - val_accuracy: 0.0000e+00\n",
      "Epoch 133/200\n",
      "257/257 [==============================] - 4s 14ms/step - loss: 2.1349e-06 - mean_squared_error: 2.1349e-06 - accuracy: 3.9032e-04 - val_loss: 0.0293 - val_mean_squared_error: 0.0293 - val_accuracy: 0.0000e+00\n",
      "Epoch 134/200\n",
      "257/257 [==============================] - 4s 15ms/step - loss: 1.6301e-06 - mean_squared_error: 1.6301e-06 - accuracy: 3.9032e-04 - val_loss: 0.0253 - val_mean_squared_error: 0.0253 - val_accuracy: 0.0000e+00\n",
      "Epoch 135/200\n",
      "257/257 [==============================] - 3s 13ms/step - loss: 1.2472e-06 - mean_squared_error: 1.2472e-06 - accuracy: 3.9032e-04 - val_loss: 0.0278 - val_mean_squared_error: 0.0278 - val_accuracy: 0.0000e+00\n",
      "Epoch 136/200\n",
      "257/257 [==============================] - 3s 13ms/step - loss: 1.7860e-06 - mean_squared_error: 1.7860e-06 - accuracy: 3.9032e-04 - val_loss: 0.0247 - val_mean_squared_error: 0.0247 - val_accuracy: 0.0000e+00\n",
      "Epoch 137/200\n",
      "257/257 [==============================] - 5s 19ms/step - loss: 2.3677e-06 - mean_squared_error: 2.3677e-06 - accuracy: 3.9032e-04 - val_loss: 0.0322 - val_mean_squared_error: 0.0322 - val_accuracy: 0.0000e+00\n",
      "Epoch 138/200\n",
      "257/257 [==============================] - 5s 18ms/step - loss: 3.2099e-06 - mean_squared_error: 3.2099e-06 - accuracy: 3.9032e-04 - val_loss: 0.0271 - val_mean_squared_error: 0.0271 - val_accuracy: 0.0000e+00\n",
      "Epoch 139/200\n",
      "257/257 [==============================] - 4s 15ms/step - loss: 2.4004e-06 - mean_squared_error: 2.4004e-06 - accuracy: 3.9032e-04 - val_loss: 0.0288 - val_mean_squared_error: 0.0288 - val_accuracy: 0.0000e+00\n",
      "Epoch 140/200\n",
      "257/257 [==============================] - 3s 14ms/step - loss: 1.3072e-06 - mean_squared_error: 1.3072e-06 - accuracy: 3.9032e-04 - val_loss: 0.0269 - val_mean_squared_error: 0.0269 - val_accuracy: 0.0000e+00\n",
      "Epoch 141/200\n",
      "257/257 [==============================] - 4s 14ms/step - loss: 1.1975e-06 - mean_squared_error: 1.1975e-06 - accuracy: 3.9032e-04 - val_loss: 0.0279 - val_mean_squared_error: 0.0279 - val_accuracy: 0.0000e+00\n",
      "Epoch 142/200\n",
      "257/257 [==============================] - 4s 15ms/step - loss: 1.6460e-06 - mean_squared_error: 1.6460e-06 - accuracy: 3.9032e-04 - val_loss: 0.0247 - val_mean_squared_error: 0.0247 - val_accuracy: 0.0000e+00\n",
      "Epoch 143/200\n",
      "257/257 [==============================] - 4s 15ms/step - loss: 1.8739e-06 - mean_squared_error: 1.8739e-06 - accuracy: 3.9032e-04 - val_loss: 0.0272 - val_mean_squared_error: 0.0272 - val_accuracy: 0.0000e+00\n",
      "Epoch 144/200\n",
      "257/257 [==============================] - 4s 14ms/step - loss: 2.0371e-06 - mean_squared_error: 2.0371e-06 - accuracy: 3.9032e-04 - val_loss: 0.0290 - val_mean_squared_error: 0.0290 - val_accuracy: 0.0000e+00\n",
      "Epoch 145/200\n",
      "257/257 [==============================] - 4s 14ms/step - loss: 1.2542e-06 - mean_squared_error: 1.2542e-06 - accuracy: 3.9032e-04 - val_loss: 0.0263 - val_mean_squared_error: 0.0263 - val_accuracy: 0.0000e+00\n",
      "Epoch 146/200\n",
      "257/257 [==============================] - 4s 15ms/step - loss: 2.2679e-06 - mean_squared_error: 2.2679e-06 - accuracy: 3.9032e-04 - val_loss: 0.0263 - val_mean_squared_error: 0.0263 - val_accuracy: 0.0000e+00\n",
      "Epoch 147/200\n",
      "257/257 [==============================] - 4s 14ms/step - loss: 1.1738e-06 - mean_squared_error: 1.1738e-06 - accuracy: 3.9032e-04 - val_loss: 0.0274 - val_mean_squared_error: 0.0274 - val_accuracy: 0.0000e+00\n",
      "Epoch 148/200\n",
      "257/257 [==============================] - 4s 14ms/step - loss: 1.2247e-06 - mean_squared_error: 1.2247e-06 - accuracy: 3.9032e-04 - val_loss: 0.0243 - val_mean_squared_error: 0.0243 - val_accuracy: 0.0000e+00\n",
      "Epoch 149/200\n",
      "257/257 [==============================] - 4s 14ms/step - loss: 2.7000e-06 - mean_squared_error: 2.7000e-06 - accuracy: 3.9032e-04 - val_loss: 0.0281 - val_mean_squared_error: 0.0281 - val_accuracy: 0.0000e+00\n",
      "Epoch 150/200\n",
      "257/257 [==============================] - 4s 15ms/step - loss: 2.7518e-06 - mean_squared_error: 2.7518e-06 - accuracy: 3.9032e-04 - val_loss: 0.0304 - val_mean_squared_error: 0.0304 - val_accuracy: 0.0000e+00\n",
      "Epoch 151/200\n",
      "257/257 [==============================] - 4s 17ms/step - loss: 1.4050e-06 - mean_squared_error: 1.4050e-06 - accuracy: 3.9032e-04 - val_loss: 0.0318 - val_mean_squared_error: 0.0318 - val_accuracy: 0.0000e+00\n",
      "Epoch 152/200\n",
      "257/257 [==============================] - 4s 15ms/step - loss: 1.5053e-06 - mean_squared_error: 1.5053e-06 - accuracy: 3.9032e-04 - val_loss: 0.0338 - val_mean_squared_error: 0.0338 - val_accuracy: 0.0000e+00\n",
      "Epoch 153/200\n",
      "257/257 [==============================] - 4s 14ms/step - loss: 3.3284e-06 - mean_squared_error: 3.3284e-06 - accuracy: 3.9032e-04 - val_loss: 0.0277 - val_mean_squared_error: 0.0277 - val_accuracy: 0.0000e+00\n",
      "Epoch 154/200\n",
      "257/257 [==============================] - 5s 18ms/step - loss: 1.0097e-06 - mean_squared_error: 1.0097e-06 - accuracy: 3.9032e-04 - val_loss: 0.0294 - val_mean_squared_error: 0.0294 - val_accuracy: 0.0000e+00\n",
      "Epoch 155/200\n",
      "257/257 [==============================] - 4s 15ms/step - loss: 1.3473e-06 - mean_squared_error: 1.3473e-06 - accuracy: 3.9032e-04 - val_loss: 0.0288 - val_mean_squared_error: 0.0288 - val_accuracy: 0.0000e+00\n",
      "Epoch 156/200\n",
      "257/257 [==============================] - 4s 17ms/step - loss: 2.1766e-06 - mean_squared_error: 2.1766e-06 - accuracy: 3.9032e-04 - val_loss: 0.0274 - val_mean_squared_error: 0.0274 - val_accuracy: 0.0000e+00\n",
      "Epoch 157/200\n",
      "257/257 [==============================] - 5s 21ms/step - loss: 1.2563e-06 - mean_squared_error: 1.2563e-06 - accuracy: 3.9032e-04 - val_loss: 0.0310 - val_mean_squared_error: 0.0310 - val_accuracy: 0.0000e+00\n",
      "Epoch 158/200\n",
      "257/257 [==============================] - 6s 25ms/step - loss: 1.5712e-06 - mean_squared_error: 1.5712e-06 - accuracy: 3.9032e-04 - val_loss: 0.0288 - val_mean_squared_error: 0.0288 - val_accuracy: 0.0000e+00\n",
      "Epoch 159/200\n",
      "257/257 [==============================] - 5s 18ms/step - loss: 2.0324e-06 - mean_squared_error: 2.0324e-06 - accuracy: 3.9032e-04 - val_loss: 0.0260 - val_mean_squared_error: 0.0260 - val_accuracy: 0.0000e+00\n",
      "Epoch 160/200\n",
      "257/257 [==============================] - 5s 19ms/step - loss: 1.8743e-06 - mean_squared_error: 1.8743e-06 - accuracy: 3.9032e-04 - val_loss: 0.0290 - val_mean_squared_error: 0.0290 - val_accuracy: 0.0000e+00\n",
      "Epoch 161/200\n",
      "257/257 [==============================] - 4s 16ms/step - loss: 2.4926e-06 - mean_squared_error: 2.4926e-06 - accuracy: 3.9032e-04 - val_loss: 0.0307 - val_mean_squared_error: 0.0307 - val_accuracy: 0.0000e+00\n",
      "Epoch 162/200\n",
      "257/257 [==============================] - 4s 17ms/step - loss: 2.4034e-06 - mean_squared_error: 2.4034e-06 - accuracy: 3.9032e-04 - val_loss: 0.0331 - val_mean_squared_error: 0.0331 - val_accuracy: 0.0000e+00\n",
      "Epoch 163/200\n",
      "257/257 [==============================] - 4s 15ms/step - loss: 2.1308e-06 - mean_squared_error: 2.1308e-06 - accuracy: 3.9032e-04 - val_loss: 0.0314 - val_mean_squared_error: 0.0314 - val_accuracy: 0.0000e+00\n",
      "Epoch 164/200\n",
      "257/257 [==============================] - 4s 16ms/step - loss: 1.4361e-06 - mean_squared_error: 1.4361e-06 - accuracy: 3.9032e-04 - val_loss: 0.0304 - val_mean_squared_error: 0.0304 - val_accuracy: 0.0000e+00\n",
      "Epoch 165/200\n",
      "257/257 [==============================] - 6s 22ms/step - loss: 1.4475e-06 - mean_squared_error: 1.4475e-06 - accuracy: 3.9032e-04 - val_loss: 0.0301 - val_mean_squared_error: 0.0301 - val_accuracy: 0.0000e+00\n",
      "Epoch 166/200\n",
      "257/257 [==============================] - 5s 19ms/step - loss: 1.4317e-06 - mean_squared_error: 1.4317e-06 - accuracy: 3.9032e-04 - val_loss: 0.0295 - val_mean_squared_error: 0.0295 - val_accuracy: 0.0000e+00\n",
      "Epoch 167/200\n",
      "257/257 [==============================] - 7s 27ms/step - loss: 2.4672e-06 - mean_squared_error: 2.4672e-06 - accuracy: 3.9032e-04 - val_loss: 0.0293 - val_mean_squared_error: 0.0293 - val_accuracy: 0.0000e+00\n",
      "Epoch 168/200\n",
      "257/257 [==============================] - 5s 21ms/step - loss: 1.4773e-06 - mean_squared_error: 1.4773e-06 - accuracy: 3.9032e-04 - val_loss: 0.0282 - val_mean_squared_error: 0.0282 - val_accuracy: 0.0000e+00\n",
      "Epoch 169/200\n",
      "257/257 [==============================] - 6s 22ms/step - loss: 1.7105e-06 - mean_squared_error: 1.7105e-06 - accuracy: 3.9032e-04 - val_loss: 0.0261 - val_mean_squared_error: 0.0261 - val_accuracy: 0.0000e+00\n",
      "Epoch 170/200\n",
      "257/257 [==============================] - 6s 24ms/step - loss: 1.8072e-06 - mean_squared_error: 1.8072e-06 - accuracy: 3.9032e-04 - val_loss: 0.0251 - val_mean_squared_error: 0.0251 - val_accuracy: 0.0000e+00\n",
      "Epoch 171/200\n",
      "257/257 [==============================] - 5s 21ms/step - loss: 2.4681e-06 - mean_squared_error: 2.4681e-06 - accuracy: 3.9032e-04 - val_loss: 0.0295 - val_mean_squared_error: 0.0295 - val_accuracy: 0.0000e+00\n",
      "Epoch 172/200\n",
      "257/257 [==============================] - 6s 24ms/step - loss: 1.5531e-06 - mean_squared_error: 1.5531e-06 - accuracy: 3.9032e-04 - val_loss: 0.0318 - val_mean_squared_error: 0.0318 - val_accuracy: 0.0000e+00\n",
      "Epoch 173/200\n",
      "257/257 [==============================] - 4s 14ms/step - loss: 1.7574e-06 - mean_squared_error: 1.7574e-06 - accuracy: 3.9032e-04 - val_loss: 0.0314 - val_mean_squared_error: 0.0314 - val_accuracy: 0.0000e+00\n",
      "Epoch 174/200\n",
      "257/257 [==============================] - 5s 18ms/step - loss: 1.3608e-06 - mean_squared_error: 1.3608e-06 - accuracy: 3.9032e-04 - val_loss: 0.0311 - val_mean_squared_error: 0.0311 - val_accuracy: 0.0000e+00\n",
      "Epoch 175/200\n",
      "257/257 [==============================] - 4s 17ms/step - loss: 1.6892e-06 - mean_squared_error: 1.6892e-06 - accuracy: 3.9032e-04 - val_loss: 0.0278 - val_mean_squared_error: 0.0278 - val_accuracy: 0.0000e+00\n",
      "Epoch 176/200\n",
      "257/257 [==============================] - 3s 13ms/step - loss: 1.6848e-06 - mean_squared_error: 1.6848e-06 - accuracy: 3.9032e-04 - val_loss: 0.0289 - val_mean_squared_error: 0.0289 - val_accuracy: 0.0000e+00\n",
      "Epoch 177/200\n",
      "257/257 [==============================] - 4s 14ms/step - loss: 1.7392e-06 - mean_squared_error: 1.7392e-06 - accuracy: 3.9032e-04 - val_loss: 0.0288 - val_mean_squared_error: 0.0288 - val_accuracy: 0.0000e+00\n",
      "Epoch 178/200\n",
      "257/257 [==============================] - 5s 18ms/step - loss: 1.3641e-06 - mean_squared_error: 1.3641e-06 - accuracy: 3.9032e-04 - val_loss: 0.0309 - val_mean_squared_error: 0.0309 - val_accuracy: 0.0000e+00\n",
      "Epoch 179/200\n",
      "257/257 [==============================] - 4s 15ms/step - loss: 1.6308e-06 - mean_squared_error: 1.6308e-06 - accuracy: 3.9032e-04 - val_loss: 0.0292 - val_mean_squared_error: 0.0292 - val_accuracy: 0.0000e+00\n",
      "Epoch 180/200\n",
      "257/257 [==============================] - 3s 12ms/step - loss: 2.0152e-06 - mean_squared_error: 2.0152e-06 - accuracy: 3.9032e-04 - val_loss: 0.0284 - val_mean_squared_error: 0.0284 - val_accuracy: 0.0000e+00\n",
      "Epoch 181/200\n",
      "257/257 [==============================] - 3s 12ms/step - loss: 2.2461e-06 - mean_squared_error: 2.2461e-06 - accuracy: 3.9032e-04 - val_loss: 0.0295 - val_mean_squared_error: 0.0295 - val_accuracy: 0.0000e+00\n",
      "Epoch 182/200\n",
      "257/257 [==============================] - 3s 12ms/step - loss: 1.1817e-06 - mean_squared_error: 1.1817e-06 - accuracy: 3.9032e-04 - val_loss: 0.0311 - val_mean_squared_error: 0.0311 - val_accuracy: 0.0000e+00\n",
      "Epoch 183/200\n",
      "257/257 [==============================] - 5s 21ms/step - loss: 1.5522e-06 - mean_squared_error: 1.5522e-06 - accuracy: 3.9032e-04 - val_loss: 0.0281 - val_mean_squared_error: 0.0281 - val_accuracy: 0.0000e+00\n",
      "Epoch 184/200\n",
      "257/257 [==============================] - 5s 20ms/step - loss: 1.6772e-06 - mean_squared_error: 1.6772e-06 - accuracy: 3.9032e-04 - val_loss: 0.0317 - val_mean_squared_error: 0.0317 - val_accuracy: 0.0000e+00\n",
      "Epoch 185/200\n",
      "257/257 [==============================] - 4s 16ms/step - loss: 1.7317e-06 - mean_squared_error: 1.7317e-06 - accuracy: 3.9032e-04 - val_loss: 0.0322 - val_mean_squared_error: 0.0322 - val_accuracy: 0.0000e+00\n",
      "Epoch 186/200\n",
      "257/257 [==============================] - 4s 16ms/step - loss: 1.5096e-06 - mean_squared_error: 1.5096e-06 - accuracy: 3.9032e-04 - val_loss: 0.0323 - val_mean_squared_error: 0.0323 - val_accuracy: 0.0000e+00\n",
      "Epoch 187/200\n",
      "257/257 [==============================] - 5s 18ms/step - loss: 2.3191e-06 - mean_squared_error: 2.3191e-06 - accuracy: 3.9032e-04 - val_loss: 0.0283 - val_mean_squared_error: 0.0283 - val_accuracy: 0.0000e+00\n",
      "Epoch 188/200\n",
      "257/257 [==============================] - 4s 16ms/step - loss: 1.6038e-06 - mean_squared_error: 1.6038e-06 - accuracy: 3.9032e-04 - val_loss: 0.0330 - val_mean_squared_error: 0.0330 - val_accuracy: 0.0000e+00\n",
      "Epoch 189/200\n",
      "257/257 [==============================] - 5s 18ms/step - loss: 1.6197e-06 - mean_squared_error: 1.6197e-06 - accuracy: 3.9032e-04 - val_loss: 0.0326 - val_mean_squared_error: 0.0326 - val_accuracy: 0.0000e+00\n",
      "Epoch 190/200\n",
      "257/257 [==============================] - 4s 17ms/step - loss: 1.4768e-06 - mean_squared_error: 1.4768e-06 - accuracy: 3.9032e-04 - val_loss: 0.0271 - val_mean_squared_error: 0.0271 - val_accuracy: 0.0000e+00\n",
      "Epoch 191/200\n",
      "257/257 [==============================] - 4s 14ms/step - loss: 1.3914e-06 - mean_squared_error: 1.3914e-06 - accuracy: 3.9032e-04 - val_loss: 0.0295 - val_mean_squared_error: 0.0295 - val_accuracy: 0.0000e+00\n",
      "Epoch 192/200\n",
      "257/257 [==============================] - 4s 15ms/step - loss: 2.4377e-06 - mean_squared_error: 2.4377e-06 - accuracy: 3.9032e-04 - val_loss: 0.0297 - val_mean_squared_error: 0.0297 - val_accuracy: 0.0000e+00\n",
      "Epoch 193/200\n",
      "257/257 [==============================] - 4s 16ms/step - loss: 2.3412e-06 - mean_squared_error: 2.3412e-06 - accuracy: 3.9032e-04 - val_loss: 0.0285 - val_mean_squared_error: 0.0285 - val_accuracy: 0.0000e+00\n",
      "Epoch 194/200\n",
      "257/257 [==============================] - 4s 15ms/step - loss: 1.4705e-06 - mean_squared_error: 1.4705e-06 - accuracy: 3.9032e-04 - val_loss: 0.0270 - val_mean_squared_error: 0.0270 - val_accuracy: 0.0000e+00\n",
      "Epoch 195/200\n",
      "257/257 [==============================] - 4s 14ms/step - loss: 2.4363e-06 - mean_squared_error: 2.4363e-06 - accuracy: 3.9032e-04 - val_loss: 0.0305 - val_mean_squared_error: 0.0305 - val_accuracy: 0.0000e+00\n",
      "Epoch 196/200\n",
      "257/257 [==============================] - 4s 14ms/step - loss: 1.2592e-06 - mean_squared_error: 1.2592e-06 - accuracy: 3.9032e-04 - val_loss: 0.0275 - val_mean_squared_error: 0.0275 - val_accuracy: 0.0000e+00\n",
      "Epoch 197/200\n",
      "257/257 [==============================] - 4s 14ms/step - loss: 1.5823e-06 - mean_squared_error: 1.5823e-06 - accuracy: 3.9032e-04 - val_loss: 0.0440 - val_mean_squared_error: 0.0440 - val_accuracy: 0.0000e+00\n",
      "Epoch 198/200\n",
      "257/257 [==============================] - 4s 17ms/step - loss: 2.3412e-06 - mean_squared_error: 2.3412e-06 - accuracy: 3.9032e-04 - val_loss: 0.0286 - val_mean_squared_error: 0.0286 - val_accuracy: 0.0000e+00\n",
      "Epoch 199/200\n",
      "257/257 [==============================] - 4s 15ms/step - loss: 1.2850e-06 - mean_squared_error: 1.2850e-06 - accuracy: 3.9032e-04 - val_loss: 0.0290 - val_mean_squared_error: 0.0290 - val_accuracy: 0.0000e+00\n",
      "Epoch 200/200\n",
      "257/257 [==============================] - 4s 14ms/step - loss: 1.7766e-06 - mean_squared_error: 1.7766e-06 - accuracy: 3.9032e-04 - val_loss: 0.0297 - val_mean_squared_error: 0.0297 - val_accuracy: 0.0000e+00\n"
     ]
    },
    {
     "data": {
      "text/plain": [
       "<keras.src.callbacks.History at 0x1c9529ca310>"
      ]
     },
     "execution_count": 32,
     "metadata": {},
     "output_type": "execute_result"
    }
   ],
   "source": [
    "model.fit(X_train, y_train, validation_data=(X_test, y_test), epochs=200, batch_size=10, verbose=1)"
   ]
  },
  {
   "cell_type": "markdown",
   "metadata": {},
   "source": [
    "Train and Test Prediction"
   ]
  },
  {
   "cell_type": "code",
   "execution_count": 33,
   "metadata": {},
   "outputs": [
    {
     "name": "stdout",
     "output_type": "stream",
     "text": [
      "81/81 [==============================] - 1s 6ms/step\n",
      "34/34 [==============================] - 0s 7ms/step\n"
     ]
    }
   ],
   "source": [
    "train_pred = model.predict(X_train)\n",
    "test_pred = model.predict(X_test)"
   ]
  },
  {
   "cell_type": "code",
   "execution_count": 34,
   "metadata": {},
   "outputs": [],
   "source": [
    "train_pred = scaler.inverse_transform(train_pred)\n",
    "test_pred = scaler.inverse_transform(test_pred)"
   ]
  },
  {
   "cell_type": "code",
   "execution_count": 35,
   "metadata": {},
   "outputs": [
    {
     "name": "stdout",
     "output_type": "stream",
     "text": [
      "34/34 [==============================] - 0s 6ms/step - loss: 0.0297 - mean_squared_error: 0.0297 - accuracy: 0.0000e+00   \n"
     ]
    },
    {
     "data": {
      "text/plain": [
       "[0.02970428206026554, 0.02970428206026554, 0.0]"
      ]
     },
     "execution_count": 35,
     "metadata": {},
     "output_type": "execute_result"
    }
   ],
   "source": [
    "model.evaluate(X_test, y_test)"
   ]
  },
  {
   "cell_type": "markdown",
   "metadata": {},
   "source": [
    "Mean Square Error of train and test Data"
   ]
  },
  {
   "cell_type": "code",
   "execution_count": 36,
   "metadata": {},
   "outputs": [
    {
     "name": "stdout",
     "output_type": "stream",
     "text": [
      "2.757694153608046\n",
      "26.471845743186268\n"
     ]
    }
   ],
   "source": [
    "train_val = math.sqrt(mse(y_train, train_pred))\n",
    "print(train_val)\n",
    "test_val = math.sqrt(mse(y_test, test_pred))\n",
    "print(test_val)"
   ]
  },
  {
   "cell_type": "markdown",
   "metadata": {},
   "source": [
    "Comparing the actual and predicted data on a graph"
   ]
  },
  {
   "cell_type": "code",
   "execution_count": 37,
   "metadata": {},
   "outputs": [
    {
     "data": {
      "image/png": "[encoded data removed]",
      "text/plain": [
       "<Figure size 640x480 with 1 Axes>"
      ]
     },
     "metadata": {},
     "output_type": "display_data"
    }
   ],
   "source": [
    "look_back=30\n",
    "trainPredictPlot = np.empty_like(df)\n",
    "trainPredictPlot[:, :] = np.nan\n",
    "trainPredictPlot[look_back:len(train_pred)+look_back, :] = train_pred\n",
    "\n",
    "# shift test predictions for plotting\n",
    "testPredictPlot = np.empty_like(df)\n",
    "testPredictPlot[:, :] = np.nan\n",
    "testPredictPlot[len(train_pred)+(look_back*2)+1:len(df)-1, :] = test_pred\n",
    "\n",
    "# plot baseline and predictions\n",
    "plt.plot(scaler.inverse_transform(df))\n",
    "plt.plot(trainPredictPlot)\n",
    "plt.plot(testPredictPlot)\n",
    "plt.show()"
   ]
  },
  {
   "cell_type": "code",
   "execution_count": 38,
   "metadata": {},
   "outputs": [
    {
     "name": "stderr",
     "output_type": "stream",
     "text": [
      "c:\\Users\\HomePC\\AppData\\Local\\Programs\\Python\\Python311\\Lib\\site-packages\\keras\\src\\engine\\training.py:3103: UserWarning: You are saving your model as an HDF5 file via `model.save()`. This file format is considered legacy. We recommend using instead the native Keras format, e.g. `model.save('my_model.keras')`.\n",
      "  saving_api.save_model(\n"
     ]
    },
    {
     "ename": "PermissionDeniedError",
     "evalue": "Failed to create a directory: C:/Users/Home; Permission denied",
     "output_type": "error",
     "traceback": [
      "\u001b[1;31m---------------------------------------------------------------------------\u001b[0m",
      "\u001b[1;31mPermissionDeniedError\u001b[0m                     Traceback (most recent call last)",
      "Cell \u001b[1;32mIn[38], line 1\u001b[0m\n\u001b[1;32m----> 1\u001b[0m \u001b[43mmodel\u001b[49m\u001b[38;5;241;43m.\u001b[39;49m\u001b[43msave\u001b[49m\u001b[43m(\u001b[49m\u001b[38;5;124;43m'\u001b[39;49m\u001b[38;5;124;43mC:/Users/Home/Desktop/i_hate_this/StockPricePrediction/artifacts/models/model.h5\u001b[39;49m\u001b[38;5;124;43m'\u001b[39;49m\u001b[43m)\u001b[49m\n\u001b[0;32m      2\u001b[0m model\u001b[38;5;241m.\u001b[39msave(\u001b[38;5;124m'\u001b[39m\u001b[38;5;124mmodel.h5\u001b[39m\u001b[38;5;124m'\u001b[39m)\n",
      "File \u001b[1;32mc:\\Users\\HomePC\\AppData\\Local\\Programs\\Python\\Python311\\Lib\\site-packages\\keras\\src\\utils\\traceback_utils.py:70\u001b[0m, in \u001b[0;36mfilter_traceback.<locals>.error_handler\u001b[1;34m(*args, **kwargs)\u001b[0m\n\u001b[0;32m     67\u001b[0m     filtered_tb \u001b[38;5;241m=\u001b[39m _process_traceback_frames(e\u001b[38;5;241m.\u001b[39m__traceback__)\n\u001b[0;32m     68\u001b[0m     \u001b[38;5;66;03m# To get the full stack trace, call:\u001b[39;00m\n\u001b[0;32m     69\u001b[0m     \u001b[38;5;66;03m# `tf.debugging.disable_traceback_filtering()`\u001b[39;00m\n\u001b[1;32m---> 70\u001b[0m     \u001b[38;5;28;01mraise\u001b[39;00m e\u001b[38;5;241m.\u001b[39mwith_traceback(filtered_tb) \u001b[38;5;28;01mfrom\u001b[39;00m \u001b[38;5;28;01mNone\u001b[39;00m\n\u001b[0;32m     71\u001b[0m \u001b[38;5;28;01mfinally\u001b[39;00m:\n\u001b[0;32m     72\u001b[0m     \u001b[38;5;28;01mdel\u001b[39;00m filtered_tb\n",
      "File \u001b[1;32mc:\\Users\\HomePC\\AppData\\Local\\Programs\\Python\\Python311\\Lib\\site-packages\\tensorflow\\python\\lib\\io\\file_io.py:513\u001b[0m, in \u001b[0;36mrecursive_create_dir_v2\u001b[1;34m(path)\u001b[0m\n\u001b[0;32m    501\u001b[0m \u001b[38;5;129m@tf_export\u001b[39m(\u001b[38;5;124m\"\u001b[39m\u001b[38;5;124mio.gfile.makedirs\u001b[39m\u001b[38;5;124m\"\u001b[39m)\n\u001b[0;32m    502\u001b[0m \u001b[38;5;28;01mdef\u001b[39;00m \u001b[38;5;21mrecursive_create_dir_v2\u001b[39m(path):\n\u001b[0;32m    503\u001b[0m \u001b[38;5;250m  \u001b[39m\u001b[38;5;124;03m\"\"\"Creates a directory and all parent/intermediate directories.\u001b[39;00m\n\u001b[0;32m    504\u001b[0m \n\u001b[0;32m    505\u001b[0m \u001b[38;5;124;03m  It succeeds if path already exists and is writable.\u001b[39;00m\n\u001b[1;32m   (...)\u001b[0m\n\u001b[0;32m    511\u001b[0m \u001b[38;5;124;03m    errors.OpError: If the operation fails.\u001b[39;00m\n\u001b[0;32m    512\u001b[0m \u001b[38;5;124;03m  \"\"\"\u001b[39;00m\n\u001b[1;32m--> 513\u001b[0m   \u001b[43m_pywrap_file_io\u001b[49m\u001b[38;5;241;43m.\u001b[39;49m\u001b[43mRecursivelyCreateDir\u001b[49m\u001b[43m(\u001b[49m\u001b[43mcompat\u001b[49m\u001b[38;5;241;43m.\u001b[39;49m\u001b[43mpath_to_bytes\u001b[49m\u001b[43m(\u001b[49m\u001b[43mpath\u001b[49m\u001b[43m)\u001b[49m\u001b[43m)\u001b[49m\n",
      "\u001b[1;31mPermissionDeniedError\u001b[0m: Failed to create a directory: C:/Users/Home; Permission denied"
     ]
    }
   ],
   "source": [
    "model.save('C:/Users/Home/Desktop/i_hate_this/StockPricePrediction/artifacts/models/model.h5')\n",
    "model.save('model.h5')"
   ]
  },
  {
   "cell_type": "markdown",
   "metadata": {},
   "source": [
    "Hyperparameter Tuning"
   ]
  },
  {
   "cell_type": "code",
   "execution_count": 39,
   "metadata": {},
   "outputs": [],
   "source": [
    "def build_model(hp):\n",
    "    model = Sequential()\n",
    "    model.add(layers.Input((30, 1)),)\n",
    "    model.add(layers.LSTM(64))\n",
    "    model.add(layers.Dense(32, activation='relu'))\n",
    "    model.add(layers.Dense(1, activation='linear'))\n",
    "\n",
    "    learning_rate = hp.Choice('learning_rate',  values=[1e-2, 1e-3, 1e-4])\n",
    "\n",
    "    optimizers = hp.Choice('optimizer', values=['Adagrad', 'Adadelta', 'Adadelta', 'Rmsprop'])\n",
    "\n",
    "    model.compile(optimizer=Adam(learning_rate=learning_rate), metrics=['mean_squared_error', 'accuracy'], loss='mse')\n",
    "    \n",
    "    return model"
   ]
  },
  {
   "cell_type": "code",
   "execution_count": 40,
   "metadata": {},
   "outputs": [],
   "source": [
    "tuner = kt.RandomSearch(build_model,\n",
    "                        objective='val_loss',\n",
    "                        max_trials = 5,\n",
    "                        directory='mydir')"
   ]
  },
  {
   "cell_type": "code",
   "execution_count": 41,
   "metadata": {},
   "outputs": [
    {
     "name": "stdout",
     "output_type": "stream",
     "text": [
      "Trial 5 Complete [00h 00m 11s]\n",
      "val_loss: 0.018853677436709404\n",
      "\n",
      "Best val_loss So Far: 0.0012568988604471087\n",
      "Total elapsed time: 00h 01m 21s\n",
      "INFO:tensorflow:Oracle triggered exit\n"
     ]
    }
   ],
   "source": [
    "tuner.search(X_train, y_train, epochs=5, validation_data=(X_test, y_test))"
   ]
  },
  {
   "cell_type": "code",
   "execution_count": 42,
   "metadata": {},
   "outputs": [
    {
     "data": {
      "text/plain": [
       "{'learning_rate': 0.001, 'optimizer': 'Adadelta'}"
      ]
     },
     "execution_count": 42,
     "metadata": {},
     "output_type": "execute_result"
    }
   ],
   "source": [
    "tuner.get_best_hyperparameters()[0].values"
   ]
  },
  {
   "cell_type": "markdown",
   "metadata": {},
   "source": [
    "Training on new parameters after hyperparameter tuning"
   ]
  },
  {
   "cell_type": "code",
   "execution_count": 43,
   "metadata": {},
   "outputs": [
    {
     "name": "stdout",
     "output_type": "stream",
     "text": [
      "WARNING:tensorflow:From c:\\Users\\HomePC\\AppData\\Local\\Programs\\Python\\Python311\\Lib\\site-packages\\keras\\src\\saving\\legacy\\save.py:538: The name tf.train.NewCheckpointReader is deprecated. Please use tf.compat.v1.train.NewCheckpointReader instead.\n",
      "\n"
     ]
    }
   ],
   "source": [
    "tuned_model = tuner.get_best_models(num_models=1)[0]"
   ]
  },
  {
   "cell_type": "code",
   "execution_count": 44,
   "metadata": {},
   "outputs": [
    {
     "name": "stdout",
     "output_type": "stream",
     "text": [
      "Model: \"sequential\"\n",
      "_________________________________________________________________\n",
      " Layer (type)                Output Shape              Param #   \n",
      "=================================================================\n",
      " lstm (LSTM)                 (None, 64)                16896     \n",
      "                                                                 \n",
      " dense (Dense)               (None, 32)                2080      \n",
      "                                                                 \n",
      " dense_1 (Dense)             (None, 1)                 33        \n",
      "                                                                 \n",
      "=================================================================\n",
      "Total params: 19009 (74.25 KB)\n",
      "Trainable params: 19009 (74.25 KB)\n",
      "Non-trainable params: 0 (0.00 Byte)\n",
      "_________________________________________________________________\n"
     ]
    }
   ],
   "source": [
    "tuned_model.summary()"
   ]
  },
  {
   "cell_type": "code",
   "execution_count": 45,
   "metadata": {},
   "outputs": [
    {
     "name": "stdout",
     "output_type": "stream",
     "text": [
      "Epoch 7/200\n",
      "257/257 [==============================] - 8s 17ms/step - loss: 2.9931e-06 - mean_squared_error: 2.9931e-06 - accuracy: 3.9032e-04 - val_loss: 0.0273 - val_mean_squared_error: 0.0273 - val_accuracy: 0.0000e+00\n",
      "Epoch 8/200\n",
      "257/257 [==============================] - 4s 15ms/step - loss: 1.6882e-05 - mean_squared_error: 1.6882e-05 - accuracy: 3.9032e-04 - val_loss: 0.0341 - val_mean_squared_error: 0.0341 - val_accuracy: 0.0000e+00\n",
      "Epoch 9/200\n",
      "257/257 [==============================] - 4s 15ms/step - loss: 3.1433e-05 - mean_squared_error: 3.1433e-05 - accuracy: 3.9032e-04 - val_loss: 0.0498 - val_mean_squared_error: 0.0498 - val_accuracy: 0.0000e+00\n",
      "Epoch 10/200\n",
      "257/257 [==============================] - 4s 15ms/step - loss: 3.1218e-05 - mean_squared_error: 3.1218e-05 - accuracy: 3.9032e-04 - val_loss: 0.0544 - val_mean_squared_error: 0.0544 - val_accuracy: 0.0000e+00\n",
      "Epoch 11/200\n",
      "257/257 [==============================] - 3s 12ms/step - loss: 5.1213e-05 - mean_squared_error: 5.1213e-05 - accuracy: 3.9032e-04 - val_loss: 0.0516 - val_mean_squared_error: 0.0516 - val_accuracy: 0.0000e+00\n",
      "Epoch 12/200\n",
      "257/257 [==============================] - 3s 14ms/step - loss: 3.6868e-05 - mean_squared_error: 3.6868e-05 - accuracy: 3.9032e-04 - val_loss: 0.0655 - val_mean_squared_error: 0.0655 - val_accuracy: 0.0000e+00\n",
      "Epoch 13/200\n",
      "257/257 [==============================] - 4s 14ms/step - loss: 3.1651e-05 - mean_squared_error: 3.1651e-05 - accuracy: 3.9032e-04 - val_loss: 0.0712 - val_mean_squared_error: 0.0712 - val_accuracy: 0.0000e+00\n",
      "Epoch 14/200\n",
      "257/257 [==============================] - 3s 12ms/step - loss: 5.6022e-05 - mean_squared_error: 5.6022e-05 - accuracy: 3.9032e-04 - val_loss: 0.0753 - val_mean_squared_error: 0.0753 - val_accuracy: 0.0000e+00\n",
      "Epoch 15/200\n",
      "257/257 [==============================] - 5s 19ms/step - loss: 5.9707e-05 - mean_squared_error: 5.9707e-05 - accuracy: 3.9032e-04 - val_loss: 0.0847 - val_mean_squared_error: 0.0847 - val_accuracy: 0.0000e+00\n",
      "Epoch 16/200\n",
      "257/257 [==============================] - 4s 17ms/step - loss: 7.6939e-05 - mean_squared_error: 7.6939e-05 - accuracy: 3.9032e-04 - val_loss: 0.0817 - val_mean_squared_error: 0.0817 - val_accuracy: 0.0000e+00\n",
      "Epoch 17/200\n",
      "257/257 [==============================] - 5s 18ms/step - loss: 8.6956e-05 - mean_squared_error: 8.6956e-05 - accuracy: 3.9032e-04 - val_loss: 0.0825 - val_mean_squared_error: 0.0825 - val_accuracy: 0.0000e+00\n",
      "Epoch 18/200\n",
      "257/257 [==============================] - 3s 13ms/step - loss: 8.2423e-05 - mean_squared_error: 8.2423e-05 - accuracy: 3.9032e-04 - val_loss: 0.0852 - val_mean_squared_error: 0.0852 - val_accuracy: 0.0000e+00\n",
      "Epoch 19/200\n",
      "257/257 [==============================] - 3s 13ms/step - loss: 1.0070e-04 - mean_squared_error: 1.0070e-04 - accuracy: 3.9032e-04 - val_loss: 0.0868 - val_mean_squared_error: 0.0868 - val_accuracy: 0.0000e+00\n",
      "Epoch 20/200\n",
      "257/257 [==============================] - 4s 16ms/step - loss: 9.6253e-05 - mean_squared_error: 9.6253e-05 - accuracy: 3.9032e-04 - val_loss: 0.0870 - val_mean_squared_error: 0.0870 - val_accuracy: 0.0000e+00\n",
      "Epoch 21/200\n",
      "257/257 [==============================] - 4s 16ms/step - loss: 9.6234e-05 - mean_squared_error: 9.6234e-05 - accuracy: 3.9032e-04 - val_loss: 0.0871 - val_mean_squared_error: 0.0871 - val_accuracy: 0.0000e+00\n",
      "Epoch 22/200\n",
      "257/257 [==============================] - 4s 16ms/step - loss: 9.6310e-05 - mean_squared_error: 9.6310e-05 - accuracy: 3.9032e-04 - val_loss: 0.0871 - val_mean_squared_error: 0.0871 - val_accuracy: 0.0000e+00\n",
      "Epoch 23/200\n",
      "257/257 [==============================] - 3s 13ms/step - loss: 9.6417e-05 - mean_squared_error: 9.6417e-05 - accuracy: 3.9032e-04 - val_loss: 0.0872 - val_mean_squared_error: 0.0872 - val_accuracy: 0.0000e+00\n",
      "Epoch 24/200\n",
      "257/257 [==============================] - 3s 13ms/step - loss: 9.6527e-05 - mean_squared_error: 9.6527e-05 - accuracy: 3.9032e-04 - val_loss: 0.0872 - val_mean_squared_error: 0.0872 - val_accuracy: 0.0000e+00\n",
      "Epoch 25/200\n",
      "257/257 [==============================] - 3s 13ms/step - loss: 9.6626e-05 - mean_squared_error: 9.6626e-05 - accuracy: 3.9032e-04 - val_loss: 0.0872 - val_mean_squared_error: 0.0872 - val_accuracy: 0.0000e+00\n",
      "Epoch 26/200\n",
      "257/257 [==============================] - 3s 13ms/step - loss: 9.6713e-05 - mean_squared_error: 9.6713e-05 - accuracy: 3.9032e-04 - val_loss: 0.0873 - val_mean_squared_error: 0.0873 - val_accuracy: 0.0000e+00\n",
      "Epoch 27/200\n",
      "257/257 [==============================] - 3s 12ms/step - loss: 9.6786e-05 - mean_squared_error: 9.6786e-05 - accuracy: 3.9032e-04 - val_loss: 0.0873 - val_mean_squared_error: 0.0873 - val_accuracy: 0.0000e+00\n",
      "Epoch 28/200\n",
      "257/257 [==============================] - 3s 13ms/step - loss: 9.6846e-05 - mean_squared_error: 9.6846e-05 - accuracy: 3.9032e-04 - val_loss: 0.0873 - val_mean_squared_error: 0.0873 - val_accuracy: 0.0000e+00\n",
      "Epoch 29/200\n",
      "257/257 [==============================] - 3s 13ms/step - loss: 9.6896e-05 - mean_squared_error: 9.6896e-05 - accuracy: 3.9032e-04 - val_loss: 0.0873 - val_mean_squared_error: 0.0873 - val_accuracy: 0.0000e+00\n",
      "Epoch 30/200\n",
      "257/257 [==============================] - 3s 13ms/step - loss: 9.6935e-05 - mean_squared_error: 9.6935e-05 - accuracy: 3.9032e-04 - val_loss: 0.0873 - val_mean_squared_error: 0.0873 - val_accuracy: 0.0000e+00\n",
      "Epoch 31/200\n",
      "257/257 [==============================] - 3s 14ms/step - loss: 9.6968e-05 - mean_squared_error: 9.6968e-05 - accuracy: 3.9032e-04 - val_loss: 0.0873 - val_mean_squared_error: 0.0873 - val_accuracy: 0.0000e+00\n",
      "Epoch 32/200\n",
      "257/257 [==============================] - 3s 13ms/step - loss: 9.6993e-05 - mean_squared_error: 9.6993e-05 - accuracy: 3.9032e-04 - val_loss: 0.0873 - val_mean_squared_error: 0.0873 - val_accuracy: 0.0000e+00\n",
      "Epoch 33/200\n",
      "257/257 [==============================] - 3s 13ms/step - loss: 9.7014e-05 - mean_squared_error: 9.7014e-05 - accuracy: 3.9032e-04 - val_loss: 0.0873 - val_mean_squared_error: 0.0873 - val_accuracy: 0.0000e+00\n",
      "Epoch 34/200\n",
      "257/257 [==============================] - 3s 13ms/step - loss: 9.7030e-05 - mean_squared_error: 9.7030e-05 - accuracy: 3.9032e-04 - val_loss: 0.0873 - val_mean_squared_error: 0.0873 - val_accuracy: 0.0000e+00\n",
      "Epoch 35/200\n",
      "257/257 [==============================] - 3s 13ms/step - loss: 9.7043e-05 - mean_squared_error: 9.7043e-05 - accuracy: 3.9032e-04 - val_loss: 0.0873 - val_mean_squared_error: 0.0873 - val_accuracy: 0.0000e+00\n",
      "Epoch 36/200\n",
      "257/257 [==============================] - 3s 13ms/step - loss: 9.7054e-05 - mean_squared_error: 9.7054e-05 - accuracy: 3.9032e-04 - val_loss: 0.0873 - val_mean_squared_error: 0.0873 - val_accuracy: 0.0000e+00\n",
      "Epoch 37/200\n",
      "257/257 [==============================] - 3s 13ms/step - loss: 9.7062e-05 - mean_squared_error: 9.7062e-05 - accuracy: 3.9032e-04 - val_loss: 0.0873 - val_mean_squared_error: 0.0873 - val_accuracy: 0.0000e+00\n",
      "Epoch 38/200\n",
      "257/257 [==============================] - 3s 13ms/step - loss: 9.7069e-05 - mean_squared_error: 9.7069e-05 - accuracy: 3.9032e-04 - val_loss: 0.0873 - val_mean_squared_error: 0.0873 - val_accuracy: 0.0000e+00\n",
      "Epoch 39/200\n",
      "257/257 [==============================] - 3s 13ms/step - loss: 9.7074e-05 - mean_squared_error: 9.7074e-05 - accuracy: 3.9032e-04 - val_loss: 0.0873 - val_mean_squared_error: 0.0873 - val_accuracy: 0.0000e+00\n",
      "Epoch 40/200\n",
      "257/257 [==============================] - 3s 13ms/step - loss: 9.7078e-05 - mean_squared_error: 9.7078e-05 - accuracy: 3.9032e-04 - val_loss: 0.0873 - val_mean_squared_error: 0.0873 - val_accuracy: 0.0000e+00\n",
      "Epoch 41/200\n",
      "257/257 [==============================] - 3s 13ms/step - loss: 9.7081e-05 - mean_squared_error: 9.7081e-05 - accuracy: 3.9032e-04 - val_loss: 0.0873 - val_mean_squared_error: 0.0873 - val_accuracy: 0.0000e+00\n",
      "Epoch 42/200\n",
      "257/257 [==============================] - 3s 13ms/step - loss: 9.7084e-05 - mean_squared_error: 9.7084e-05 - accuracy: 3.9032e-04 - val_loss: 0.0873 - val_mean_squared_error: 0.0873 - val_accuracy: 0.0000e+00\n",
      "Epoch 43/200\n",
      "257/257 [==============================] - 3s 13ms/step - loss: 9.7086e-05 - mean_squared_error: 9.7086e-05 - accuracy: 3.9032e-04 - val_loss: 0.0873 - val_mean_squared_error: 0.0873 - val_accuracy: 0.0000e+00\n",
      "Epoch 44/200\n",
      "257/257 [==============================] - 3s 13ms/step - loss: 9.7087e-05 - mean_squared_error: 9.7087e-05 - accuracy: 3.9032e-04 - val_loss: 0.0873 - val_mean_squared_error: 0.0873 - val_accuracy: 0.0000e+00\n",
      "Epoch 45/200\n",
      "257/257 [==============================] - 3s 12ms/step - loss: 9.7089e-05 - mean_squared_error: 9.7089e-05 - accuracy: 3.9032e-04 - val_loss: 0.0873 - val_mean_squared_error: 0.0873 - val_accuracy: 0.0000e+00\n",
      "Epoch 46/200\n",
      "257/257 [==============================] - 4s 14ms/step - loss: 9.7090e-05 - mean_squared_error: 9.7090e-05 - accuracy: 3.9032e-04 - val_loss: 0.0873 - val_mean_squared_error: 0.0873 - val_accuracy: 0.0000e+00\n",
      "Epoch 47/200\n",
      "257/257 [==============================] - 4s 17ms/step - loss: 9.7091e-05 - mean_squared_error: 9.7091e-05 - accuracy: 3.9032e-04 - val_loss: 0.0873 - val_mean_squared_error: 0.0873 - val_accuracy: 0.0000e+00\n",
      "Epoch 48/200\n",
      "257/257 [==============================] - 5s 18ms/step - loss: 9.7091e-05 - mean_squared_error: 9.7091e-05 - accuracy: 3.9032e-04 - val_loss: 0.0873 - val_mean_squared_error: 0.0873 - val_accuracy: 0.0000e+00\n",
      "Epoch 49/200\n",
      "257/257 [==============================] - 5s 21ms/step - loss: 9.7092e-05 - mean_squared_error: 9.7092e-05 - accuracy: 3.9032e-04 - val_loss: 0.0873 - val_mean_squared_error: 0.0873 - val_accuracy: 0.0000e+00\n",
      "Epoch 50/200\n",
      "257/257 [==============================] - 4s 17ms/step - loss: 9.7092e-05 - mean_squared_error: 9.7092e-05 - accuracy: 3.9032e-04 - val_loss: 0.0873 - val_mean_squared_error: 0.0873 - val_accuracy: 0.0000e+00\n",
      "Epoch 51/200\n",
      "257/257 [==============================] - 4s 16ms/step - loss: 9.7092e-05 - mean_squared_error: 9.7092e-05 - accuracy: 3.9032e-04 - val_loss: 0.0873 - val_mean_squared_error: 0.0873 - val_accuracy: 0.0000e+00\n",
      "Epoch 52/200\n",
      "257/257 [==============================] - 4s 15ms/step - loss: 9.7093e-05 - mean_squared_error: 9.7093e-05 - accuracy: 3.9032e-04 - val_loss: 0.0873 - val_mean_squared_error: 0.0873 - val_accuracy: 0.0000e+00\n",
      "Epoch 53/200\n",
      "257/257 [==============================] - 7s 28ms/step - loss: 9.7093e-05 - mean_squared_error: 9.7093e-05 - accuracy: 3.9032e-04 - val_loss: 0.0873 - val_mean_squared_error: 0.0873 - val_accuracy: 0.0000e+00\n",
      "Epoch 54/200\n",
      "257/257 [==============================] - 6s 25ms/step - loss: 9.7093e-05 - mean_squared_error: 9.7093e-05 - accuracy: 3.9032e-04 - val_loss: 0.0873 - val_mean_squared_error: 0.0873 - val_accuracy: 0.0000e+00\n",
      "Epoch 55/200\n",
      "257/257 [==============================] - 4s 17ms/step - loss: 9.7093e-05 - mean_squared_error: 9.7093e-05 - accuracy: 3.9032e-04 - val_loss: 0.0873 - val_mean_squared_error: 0.0873 - val_accuracy: 0.0000e+00\n",
      "Epoch 56/200\n",
      "257/257 [==============================] - 6s 24ms/step - loss: 9.7093e-05 - mean_squared_error: 9.7093e-05 - accuracy: 3.9032e-04 - val_loss: 0.0873 - val_mean_squared_error: 0.0873 - val_accuracy: 0.0000e+00\n",
      "Epoch 57/200\n",
      "257/257 [==============================] - 6s 22ms/step - loss: 9.7093e-05 - mean_squared_error: 9.7093e-05 - accuracy: 3.9032e-04 - val_loss: 0.0873 - val_mean_squared_error: 0.0873 - val_accuracy: 0.0000e+00\n",
      "Epoch 58/200\n",
      "257/257 [==============================] - 6s 25ms/step - loss: 9.7093e-05 - mean_squared_error: 9.7093e-05 - accuracy: 3.9032e-04 - val_loss: 0.0873 - val_mean_squared_error: 0.0873 - val_accuracy: 0.0000e+00\n",
      "Epoch 59/200\n",
      "257/257 [==============================] - 5s 18ms/step - loss: 9.7093e-05 - mean_squared_error: 9.7093e-05 - accuracy: 3.9032e-04 - val_loss: 0.0873 - val_mean_squared_error: 0.0873 - val_accuracy: 0.0000e+00\n",
      "Epoch 60/200\n",
      "257/257 [==============================] - 6s 22ms/step - loss: 9.7093e-05 - mean_squared_error: 9.7093e-05 - accuracy: 3.9032e-04 - val_loss: 0.0873 - val_mean_squared_error: 0.0873 - val_accuracy: 0.0000e+00\n",
      "Epoch 61/200\n",
      "257/257 [==============================] - 4s 16ms/step - loss: 9.7094e-05 - mean_squared_error: 9.7094e-05 - accuracy: 3.9032e-04 - val_loss: 0.0873 - val_mean_squared_error: 0.0873 - val_accuracy: 0.0000e+00\n",
      "Epoch 62/200\n",
      "257/257 [==============================] - 4s 15ms/step - loss: 9.7094e-05 - mean_squared_error: 9.7094e-05 - accuracy: 3.9032e-04 - val_loss: 0.0873 - val_mean_squared_error: 0.0873 - val_accuracy: 0.0000e+00\n",
      "Epoch 63/200\n",
      "257/257 [==============================] - 5s 21ms/step - loss: 9.7093e-05 - mean_squared_error: 9.7093e-05 - accuracy: 3.9032e-04 - val_loss: 0.0873 - val_mean_squared_error: 0.0873 - val_accuracy: 0.0000e+00\n",
      "Epoch 64/200\n",
      "257/257 [==============================] - 5s 18ms/step - loss: 9.7093e-05 - mean_squared_error: 9.7093e-05 - accuracy: 3.9032e-04 - val_loss: 0.0873 - val_mean_squared_error: 0.0873 - val_accuracy: 0.0000e+00\n",
      "Epoch 65/200\n",
      "257/257 [==============================] - 6s 22ms/step - loss: 9.7094e-05 - mean_squared_error: 9.7094e-05 - accuracy: 3.9032e-04 - val_loss: 0.0873 - val_mean_squared_error: 0.0873 - val_accuracy: 0.0000e+00\n",
      "Epoch 66/200\n",
      "257/257 [==============================] - 4s 15ms/step - loss: 9.7094e-05 - mean_squared_error: 9.7094e-05 - accuracy: 3.9032e-04 - val_loss: 0.0873 - val_mean_squared_error: 0.0873 - val_accuracy: 0.0000e+00\n",
      "Epoch 67/200\n",
      "257/257 [==============================] - 4s 14ms/step - loss: 9.7094e-05 - mean_squared_error: 9.7094e-05 - accuracy: 3.9032e-04 - val_loss: 0.0873 - val_mean_squared_error: 0.0873 - val_accuracy: 0.0000e+00\n",
      "Epoch 68/200\n",
      "257/257 [==============================] - 3s 14ms/step - loss: 9.7094e-05 - mean_squared_error: 9.7094e-05 - accuracy: 3.9032e-04 - val_loss: 0.0873 - val_mean_squared_error: 0.0873 - val_accuracy: 0.0000e+00\n",
      "Epoch 69/200\n",
      "257/257 [==============================] - 3s 13ms/step - loss: 9.7094e-05 - mean_squared_error: 9.7094e-05 - accuracy: 3.9032e-04 - val_loss: 0.0873 - val_mean_squared_error: 0.0873 - val_accuracy: 0.0000e+00\n",
      "Epoch 70/200\n",
      "257/257 [==============================] - 4s 14ms/step - loss: 9.7094e-05 - mean_squared_error: 9.7094e-05 - accuracy: 3.9032e-04 - val_loss: 0.0873 - val_mean_squared_error: 0.0873 - val_accuracy: 0.0000e+00\n",
      "Epoch 71/200\n",
      "257/257 [==============================] - 5s 19ms/step - loss: 9.7094e-05 - mean_squared_error: 9.7094e-05 - accuracy: 3.9032e-04 - val_loss: 0.0873 - val_mean_squared_error: 0.0873 - val_accuracy: 0.0000e+00\n",
      "Epoch 72/200\n",
      "257/257 [==============================] - 5s 18ms/step - loss: 9.7094e-05 - mean_squared_error: 9.7094e-05 - accuracy: 3.9032e-04 - val_loss: 0.0873 - val_mean_squared_error: 0.0873 - val_accuracy: 0.0000e+00\n",
      "Epoch 73/200\n",
      "257/257 [==============================] - 5s 18ms/step - loss: 9.7094e-05 - mean_squared_error: 9.7094e-05 - accuracy: 3.9032e-04 - val_loss: 0.0873 - val_mean_squared_error: 0.0873 - val_accuracy: 0.0000e+00\n",
      "Epoch 74/200\n",
      "257/257 [==============================] - 4s 14ms/step - loss: 9.7094e-05 - mean_squared_error: 9.7094e-05 - accuracy: 3.9032e-04 - val_loss: 0.0873 - val_mean_squared_error: 0.0873 - val_accuracy: 0.0000e+00\n",
      "Epoch 75/200\n",
      "257/257 [==============================] - 4s 14ms/step - loss: 9.7094e-05 - mean_squared_error: 9.7094e-05 - accuracy: 3.9032e-04 - val_loss: 0.0873 - val_mean_squared_error: 0.0873 - val_accuracy: 0.0000e+00\n",
      "Epoch 76/200\n",
      "257/257 [==============================] - 3s 13ms/step - loss: 9.7094e-05 - mean_squared_error: 9.7094e-05 - accuracy: 3.9032e-04 - val_loss: 0.0873 - val_mean_squared_error: 0.0873 - val_accuracy: 0.0000e+00\n",
      "Epoch 77/200\n",
      "257/257 [==============================] - 3s 13ms/step - loss: 9.7094e-05 - mean_squared_error: 9.7094e-05 - accuracy: 3.9032e-04 - val_loss: 0.0873 - val_mean_squared_error: 0.0873 - val_accuracy: 0.0000e+00\n",
      "Epoch 78/200\n",
      "257/257 [==============================] - 4s 17ms/step - loss: 9.7094e-05 - mean_squared_error: 9.7094e-05 - accuracy: 3.9032e-04 - val_loss: 0.0873 - val_mean_squared_error: 0.0873 - val_accuracy: 0.0000e+00\n",
      "Epoch 79/200\n",
      "257/257 [==============================] - 3s 14ms/step - loss: 9.7094e-05 - mean_squared_error: 9.7094e-05 - accuracy: 3.9032e-04 - val_loss: 0.0873 - val_mean_squared_error: 0.0873 - val_accuracy: 0.0000e+00\n",
      "Epoch 80/200\n",
      "257/257 [==============================] - 4s 15ms/step - loss: 9.7094e-05 - mean_squared_error: 9.7094e-05 - accuracy: 3.9032e-04 - val_loss: 0.0873 - val_mean_squared_error: 0.0873 - val_accuracy: 0.0000e+00\n",
      "Epoch 81/200\n",
      "257/257 [==============================] - 3s 13ms/step - loss: 9.7094e-05 - mean_squared_error: 9.7094e-05 - accuracy: 3.9032e-04 - val_loss: 0.0873 - val_mean_squared_error: 0.0873 - val_accuracy: 0.0000e+00\n",
      "Epoch 82/200\n",
      "257/257 [==============================] - 4s 14ms/step - loss: 9.7094e-05 - mean_squared_error: 9.7094e-05 - accuracy: 3.9032e-04 - val_loss: 0.0873 - val_mean_squared_error: 0.0873 - val_accuracy: 0.0000e+00\n",
      "Epoch 83/200\n",
      "257/257 [==============================] - 5s 19ms/step - loss: 9.7094e-05 - mean_squared_error: 9.7094e-05 - accuracy: 3.9032e-04 - val_loss: 0.0873 - val_mean_squared_error: 0.0873 - val_accuracy: 0.0000e+00\n",
      "Epoch 84/200\n",
      "257/257 [==============================] - 5s 18ms/step - loss: 9.7094e-05 - mean_squared_error: 9.7094e-05 - accuracy: 3.9032e-04 - val_loss: 0.0873 - val_mean_squared_error: 0.0873 - val_accuracy: 0.0000e+00\n",
      "Epoch 85/200\n",
      "257/257 [==============================] - 4s 16ms/step - loss: 9.7094e-05 - mean_squared_error: 9.7094e-05 - accuracy: 3.9032e-04 - val_loss: 0.0873 - val_mean_squared_error: 0.0873 - val_accuracy: 0.0000e+00\n",
      "Epoch 86/200\n",
      "257/257 [==============================] - 5s 21ms/step - loss: 9.7094e-05 - mean_squared_error: 9.7094e-05 - accuracy: 3.9032e-04 - val_loss: 0.0873 - val_mean_squared_error: 0.0873 - val_accuracy: 0.0000e+00\n",
      "Epoch 87/200\n",
      "257/257 [==============================] - 6s 23ms/step - loss: 9.7094e-05 - mean_squared_error: 9.7094e-05 - accuracy: 3.9032e-04 - val_loss: 0.0873 - val_mean_squared_error: 0.0873 - val_accuracy: 0.0000e+00\n",
      "Epoch 88/200\n",
      "257/257 [==============================] - 4s 16ms/step - loss: 9.7094e-05 - mean_squared_error: 9.7094e-05 - accuracy: 3.9032e-04 - val_loss: 0.0873 - val_mean_squared_error: 0.0873 - val_accuracy: 0.0000e+00\n",
      "Epoch 89/200\n",
      "257/257 [==============================] - 4s 15ms/step - loss: 9.7094e-05 - mean_squared_error: 9.7094e-05 - accuracy: 3.9032e-04 - val_loss: 0.0873 - val_mean_squared_error: 0.0873 - val_accuracy: 0.0000e+00\n",
      "Epoch 90/200\n",
      "257/257 [==============================] - 5s 18ms/step - loss: 9.7094e-05 - mean_squared_error: 9.7094e-05 - accuracy: 3.9032e-04 - val_loss: 0.0873 - val_mean_squared_error: 0.0873 - val_accuracy: 0.0000e+00\n",
      "Epoch 91/200\n",
      "257/257 [==============================] - 5s 19ms/step - loss: 9.7094e-05 - mean_squared_error: 9.7094e-05 - accuracy: 3.9032e-04 - val_loss: 0.0873 - val_mean_squared_error: 0.0873 - val_accuracy: 0.0000e+00\n",
      "Epoch 92/200\n",
      "257/257 [==============================] - 5s 18ms/step - loss: 9.7094e-05 - mean_squared_error: 9.7094e-05 - accuracy: 3.9032e-04 - val_loss: 0.0873 - val_mean_squared_error: 0.0873 - val_accuracy: 0.0000e+00\n",
      "Epoch 93/200\n",
      "257/257 [==============================] - 5s 19ms/step - loss: 9.7094e-05 - mean_squared_error: 9.7094e-05 - accuracy: 3.9032e-04 - val_loss: 0.0873 - val_mean_squared_error: 0.0873 - val_accuracy: 0.0000e+00\n",
      "Epoch 94/200\n",
      "257/257 [==============================] - 5s 19ms/step - loss: 9.7094e-05 - mean_squared_error: 9.7094e-05 - accuracy: 3.9032e-04 - val_loss: 0.0873 - val_mean_squared_error: 0.0873 - val_accuracy: 0.0000e+00\n",
      "Epoch 95/200\n",
      "257/257 [==============================] - 6s 24ms/step - loss: 9.7094e-05 - mean_squared_error: 9.7094e-05 - accuracy: 3.9032e-04 - val_loss: 0.0873 - val_mean_squared_error: 0.0873 - val_accuracy: 0.0000e+00\n",
      "Epoch 96/200\n",
      "257/257 [==============================] - 5s 18ms/step - loss: 9.7094e-05 - mean_squared_error: 9.7094e-05 - accuracy: 3.9032e-04 - val_loss: 0.0873 - val_mean_squared_error: 0.0873 - val_accuracy: 0.0000e+00\n",
      "Epoch 97/200\n",
      "257/257 [==============================] - 4s 16ms/step - loss: 9.7094e-05 - mean_squared_error: 9.7094e-05 - accuracy: 3.9032e-04 - val_loss: 0.0873 - val_mean_squared_error: 0.0873 - val_accuracy: 0.0000e+00\n",
      "Epoch 98/200\n",
      "257/257 [==============================] - 4s 15ms/step - loss: 9.7094e-05 - mean_squared_error: 9.7094e-05 - accuracy: 3.9032e-04 - val_loss: 0.0873 - val_mean_squared_error: 0.0873 - val_accuracy: 0.0000e+00\n",
      "Epoch 99/200\n",
      "257/257 [==============================] - 4s 14ms/step - loss: 9.7094e-05 - mean_squared_error: 9.7094e-05 - accuracy: 3.9032e-04 - val_loss: 0.0873 - val_mean_squared_error: 0.0873 - val_accuracy: 0.0000e+00\n",
      "Epoch 100/200\n",
      "257/257 [==============================] - 4s 14ms/step - loss: 9.7094e-05 - mean_squared_error: 9.7094e-05 - accuracy: 3.9032e-04 - val_loss: 0.0873 - val_mean_squared_error: 0.0873 - val_accuracy: 0.0000e+00\n",
      "Epoch 101/200\n",
      "257/257 [==============================] - 4s 17ms/step - loss: 9.7094e-05 - mean_squared_error: 9.7094e-05 - accuracy: 3.9032e-04 - val_loss: 0.0873 - val_mean_squared_error: 0.0873 - val_accuracy: 0.0000e+00\n",
      "Epoch 102/200\n",
      "257/257 [==============================] - 4s 17ms/step - loss: 9.7094e-05 - mean_squared_error: 9.7094e-05 - accuracy: 3.9032e-04 - val_loss: 0.0873 - val_mean_squared_error: 0.0873 - val_accuracy: 0.0000e+00\n",
      "Epoch 103/200\n",
      "257/257 [==============================] - 4s 16ms/step - loss: 9.7094e-05 - mean_squared_error: 9.7094e-05 - accuracy: 3.9032e-04 - val_loss: 0.0873 - val_mean_squared_error: 0.0873 - val_accuracy: 0.0000e+00\n",
      "Epoch 104/200\n",
      "257/257 [==============================] - 4s 14ms/step - loss: 9.7094e-05 - mean_squared_error: 9.7094e-05 - accuracy: 3.9032e-04 - val_loss: 0.0873 - val_mean_squared_error: 0.0873 - val_accuracy: 0.0000e+00\n",
      "Epoch 105/200\n",
      "257/257 [==============================] - 4s 15ms/step - loss: 9.7094e-05 - mean_squared_error: 9.7094e-05 - accuracy: 3.9032e-04 - val_loss: 0.0873 - val_mean_squared_error: 0.0873 - val_accuracy: 0.0000e+00\n",
      "Epoch 106/200\n",
      "257/257 [==============================] - 4s 16ms/step - loss: 9.7094e-05 - mean_squared_error: 9.7094e-05 - accuracy: 3.9032e-04 - val_loss: 0.0873 - val_mean_squared_error: 0.0873 - val_accuracy: 0.0000e+00\n",
      "Epoch 107/200\n",
      "257/257 [==============================] - 5s 21ms/step - loss: 9.7094e-05 - mean_squared_error: 9.7094e-05 - accuracy: 3.9032e-04 - val_loss: 0.0873 - val_mean_squared_error: 0.0873 - val_accuracy: 0.0000e+00\n",
      "Epoch 108/200\n",
      "257/257 [==============================] - 4s 15ms/step - loss: 9.7094e-05 - mean_squared_error: 9.7094e-05 - accuracy: 3.9032e-04 - val_loss: 0.0873 - val_mean_squared_error: 0.0873 - val_accuracy: 0.0000e+00\n",
      "Epoch 109/200\n",
      "257/257 [==============================] - 4s 15ms/step - loss: 9.7094e-05 - mean_squared_error: 9.7094e-05 - accuracy: 3.9032e-04 - val_loss: 0.0873 - val_mean_squared_error: 0.0873 - val_accuracy: 0.0000e+00\n",
      "Epoch 110/200\n",
      "257/257 [==============================] - 5s 19ms/step - loss: 9.7094e-05 - mean_squared_error: 9.7094e-05 - accuracy: 3.9032e-04 - val_loss: 0.0873 - val_mean_squared_error: 0.0873 - val_accuracy: 0.0000e+00\n",
      "Epoch 111/200\n",
      "257/257 [==============================] - 4s 16ms/step - loss: 9.7094e-05 - mean_squared_error: 9.7094e-05 - accuracy: 3.9032e-04 - val_loss: 0.0873 - val_mean_squared_error: 0.0873 - val_accuracy: 0.0000e+00\n",
      "Epoch 112/200\n",
      "257/257 [==============================] - 4s 14ms/step - loss: 9.7094e-05 - mean_squared_error: 9.7094e-05 - accuracy: 3.9032e-04 - val_loss: 0.0873 - val_mean_squared_error: 0.0873 - val_accuracy: 0.0000e+00\n",
      "Epoch 113/200\n",
      "257/257 [==============================] - 4s 14ms/step - loss: 9.7094e-05 - mean_squared_error: 9.7094e-05 - accuracy: 3.9032e-04 - val_loss: 0.0873 - val_mean_squared_error: 0.0873 - val_accuracy: 0.0000e+00\n",
      "Epoch 114/200\n",
      "257/257 [==============================] - 4s 14ms/step - loss: 9.7094e-05 - mean_squared_error: 9.7094e-05 - accuracy: 3.9032e-04 - val_loss: 0.0873 - val_mean_squared_error: 0.0873 - val_accuracy: 0.0000e+00\n",
      "Epoch 115/200\n",
      "257/257 [==============================] - 4s 15ms/step - loss: 9.7094e-05 - mean_squared_error: 9.7094e-05 - accuracy: 3.9032e-04 - val_loss: 0.0873 - val_mean_squared_error: 0.0873 - val_accuracy: 0.0000e+00\n",
      "Epoch 116/200\n",
      "257/257 [==============================] - 4s 17ms/step - loss: 9.7094e-05 - mean_squared_error: 9.7094e-05 - accuracy: 3.9032e-04 - val_loss: 0.0873 - val_mean_squared_error: 0.0873 - val_accuracy: 0.0000e+00\n",
      "Epoch 117/200\n",
      "257/257 [==============================] - 4s 15ms/step - loss: 9.7094e-05 - mean_squared_error: 9.7094e-05 - accuracy: 3.9032e-04 - val_loss: 0.0873 - val_mean_squared_error: 0.0873 - val_accuracy: 0.0000e+00\n",
      "Epoch 118/200\n",
      "257/257 [==============================] - 4s 15ms/step - loss: 9.7094e-05 - mean_squared_error: 9.7094e-05 - accuracy: 3.9032e-04 - val_loss: 0.0873 - val_mean_squared_error: 0.0873 - val_accuracy: 0.0000e+00\n",
      "Epoch 119/200\n",
      "257/257 [==============================] - 4s 16ms/step - loss: 9.7094e-05 - mean_squared_error: 9.7094e-05 - accuracy: 3.9032e-04 - val_loss: 0.0873 - val_mean_squared_error: 0.0873 - val_accuracy: 0.0000e+00\n",
      "Epoch 120/200\n",
      "257/257 [==============================] - 4s 15ms/step - loss: 9.7094e-05 - mean_squared_error: 9.7094e-05 - accuracy: 3.9032e-04 - val_loss: 0.0873 - val_mean_squared_error: 0.0873 - val_accuracy: 0.0000e+00\n",
      "Epoch 121/200\n",
      "257/257 [==============================] - 4s 15ms/step - loss: 9.7094e-05 - mean_squared_error: 9.7094e-05 - accuracy: 3.9032e-04 - val_loss: 0.0873 - val_mean_squared_error: 0.0873 - val_accuracy: 0.0000e+00\n",
      "Epoch 122/200\n",
      "257/257 [==============================] - 4s 15ms/step - loss: 9.7094e-05 - mean_squared_error: 9.7094e-05 - accuracy: 3.9032e-04 - val_loss: 0.0873 - val_mean_squared_error: 0.0873 - val_accuracy: 0.0000e+00\n",
      "Epoch 123/200\n",
      "257/257 [==============================] - 5s 21ms/step - loss: 9.7094e-05 - mean_squared_error: 9.7094e-05 - accuracy: 3.9032e-04 - val_loss: 0.0873 - val_mean_squared_error: 0.0873 - val_accuracy: 0.0000e+00\n",
      "Epoch 124/200\n",
      "257/257 [==============================] - 4s 15ms/step - loss: 9.7094e-05 - mean_squared_error: 9.7094e-05 - accuracy: 3.9032e-04 - val_loss: 0.0873 - val_mean_squared_error: 0.0873 - val_accuracy: 0.0000e+00\n",
      "Epoch 125/200\n",
      "257/257 [==============================] - 5s 19ms/step - loss: 9.7094e-05 - mean_squared_error: 9.7094e-05 - accuracy: 3.9032e-04 - val_loss: 0.0873 - val_mean_squared_error: 0.0873 - val_accuracy: 0.0000e+00\n",
      "Epoch 126/200\n",
      "257/257 [==============================] - 4s 17ms/step - loss: 9.7094e-05 - mean_squared_error: 9.7094e-05 - accuracy: 3.9032e-04 - val_loss: 0.0873 - val_mean_squared_error: 0.0873 - val_accuracy: 0.0000e+00\n",
      "Epoch 127/200\n",
      "257/257 [==============================] - 4s 17ms/step - loss: 9.7094e-05 - mean_squared_error: 9.7094e-05 - accuracy: 3.9032e-04 - val_loss: 0.0873 - val_mean_squared_error: 0.0873 - val_accuracy: 0.0000e+00\n",
      "Epoch 128/200\n",
      "257/257 [==============================] - 5s 19ms/step - loss: 9.7094e-05 - mean_squared_error: 9.7094e-05 - accuracy: 3.9032e-04 - val_loss: 0.0873 - val_mean_squared_error: 0.0873 - val_accuracy: 0.0000e+00\n",
      "Epoch 129/200\n",
      "257/257 [==============================] - 4s 16ms/step - loss: 9.7094e-05 - mean_squared_error: 9.7094e-05 - accuracy: 3.9032e-04 - val_loss: 0.0873 - val_mean_squared_error: 0.0873 - val_accuracy: 0.0000e+00\n",
      "Epoch 130/200\n",
      "257/257 [==============================] - 4s 17ms/step - loss: 9.7094e-05 - mean_squared_error: 9.7094e-05 - accuracy: 3.9032e-04 - val_loss: 0.0873 - val_mean_squared_error: 0.0873 - val_accuracy: 0.0000e+00\n",
      "Epoch 131/200\n",
      "257/257 [==============================] - 4s 16ms/step - loss: 9.7094e-05 - mean_squared_error: 9.7094e-05 - accuracy: 3.9032e-04 - val_loss: 0.0873 - val_mean_squared_error: 0.0873 - val_accuracy: 0.0000e+00\n",
      "Epoch 132/200\n",
      "257/257 [==============================] - 5s 21ms/step - loss: 9.7094e-05 - mean_squared_error: 9.7094e-05 - accuracy: 3.9032e-04 - val_loss: 0.0873 - val_mean_squared_error: 0.0873 - val_accuracy: 0.0000e+00\n",
      "Epoch 133/200\n",
      "257/257 [==============================] - 5s 17ms/step - loss: 9.7094e-05 - mean_squared_error: 9.7094e-05 - accuracy: 3.9032e-04 - val_loss: 0.0873 - val_mean_squared_error: 0.0873 - val_accuracy: 0.0000e+00\n",
      "Epoch 134/200\n",
      "257/257 [==============================] - 5s 18ms/step - loss: 9.7094e-05 - mean_squared_error: 9.7094e-05 - accuracy: 3.9032e-04 - val_loss: 0.0873 - val_mean_squared_error: 0.0873 - val_accuracy: 0.0000e+00\n",
      "Epoch 135/200\n",
      "257/257 [==============================] - 5s 19ms/step - loss: 9.7094e-05 - mean_squared_error: 9.7094e-05 - accuracy: 3.9032e-04 - val_loss: 0.0873 - val_mean_squared_error: 0.0873 - val_accuracy: 0.0000e+00\n",
      "Epoch 136/200\n",
      "257/257 [==============================] - 4s 16ms/step - loss: 9.7094e-05 - mean_squared_error: 9.7094e-05 - accuracy: 3.9032e-04 - val_loss: 0.0873 - val_mean_squared_error: 0.0873 - val_accuracy: 0.0000e+00\n",
      "Epoch 137/200\n",
      "257/257 [==============================] - 4s 17ms/step - loss: 9.7094e-05 - mean_squared_error: 9.7094e-05 - accuracy: 3.9032e-04 - val_loss: 0.0873 - val_mean_squared_error: 0.0873 - val_accuracy: 0.0000e+00\n",
      "Epoch 138/200\n",
      "257/257 [==============================] - 5s 20ms/step - loss: 9.7094e-05 - mean_squared_error: 9.7094e-05 - accuracy: 3.9032e-04 - val_loss: 0.0873 - val_mean_squared_error: 0.0873 - val_accuracy: 0.0000e+00\n",
      "Epoch 139/200\n",
      "257/257 [==============================] - 6s 22ms/step - loss: 9.7094e-05 - mean_squared_error: 9.7094e-05 - accuracy: 3.9032e-04 - val_loss: 0.0873 - val_mean_squared_error: 0.0873 - val_accuracy: 0.0000e+00\n",
      "Epoch 140/200\n",
      "257/257 [==============================] - 4s 16ms/step - loss: 9.7094e-05 - mean_squared_error: 9.7094e-05 - accuracy: 3.9032e-04 - val_loss: 0.0873 - val_mean_squared_error: 0.0873 - val_accuracy: 0.0000e+00\n",
      "Epoch 141/200\n",
      "257/257 [==============================] - 4s 17ms/step - loss: 9.7094e-05 - mean_squared_error: 9.7094e-05 - accuracy: 3.9032e-04 - val_loss: 0.0873 - val_mean_squared_error: 0.0873 - val_accuracy: 0.0000e+00\n",
      "Epoch 142/200\n",
      "257/257 [==============================] - 5s 18ms/step - loss: 9.7094e-05 - mean_squared_error: 9.7094e-05 - accuracy: 3.9032e-04 - val_loss: 0.0873 - val_mean_squared_error: 0.0873 - val_accuracy: 0.0000e+00\n",
      "Epoch 143/200\n",
      "257/257 [==============================] - 4s 17ms/step - loss: 9.7094e-05 - mean_squared_error: 9.7094e-05 - accuracy: 3.9032e-04 - val_loss: 0.0873 - val_mean_squared_error: 0.0873 - val_accuracy: 0.0000e+00\n",
      "Epoch 144/200\n",
      "257/257 [==============================] - 4s 14ms/step - loss: 9.7094e-05 - mean_squared_error: 9.7094e-05 - accuracy: 3.9032e-04 - val_loss: 0.0873 - val_mean_squared_error: 0.0873 - val_accuracy: 0.0000e+00\n",
      "Epoch 145/200\n",
      "257/257 [==============================] - 4s 17ms/step - loss: 9.7094e-05 - mean_squared_error: 9.7094e-05 - accuracy: 3.9032e-04 - val_loss: 0.0873 - val_mean_squared_error: 0.0873 - val_accuracy: 0.0000e+00\n",
      "Epoch 146/200\n",
      "257/257 [==============================] - 4s 17ms/step - loss: 9.7094e-05 - mean_squared_error: 9.7094e-05 - accuracy: 3.9032e-04 - val_loss: 0.0873 - val_mean_squared_error: 0.0873 - val_accuracy: 0.0000e+00\n",
      "Epoch 147/200\n",
      "257/257 [==============================] - 4s 16ms/step - loss: 9.7094e-05 - mean_squared_error: 9.7094e-05 - accuracy: 3.9032e-04 - val_loss: 0.0873 - val_mean_squared_error: 0.0873 - val_accuracy: 0.0000e+00\n",
      "Epoch 148/200\n",
      "257/257 [==============================] - 4s 14ms/step - loss: 9.7094e-05 - mean_squared_error: 9.7094e-05 - accuracy: 3.9032e-04 - val_loss: 0.0873 - val_mean_squared_error: 0.0873 - val_accuracy: 0.0000e+00\n",
      "Epoch 149/200\n",
      "257/257 [==============================] - 5s 20ms/step - loss: 9.7094e-05 - mean_squared_error: 9.7094e-05 - accuracy: 3.9032e-04 - val_loss: 0.0873 - val_mean_squared_error: 0.0873 - val_accuracy: 0.0000e+00\n",
      "Epoch 150/200\n",
      "257/257 [==============================] - 6s 22ms/step - loss: 9.7094e-05 - mean_squared_error: 9.7094e-05 - accuracy: 3.9032e-04 - val_loss: 0.0873 - val_mean_squared_error: 0.0873 - val_accuracy: 0.0000e+00\n",
      "Epoch 151/200\n",
      "257/257 [==============================] - 5s 19ms/step - loss: 9.7094e-05 - mean_squared_error: 9.7094e-05 - accuracy: 3.9032e-04 - val_loss: 0.0873 - val_mean_squared_error: 0.0873 - val_accuracy: 0.0000e+00\n",
      "Epoch 152/200\n",
      "257/257 [==============================] - 5s 19ms/step - loss: 9.7094e-05 - mean_squared_error: 9.7094e-05 - accuracy: 3.9032e-04 - val_loss: 0.0873 - val_mean_squared_error: 0.0873 - val_accuracy: 0.0000e+00\n",
      "Epoch 153/200\n",
      "257/257 [==============================] - 5s 19ms/step - loss: 9.7094e-05 - mean_squared_error: 9.7094e-05 - accuracy: 3.9032e-04 - val_loss: 0.0873 - val_mean_squared_error: 0.0873 - val_accuracy: 0.0000e+00\n",
      "Epoch 154/200\n",
      "257/257 [==============================] - 4s 16ms/step - loss: 9.7094e-05 - mean_squared_error: 9.7094e-05 - accuracy: 3.9032e-04 - val_loss: 0.0873 - val_mean_squared_error: 0.0873 - val_accuracy: 0.0000e+00\n",
      "Epoch 155/200\n",
      "257/257 [==============================] - 5s 18ms/step - loss: 9.7094e-05 - mean_squared_error: 9.7094e-05 - accuracy: 3.9032e-04 - val_loss: 0.0873 - val_mean_squared_error: 0.0873 - val_accuracy: 0.0000e+00\n",
      "Epoch 156/200\n",
      "257/257 [==============================] - 5s 19ms/step - loss: 9.7094e-05 - mean_squared_error: 9.7094e-05 - accuracy: 3.9032e-04 - val_loss: 0.0873 - val_mean_squared_error: 0.0873 - val_accuracy: 0.0000e+00\n",
      "Epoch 157/200\n",
      "257/257 [==============================] - 5s 19ms/step - loss: 9.7094e-05 - mean_squared_error: 9.7094e-05 - accuracy: 3.9032e-04 - val_loss: 0.0873 - val_mean_squared_error: 0.0873 - val_accuracy: 0.0000e+00\n",
      "Epoch 158/200\n",
      "257/257 [==============================] - 5s 20ms/step - loss: 9.7094e-05 - mean_squared_error: 9.7094e-05 - accuracy: 3.9032e-04 - val_loss: 0.0873 - val_mean_squared_error: 0.0873 - val_accuracy: 0.0000e+00\n",
      "Epoch 159/200\n",
      "257/257 [==============================] - 4s 17ms/step - loss: 9.7094e-05 - mean_squared_error: 9.7094e-05 - accuracy: 3.9032e-04 - val_loss: 0.0873 - val_mean_squared_error: 0.0873 - val_accuracy: 0.0000e+00\n",
      "Epoch 160/200\n",
      "257/257 [==============================] - 4s 17ms/step - loss: 9.7094e-05 - mean_squared_error: 9.7094e-05 - accuracy: 3.9032e-04 - val_loss: 0.0873 - val_mean_squared_error: 0.0873 - val_accuracy: 0.0000e+00\n",
      "Epoch 161/200\n",
      "257/257 [==============================] - 4s 16ms/step - loss: 9.7094e-05 - mean_squared_error: 9.7094e-05 - accuracy: 3.9032e-04 - val_loss: 0.0873 - val_mean_squared_error: 0.0873 - val_accuracy: 0.0000e+00\n",
      "Epoch 162/200\n",
      "257/257 [==============================] - 6s 24ms/step - loss: 9.7094e-05 - mean_squared_error: 9.7094e-05 - accuracy: 3.9032e-04 - val_loss: 0.0873 - val_mean_squared_error: 0.0873 - val_accuracy: 0.0000e+00\n",
      "Epoch 163/200\n",
      "257/257 [==============================] - 5s 20ms/step - loss: 9.7094e-05 - mean_squared_error: 9.7094e-05 - accuracy: 3.9032e-04 - val_loss: 0.0873 - val_mean_squared_error: 0.0873 - val_accuracy: 0.0000e+00\n",
      "Epoch 164/200\n",
      "257/257 [==============================] - 6s 22ms/step - loss: 9.7094e-05 - mean_squared_error: 9.7094e-05 - accuracy: 3.9032e-04 - val_loss: 0.0873 - val_mean_squared_error: 0.0873 - val_accuracy: 0.0000e+00\n",
      "Epoch 165/200\n",
      "257/257 [==============================] - 4s 17ms/step - loss: 9.7094e-05 - mean_squared_error: 9.7094e-05 - accuracy: 3.9032e-04 - val_loss: 0.0873 - val_mean_squared_error: 0.0873 - val_accuracy: 0.0000e+00\n",
      "Epoch 166/200\n",
      "257/257 [==============================] - 4s 15ms/step - loss: 9.7094e-05 - mean_squared_error: 9.7094e-05 - accuracy: 3.9032e-04 - val_loss: 0.0873 - val_mean_squared_error: 0.0873 - val_accuracy: 0.0000e+00\n",
      "Epoch 167/200\n",
      "257/257 [==============================] - 4s 17ms/step - loss: 9.7094e-05 - mean_squared_error: 9.7094e-05 - accuracy: 3.9032e-04 - val_loss: 0.0873 - val_mean_squared_error: 0.0873 - val_accuracy: 0.0000e+00\n",
      "Epoch 168/200\n",
      "257/257 [==============================] - 6s 23ms/step - loss: 9.7094e-05 - mean_squared_error: 9.7094e-05 - accuracy: 3.9032e-04 - val_loss: 0.0873 - val_mean_squared_error: 0.0873 - val_accuracy: 0.0000e+00\n",
      "Epoch 169/200\n",
      "257/257 [==============================] - 6s 25ms/step - loss: 9.7094e-05 - mean_squared_error: 9.7094e-05 - accuracy: 3.9032e-04 - val_loss: 0.0873 - val_mean_squared_error: 0.0873 - val_accuracy: 0.0000e+00\n",
      "Epoch 170/200\n",
      "257/257 [==============================] - 6s 25ms/step - loss: 9.7094e-05 - mean_squared_error: 9.7094e-05 - accuracy: 3.9032e-04 - val_loss: 0.0873 - val_mean_squared_error: 0.0873 - val_accuracy: 0.0000e+00\n",
      "Epoch 171/200\n",
      "257/257 [==============================] - 5s 20ms/step - loss: 9.7094e-05 - mean_squared_error: 9.7094e-05 - accuracy: 3.9032e-04 - val_loss: 0.0873 - val_mean_squared_error: 0.0873 - val_accuracy: 0.0000e+00\n",
      "Epoch 172/200\n",
      "257/257 [==============================] - 5s 20ms/step - loss: 9.7094e-05 - mean_squared_error: 9.7094e-05 - accuracy: 3.9032e-04 - val_loss: 0.0873 - val_mean_squared_error: 0.0873 - val_accuracy: 0.0000e+00\n",
      "Epoch 173/200\n",
      "257/257 [==============================] - 5s 18ms/step - loss: 9.7094e-05 - mean_squared_error: 9.7094e-05 - accuracy: 3.9032e-04 - val_loss: 0.0873 - val_mean_squared_error: 0.0873 - val_accuracy: 0.0000e+00\n",
      "Epoch 174/200\n",
      "257/257 [==============================] - 4s 16ms/step - loss: 9.7094e-05 - mean_squared_error: 9.7094e-05 - accuracy: 3.9032e-04 - val_loss: 0.0873 - val_mean_squared_error: 0.0873 - val_accuracy: 0.0000e+00\n",
      "Epoch 175/200\n",
      "257/257 [==============================] - 5s 19ms/step - loss: 9.7094e-05 - mean_squared_error: 9.7094e-05 - accuracy: 3.9032e-04 - val_loss: 0.0873 - val_mean_squared_error: 0.0873 - val_accuracy: 0.0000e+00\n",
      "Epoch 176/200\n",
      "257/257 [==============================] - 5s 20ms/step - loss: 9.7094e-05 - mean_squared_error: 9.7094e-05 - accuracy: 3.9032e-04 - val_loss: 0.0873 - val_mean_squared_error: 0.0873 - val_accuracy: 0.0000e+00\n",
      "Epoch 177/200\n",
      "257/257 [==============================] - 6s 23ms/step - loss: 9.7094e-05 - mean_squared_error: 9.7094e-05 - accuracy: 3.9032e-04 - val_loss: 0.0873 - val_mean_squared_error: 0.0873 - val_accuracy: 0.0000e+00\n",
      "Epoch 178/200\n",
      "257/257 [==============================] - 6s 22ms/step - loss: 9.7094e-05 - mean_squared_error: 9.7094e-05 - accuracy: 3.9032e-04 - val_loss: 0.0873 - val_mean_squared_error: 0.0873 - val_accuracy: 0.0000e+00\n",
      "Epoch 179/200\n",
      "257/257 [==============================] - 6s 22ms/step - loss: 9.7094e-05 - mean_squared_error: 9.7094e-05 - accuracy: 3.9032e-04 - val_loss: 0.0873 - val_mean_squared_error: 0.0873 - val_accuracy: 0.0000e+00\n",
      "Epoch 180/200\n",
      "257/257 [==============================] - 5s 18ms/step - loss: 9.7094e-05 - mean_squared_error: 9.7094e-05 - accuracy: 3.9032e-04 - val_loss: 0.0873 - val_mean_squared_error: 0.0873 - val_accuracy: 0.0000e+00\n",
      "Epoch 181/200\n",
      "257/257 [==============================] - 5s 19ms/step - loss: 9.7094e-05 - mean_squared_error: 9.7094e-05 - accuracy: 3.9032e-04 - val_loss: 0.0873 - val_mean_squared_error: 0.0873 - val_accuracy: 0.0000e+00\n",
      "Epoch 182/200\n",
      "257/257 [==============================] - 5s 18ms/step - loss: 9.7094e-05 - mean_squared_error: 9.7094e-05 - accuracy: 3.9032e-04 - val_loss: 0.0873 - val_mean_squared_error: 0.0873 - val_accuracy: 0.0000e+00\n",
      "Epoch 183/200\n",
      "257/257 [==============================] - 4s 17ms/step - loss: 9.7094e-05 - mean_squared_error: 9.7094e-05 - accuracy: 3.9032e-04 - val_loss: 0.0873 - val_mean_squared_error: 0.0873 - val_accuracy: 0.0000e+00\n",
      "Epoch 184/200\n",
      "257/257 [==============================] - 4s 16ms/step - loss: 9.7094e-05 - mean_squared_error: 9.7094e-05 - accuracy: 3.9032e-04 - val_loss: 0.0873 - val_mean_squared_error: 0.0873 - val_accuracy: 0.0000e+00\n",
      "Epoch 185/200\n",
      "257/257 [==============================] - 5s 18ms/step - loss: 9.7094e-05 - mean_squared_error: 9.7094e-05 - accuracy: 3.9032e-04 - val_loss: 0.0873 - val_mean_squared_error: 0.0873 - val_accuracy: 0.0000e+00\n",
      "Epoch 186/200\n",
      "257/257 [==============================] - 4s 15ms/step - loss: 9.7094e-05 - mean_squared_error: 9.7094e-05 - accuracy: 3.9032e-04 - val_loss: 0.0873 - val_mean_squared_error: 0.0873 - val_accuracy: 0.0000e+00\n",
      "Epoch 187/200\n",
      "257/257 [==============================] - 4s 14ms/step - loss: 9.7094e-05 - mean_squared_error: 9.7094e-05 - accuracy: 3.9032e-04 - val_loss: 0.0873 - val_mean_squared_error: 0.0873 - val_accuracy: 0.0000e+00\n",
      "Epoch 188/200\n",
      "257/257 [==============================] - 4s 14ms/step - loss: 9.7094e-05 - mean_squared_error: 9.7094e-05 - accuracy: 3.9032e-04 - val_loss: 0.0873 - val_mean_squared_error: 0.0873 - val_accuracy: 0.0000e+00\n",
      "Epoch 189/200\n",
      "257/257 [==============================] - 5s 21ms/step - loss: 9.7094e-05 - mean_squared_error: 9.7094e-05 - accuracy: 3.9032e-04 - val_loss: 0.0873 - val_mean_squared_error: 0.0873 - val_accuracy: 0.0000e+00\n",
      "Epoch 190/200\n",
      "257/257 [==============================] - 6s 22ms/step - loss: 9.7094e-05 - mean_squared_error: 9.7094e-05 - accuracy: 3.9032e-04 - val_loss: 0.0873 - val_mean_squared_error: 0.0873 - val_accuracy: 0.0000e+00\n",
      "Epoch 191/200\n",
      "257/257 [==============================] - 4s 17ms/step - loss: 9.7094e-05 - mean_squared_error: 9.7094e-05 - accuracy: 3.9032e-04 - val_loss: 0.0873 - val_mean_squared_error: 0.0873 - val_accuracy: 0.0000e+00\n",
      "Epoch 192/200\n",
      "257/257 [==============================] - 4s 17ms/step - loss: 9.7094e-05 - mean_squared_error: 9.7094e-05 - accuracy: 3.9032e-04 - val_loss: 0.0873 - val_mean_squared_error: 0.0873 - val_accuracy: 0.0000e+00\n",
      "Epoch 193/200\n",
      "257/257 [==============================] - 4s 16ms/step - loss: 9.7094e-05 - mean_squared_error: 9.7094e-05 - accuracy: 3.9032e-04 - val_loss: 0.0873 - val_mean_squared_error: 0.0873 - val_accuracy: 0.0000e+00\n",
      "Epoch 194/200\n",
      "257/257 [==============================] - 5s 19ms/step - loss: 9.7094e-05 - mean_squared_error: 9.7094e-05 - accuracy: 3.9032e-04 - val_loss: 0.0873 - val_mean_squared_error: 0.0873 - val_accuracy: 0.0000e+00\n",
      "Epoch 195/200\n",
      "257/257 [==============================] - 5s 19ms/step - loss: 9.7094e-05 - mean_squared_error: 9.7094e-05 - accuracy: 3.9032e-04 - val_loss: 0.0873 - val_mean_squared_error: 0.0873 - val_accuracy: 0.0000e+00\n",
      "Epoch 196/200\n",
      "257/257 [==============================] - 5s 18ms/step - loss: 9.7094e-05 - mean_squared_error: 9.7094e-05 - accuracy: 3.9032e-04 - val_loss: 0.0873 - val_mean_squared_error: 0.0873 - val_accuracy: 0.0000e+00\n",
      "Epoch 197/200\n",
      "257/257 [==============================] - 4s 16ms/step - loss: 9.7094e-05 - mean_squared_error: 9.7094e-05 - accuracy: 3.9032e-04 - val_loss: 0.0873 - val_mean_squared_error: 0.0873 - val_accuracy: 0.0000e+00\n",
      "Epoch 198/200\n",
      "257/257 [==============================] - 5s 20ms/step - loss: 9.7094e-05 - mean_squared_error: 9.7094e-05 - accuracy: 3.9032e-04 - val_loss: 0.0873 - val_mean_squared_error: 0.0873 - val_accuracy: 0.0000e+00\n",
      "Epoch 199/200\n",
      "257/257 [==============================] - 5s 18ms/step - loss: 9.7094e-05 - mean_squared_error: 9.7094e-05 - accuracy: 3.9032e-04 - val_loss: 0.0873 - val_mean_squared_error: 0.0873 - val_accuracy: 0.0000e+00\n",
      "Epoch 200/200\n",
      "257/257 [==============================] - 5s 18ms/step - loss: 9.7094e-05 - mean_squared_error: 9.7094e-05 - accuracy: 3.9032e-04 - val_loss: 0.0873 - val_mean_squared_error: 0.0873 - val_accuracy: 0.0000e+00\n"
     ]
    },
    {
     "data": {
      "text/plain": [
       "<keras.src.callbacks.History at 0x1c961a47290>"
      ]
     },
     "execution_count": 45,
     "metadata": {},
     "output_type": "execute_result"
    }
   ],
   "source": [
    "tuned_model.fit(X_train, y_train, validation_data=(X_test, y_test), batch_size=10, initial_epoch=6, epochs=200, shuffle=False, verbose=1)"
   ]
  },
  {
   "cell_type": "code",
   "execution_count": 46,
   "metadata": {},
   "outputs": [
    {
     "name": "stdout",
     "output_type": "stream",
     "text": [
      "81/81 [==============================] - 2s 10ms/step\n",
      "34/34 [==============================] - 0s 10ms/step\n"
     ]
    }
   ],
   "source": [
    "train_pred = tuned_model.predict(X_train)\n",
    "test_pred = tuned_model.predict(X_test)"
   ]
  },
  {
   "cell_type": "code",
   "execution_count": 47,
   "metadata": {},
   "outputs": [],
   "source": [
    "trained_pred = scaler.inverse_transform(train_pred)\n",
    "tested_pred = scaler.inverse_transform(test_pred)"
   ]
  },
  {
   "cell_type": "code",
   "execution_count": 48,
   "metadata": {},
   "outputs": [
    {
     "name": "stdout",
     "output_type": "stream",
     "text": [
      "34/34 [==============================] - 0s 11ms/step - loss: 0.0873 - mean_squared_error: 0.0873 - accuracy: 0.0000e+00\n"
     ]
    },
    {
     "data": {
      "text/plain": [
       "[0.08730446547269821, 0.08730446547269821, 0.0]"
      ]
     },
     "execution_count": 48,
     "metadata": {},
     "output_type": "execute_result"
    }
   ],
   "source": [
    "tuned_model.evaluate(X_test, y_test)"
   ]
  },
  {
   "cell_type": "code",
   "execution_count": 49,
   "metadata": {},
   "outputs": [
    {
     "name": "stdout",
     "output_type": "stream",
     "text": [
      "2.757694153608046\n",
      "26.471845743186268\n"
     ]
    }
   ],
   "source": [
    "train_err_val = math.sqrt(mse(y_train, train_pred))\n",
    "print(train_val)\n",
    "test_err_val = math.sqrt(mse(y_test, test_pred))\n",
    "print(test_val)"
   ]
  },
  {
   "cell_type": "markdown",
   "metadata": {},
   "source": [
    "Plotting the data"
   ]
  },
  {
   "cell_type": "code",
   "execution_count": 50,
   "metadata": {},
   "outputs": [
    {
     "data": {
      "image/png": "[encoded data removed]",
      "text/plain": [
       "<Figure size 640x480 with 1 Axes>"
      ]
     },
     "metadata": {},
     "output_type": "display_data"
    }
   ],
   "source": [
    "look_back=30\n",
    "trainPredictPlot = np.empty_like(df)\n",
    "trainPredictPlot[:, :] = np.nan\n",
    "trainPredictPlot[look_back:len(train_pred)+look_back, :] = trained_pred\n",
    "# shift test predictions for plotting\n",
    "testPredictPlot = np.empty_like(df)\n",
    "testPredictPlot[:, :] = np.nan\n",
    "testPredictPlot[len(train_pred)+(look_back*2)+1:len(df)-1, :] = tested_pred\n",
    "# plot baseline and predictions\n",
    "plt.plot(scaler.inverse_transform(df))\n",
    "plt.plot(trainPredictPlot)\n",
    "plt.plot(testPredictPlot)\n",
    "plt.show()"
   ]
  },
  {
   "cell_type": "markdown",
   "metadata": {},
   "source": [
    "Predicting future 10 days and plotting the output"
   ]
  },
  {
   "cell_type": "code",
   "execution_count": 32,
   "metadata": {},
   "outputs": [
    {
     "data": {
      "text/plain": [
       "(1, 30)"
      ]
     },
     "execution_count": 32,
     "metadata": {},
     "output_type": "execute_result"
    }
   ],
   "source": [
    "x_input=test_data[-30:].reshape(1,-1)\n",
    "x_input.shape"
   ]
  },
  {
   "cell_type": "code",
   "execution_count": 33,
   "metadata": {},
   "outputs": [
    {
     "data": {
      "text/plain": [
       "[0.9067701772827738,\n",
       " 0.9010662926186629,\n",
       " 0.9060182283660333,\n",
       " 0.9092643043596141,\n",
       " 0.902343753084104]"
      ]
     },
     "execution_count": 33,
     "metadata": {},
     "output_type": "execute_result"
    }
   ],
   "source": [
    "temp_input=list(x_input)\n",
    "temp_input=temp_input[0].tolist()\n",
    "temp_input[:5]"
   ]
  },
  {
   "cell_type": "code",
   "execution_count": 34,
   "metadata": {},
   "outputs": [
    {
     "name": "stdout",
     "output_type": "stream",
     "text": [
      "[[0.9783540964126587], [0.9991809129714966], [1.0122261047363281], [1.021923542022705], [1.0312589406967163], [1.0376251935958862], [1.0388591289520264], [1.0351688861846924], [1.028056263923645], [1.0196170806884766]]\n"
     ]
    }
   ],
   "source": [
    "from numpy import array\n",
    "\n",
    "lst_output=[]\n",
    "n_steps=30\n",
    "i=0\n",
    "while(i<10):\n",
    "    \n",
    "    if(len(temp_input)>30):\n",
    "        #print(temp_input)\n",
    "        x_input=np.array(temp_input[1:])\n",
    "        # print(\"{} day input {}\".format(i,x_input))\n",
    "        x_input=x_input.reshape(1,-1)\n",
    "        x_input = x_input.reshape((1, n_steps, 1))\n",
    "        #print(x_input)\n",
    "        yhat = tuned_model.predict(x_input, verbose=0)\n",
    "        # print(\"{} day output {}\".format(i,yhat))\n",
    "        temp_input.extend(yhat[0].tolist())\n",
    "        temp_input=temp_input[1:]\n",
    "        #print(temp_input)\n",
    "        lst_output.extend(yhat.tolist())\n",
    "        i=i+1\n",
    "    else:\n",
    "        x_input = x_input.reshape((1, n_steps,1))\n",
    "        yhat = tuned_model.predict(x_input, verbose=0)\n",
    "        # print(yhat[0])\n",
    "        temp_input.extend(yhat[0].tolist())\n",
    "        # print(len(temp_input))\n",
    "        lst_output.extend(yhat.tolist())\n",
    "        i=i+1\n",
    "    \n",
    "\n",
    "print(lst_output)"
   ]
  },
  {
   "cell_type": "code",
   "execution_count": 35,
   "metadata": {},
   "outputs": [],
   "source": [
    "day_new=np.arange(1,31)\n",
    "day_pred=np.arange(31,41)"
   ]
  },
  {
   "cell_type": "code",
   "execution_count": 36,
   "metadata": {},
   "outputs": [
    {
     "data": {
      "text/plain": [
       "[<matplotlib.lines.Line2D at 0x274b1ec8700>]"
      ]
     },
     "execution_count": 36,
     "metadata": {},
     "output_type": "execute_result"
    },
    {
     "data": {
      "image/png": "[encoded data removed]",
      "text/plain": [
       "<Figure size 432x288 with 1 Axes>"
      ]
     },
     "metadata": {
      "needs_background": "light"
     },
     "output_type": "display_data"
    }
   ],
   "source": [
    "plt.plot(day_new,scaler.inverse_transform(df[(len(df)-30):]))\n",
    "plt.plot(day_pred,scaler.inverse_transform(lst_output))"
   ]
  },
  {
   "cell_type": "code",
   "execution_count": 37,
   "metadata": {},
   "outputs": [
    {
     "data": {
      "text/plain": [
       "array([[19711.41436529],\n",
       "       [19969.01918476],\n",
       "       [20130.37386227],\n",
       "       [20250.32049811],\n",
       "       [20365.78911442],\n",
       "       [20444.53266239],\n",
       "       [20459.7950859 ],\n",
       "       [20414.15084069],\n",
       "       [20326.17552443],\n",
       "       [20221.79210762]])"
      ]
     },
     "execution_count": 37,
     "metadata": {},
     "output_type": "execute_result"
    }
   ],
   "source": [
    "new_days = scaler.inverse_transform(lst_output)\n",
    "new_days"
   ]
  },
  {
   "cell_type": "code",
   "execution_count": 44,
   "metadata": {},
   "outputs": [],
   "source": [
    "tuned_model.save('C:/Users/Home/Desktop/i_hate_this/StockPricePrediction/artifacts/models/tuned_model.h5')\n",
    "tuned_model.save('tuned_model.h5')"
   ]
  },
  {
   "cell_type": "code",
   "execution_count": null,
   "metadata": {},
   "outputs": [],
   "source": []
  }
 ],
 "metadata": {
  "kernelspec": {
   "display_name": "Python 3 (ipykernel)",
   "language": "python",
   "name": "python3"
  },
  "language_info": {
   "codemirror_mode": {
    "name": "ipython",
    "version": 3
   },
   "file_extension": ".py",
   "mimetype": "text/x-python",
   "name": "python",
   "nbconvert_exporter": "python",
   "pygments_lexer": "ipython3",
   "version": "3.11.5"
  }
 },
 "nbformat": 4,
 "nbformat_minor": 2
}
